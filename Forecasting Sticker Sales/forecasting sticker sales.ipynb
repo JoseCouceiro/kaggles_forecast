{
 "cells": [
  {
   "cell_type": "code",
   "execution_count": 61,
   "metadata": {},
   "outputs": [],
   "source": [
    "# Data manipulation\n",
    "# ==============================================================================\n",
    "import numpy as np\n",
    "import pandas as pd\n",
    "\n",
    "# Plots\n",
    "# ==============================================================================\n",
    "import matplotlib.pyplot as plt\n",
    "plt.style.use('fivethirtyeight')\n",
    "plt.rcParams['lines.linewidth'] = 1\n",
    "plt.rcParams['font.size'] = 10\n",
    "\n",
    "# Modeling and Forecasting\n",
    "# ==============================================================================\n",
    "import sklearn\n",
    "from sklearn.linear_model import Ridge\n",
    "\n",
    "from sklearn.ensemble import RandomForestRegressor\n",
    "from lightgbm import LGBMRegressor\n",
    "from sklearn.svm import SVR\n",
    "from sklearn.linear_model import BayesianRidge\n",
    "from skforecast.recursive import ForecasterSarimax\n",
    "\n",
    "from sklearn.metrics import root_mean_squared_error\n",
    "from sklearn.metrics import mean_absolute_percentage_error\n",
    "from sklearn.metrics import mean_squared_error\n",
    "from sklearn.metrics import mean_absolute_error\n",
    "from sklearn.preprocessing import StandardScaler\n",
    "import skforecast\n",
    "from skforecast.recursive import ForecasterRecursive\n",
    "from skforecast.direct import ForecasterDirect\n",
    "from skforecast.model_selection import TimeSeriesFold\n",
    "from skforecast.model_selection import grid_search_forecaster\n",
    "\n",
    "import shap\n",
    "\n",
    "import warnings"
   ]
  },
  {
   "cell_type": "code",
   "execution_count": 62,
   "metadata": {},
   "outputs": [],
   "source": [
    "# Data load\n",
    "# ==============================================================================\n",
    "train = pd.read_csv('data/train.csv')\n",
    "test = pd.read_csv('data/test.csv')\n",
    "sample_submission = pd.read_csv('data/sample_submission.csv')"
   ]
  },
  {
   "cell_type": "code",
   "execution_count": 63,
   "metadata": {},
   "outputs": [
    {
     "data": {
      "text/html": [
       "<div>\n",
       "<style scoped>\n",
       "    .dataframe tbody tr th:only-of-type {\n",
       "        vertical-align: middle;\n",
       "    }\n",
       "\n",
       "    .dataframe tbody tr th {\n",
       "        vertical-align: top;\n",
       "    }\n",
       "\n",
       "    .dataframe thead th {\n",
       "        text-align: right;\n",
       "    }\n",
       "</style>\n",
       "<table border=\"1\" class=\"dataframe\">\n",
       "  <thead>\n",
       "    <tr style=\"text-align: right;\">\n",
       "      <th></th>\n",
       "      <th>id</th>\n",
       "      <th>date</th>\n",
       "      <th>country</th>\n",
       "      <th>store</th>\n",
       "      <th>product</th>\n",
       "      <th>num_sold</th>\n",
       "    </tr>\n",
       "  </thead>\n",
       "  <tbody>\n",
       "    <tr>\n",
       "      <th>0</th>\n",
       "      <td>0</td>\n",
       "      <td>2010-01-01</td>\n",
       "      <td>Canada</td>\n",
       "      <td>Discount Stickers</td>\n",
       "      <td>Holographic Goose</td>\n",
       "      <td>NaN</td>\n",
       "    </tr>\n",
       "    <tr>\n",
       "      <th>1</th>\n",
       "      <td>1</td>\n",
       "      <td>2010-01-01</td>\n",
       "      <td>Canada</td>\n",
       "      <td>Discount Stickers</td>\n",
       "      <td>Kaggle</td>\n",
       "      <td>973.0</td>\n",
       "    </tr>\n",
       "    <tr>\n",
       "      <th>2</th>\n",
       "      <td>2</td>\n",
       "      <td>2010-01-01</td>\n",
       "      <td>Canada</td>\n",
       "      <td>Discount Stickers</td>\n",
       "      <td>Kaggle Tiers</td>\n",
       "      <td>906.0</td>\n",
       "    </tr>\n",
       "    <tr>\n",
       "      <th>3</th>\n",
       "      <td>3</td>\n",
       "      <td>2010-01-01</td>\n",
       "      <td>Canada</td>\n",
       "      <td>Discount Stickers</td>\n",
       "      <td>Kerneler</td>\n",
       "      <td>423.0</td>\n",
       "    </tr>\n",
       "    <tr>\n",
       "      <th>4</th>\n",
       "      <td>4</td>\n",
       "      <td>2010-01-01</td>\n",
       "      <td>Canada</td>\n",
       "      <td>Discount Stickers</td>\n",
       "      <td>Kerneler Dark Mode</td>\n",
       "      <td>491.0</td>\n",
       "    </tr>\n",
       "    <tr>\n",
       "      <th>5</th>\n",
       "      <td>5</td>\n",
       "      <td>2010-01-01</td>\n",
       "      <td>Canada</td>\n",
       "      <td>Stickers for Less</td>\n",
       "      <td>Holographic Goose</td>\n",
       "      <td>300.0</td>\n",
       "    </tr>\n",
       "    <tr>\n",
       "      <th>6</th>\n",
       "      <td>6</td>\n",
       "      <td>2010-01-01</td>\n",
       "      <td>Canada</td>\n",
       "      <td>Stickers for Less</td>\n",
       "      <td>Kaggle</td>\n",
       "      <td>1837.0</td>\n",
       "    </tr>\n",
       "    <tr>\n",
       "      <th>7</th>\n",
       "      <td>7</td>\n",
       "      <td>2010-01-01</td>\n",
       "      <td>Canada</td>\n",
       "      <td>Stickers for Less</td>\n",
       "      <td>Kaggle Tiers</td>\n",
       "      <td>1659.0</td>\n",
       "    </tr>\n",
       "    <tr>\n",
       "      <th>8</th>\n",
       "      <td>8</td>\n",
       "      <td>2010-01-01</td>\n",
       "      <td>Canada</td>\n",
       "      <td>Stickers for Less</td>\n",
       "      <td>Kerneler</td>\n",
       "      <td>807.0</td>\n",
       "    </tr>\n",
       "    <tr>\n",
       "      <th>9</th>\n",
       "      <td>9</td>\n",
       "      <td>2010-01-01</td>\n",
       "      <td>Canada</td>\n",
       "      <td>Stickers for Less</td>\n",
       "      <td>Kerneler Dark Mode</td>\n",
       "      <td>940.0</td>\n",
       "    </tr>\n",
       "  </tbody>\n",
       "</table>\n",
       "</div>"
      ],
      "text/plain": [
       "   id        date country              store             product  num_sold\n",
       "0   0  2010-01-01  Canada  Discount Stickers   Holographic Goose       NaN\n",
       "1   1  2010-01-01  Canada  Discount Stickers              Kaggle     973.0\n",
       "2   2  2010-01-01  Canada  Discount Stickers        Kaggle Tiers     906.0\n",
       "3   3  2010-01-01  Canada  Discount Stickers            Kerneler     423.0\n",
       "4   4  2010-01-01  Canada  Discount Stickers  Kerneler Dark Mode     491.0\n",
       "5   5  2010-01-01  Canada  Stickers for Less   Holographic Goose     300.0\n",
       "6   6  2010-01-01  Canada  Stickers for Less              Kaggle    1837.0\n",
       "7   7  2010-01-01  Canada  Stickers for Less        Kaggle Tiers    1659.0\n",
       "8   8  2010-01-01  Canada  Stickers for Less            Kerneler     807.0\n",
       "9   9  2010-01-01  Canada  Stickers for Less  Kerneler Dark Mode     940.0"
      ]
     },
     "execution_count": 63,
     "metadata": {},
     "output_type": "execute_result"
    }
   ],
   "source": [
    "train.head(10)"
   ]
  },
  {
   "cell_type": "code",
   "execution_count": 64,
   "metadata": {},
   "outputs": [
    {
     "data": {
      "text/html": [
       "<div>\n",
       "<style scoped>\n",
       "    .dataframe tbody tr th:only-of-type {\n",
       "        vertical-align: middle;\n",
       "    }\n",
       "\n",
       "    .dataframe tbody tr th {\n",
       "        vertical-align: top;\n",
       "    }\n",
       "\n",
       "    .dataframe thead th {\n",
       "        text-align: right;\n",
       "    }\n",
       "</style>\n",
       "<table border=\"1\" class=\"dataframe\">\n",
       "  <thead>\n",
       "    <tr style=\"text-align: right;\">\n",
       "      <th></th>\n",
       "      <th>id</th>\n",
       "      <th>date</th>\n",
       "      <th>country</th>\n",
       "      <th>store</th>\n",
       "      <th>product</th>\n",
       "      <th>num_sold</th>\n",
       "    </tr>\n",
       "  </thead>\n",
       "  <tbody>\n",
       "    <tr>\n",
       "      <th>230125</th>\n",
       "      <td>230125</td>\n",
       "      <td>2016-12-31</td>\n",
       "      <td>Singapore</td>\n",
       "      <td>Premium Sticker Mart</td>\n",
       "      <td>Holographic Goose</td>\n",
       "      <td>466.0</td>\n",
       "    </tr>\n",
       "    <tr>\n",
       "      <th>230126</th>\n",
       "      <td>230126</td>\n",
       "      <td>2016-12-31</td>\n",
       "      <td>Singapore</td>\n",
       "      <td>Premium Sticker Mart</td>\n",
       "      <td>Kaggle</td>\n",
       "      <td>2907.0</td>\n",
       "    </tr>\n",
       "    <tr>\n",
       "      <th>230127</th>\n",
       "      <td>230127</td>\n",
       "      <td>2016-12-31</td>\n",
       "      <td>Singapore</td>\n",
       "      <td>Premium Sticker Mart</td>\n",
       "      <td>Kaggle Tiers</td>\n",
       "      <td>2299.0</td>\n",
       "    </tr>\n",
       "    <tr>\n",
       "      <th>230128</th>\n",
       "      <td>230128</td>\n",
       "      <td>2016-12-31</td>\n",
       "      <td>Singapore</td>\n",
       "      <td>Premium Sticker Mart</td>\n",
       "      <td>Kerneler</td>\n",
       "      <td>1242.0</td>\n",
       "    </tr>\n",
       "    <tr>\n",
       "      <th>230129</th>\n",
       "      <td>230129</td>\n",
       "      <td>2016-12-31</td>\n",
       "      <td>Singapore</td>\n",
       "      <td>Premium Sticker Mart</td>\n",
       "      <td>Kerneler Dark Mode</td>\n",
       "      <td>1622.0</td>\n",
       "    </tr>\n",
       "  </tbody>\n",
       "</table>\n",
       "</div>"
      ],
      "text/plain": [
       "            id        date    country                 store  \\\n",
       "230125  230125  2016-12-31  Singapore  Premium Sticker Mart   \n",
       "230126  230126  2016-12-31  Singapore  Premium Sticker Mart   \n",
       "230127  230127  2016-12-31  Singapore  Premium Sticker Mart   \n",
       "230128  230128  2016-12-31  Singapore  Premium Sticker Mart   \n",
       "230129  230129  2016-12-31  Singapore  Premium Sticker Mart   \n",
       "\n",
       "                   product  num_sold  \n",
       "230125   Holographic Goose     466.0  \n",
       "230126              Kaggle    2907.0  \n",
       "230127        Kaggle Tiers    2299.0  \n",
       "230128            Kerneler    1242.0  \n",
       "230129  Kerneler Dark Mode    1622.0  "
      ]
     },
     "execution_count": 64,
     "metadata": {},
     "output_type": "execute_result"
    }
   ],
   "source": [
    "train.tail()"
   ]
  },
  {
   "cell_type": "markdown",
   "metadata": {},
   "source": [
    "There are several repeated dates, I am going to analize how many distinct entries there are for each unique date. With this purpose, I am going to group by date, which will return the different combinations in each date."
   ]
  },
  {
   "cell_type": "code",
   "execution_count": 65,
   "metadata": {},
   "outputs": [
    {
     "name": "stdout",
     "output_type": "stream",
     "text": [
      "<class 'pandas.core.series.Series'>\n",
      "Index: 2557 entries, 2010-01-01 to 2016-12-31\n",
      "Series name: None\n",
      "Non-Null Count  Dtype\n",
      "--------------  -----\n",
      "2557 non-null   int64\n",
      "dtypes: int64(1)\n",
      "memory usage: 40.0+ KB\n"
     ]
    }
   ],
   "source": [
    "groups_by_date = train.groupby(['date']).size()\n",
    "groups_by_date.info()"
   ]
  },
  {
   "cell_type": "code",
   "execution_count": 67,
   "metadata": {},
   "outputs": [
    {
     "data": {
      "text/plain": [
       "90    2557\n",
       "Name: count, dtype: int64"
      ]
     },
     "execution_count": 67,
     "metadata": {},
     "output_type": "execute_result"
    }
   ],
   "source": [
    "n_groups_by_date = groups_by_date.value_counts()\n",
    "n_groups_by_date"
   ]
  },
  {
   "cell_type": "code",
   "execution_count": 68,
   "metadata": {},
   "outputs": [],
   "source": [
    "n_dates= list(n_groups_by_date)[0]"
   ]
  },
  {
   "cell_type": "code",
   "execution_count": 69,
   "metadata": {},
   "outputs": [],
   "source": [
    "n_groups=list(n_groups_by_date.index)[0]"
   ]
  },
  {
   "cell_type": "code",
   "execution_count": 70,
   "metadata": {},
   "outputs": [
    {
     "name": "stdout",
     "output_type": "stream",
     "text": [
      "There are 90 different combinations of 'country', 'store' and 'product' for each individual date, of which there are 2557.\n"
     ]
    }
   ],
   "source": [
    "print(f\"There are {n_groups} different combinations of 'country', 'store' and 'product' for each individual date, of which there are {n_dates}.\")"
   ]
  },
  {
   "cell_type": "markdown",
   "metadata": {},
   "source": [
    "I need to predict each combination individually. To facilitate the automatization of the predictions, I will store all the different dataframes each containing a different product, store and country in a dictionary.  "
   ]
  },
  {
   "cell_type": "code",
   "execution_count": 71,
   "metadata": {},
   "outputs": [
    {
     "name": "stdout",
     "output_type": "stream",
     "text": [
      "datetime64[ns]\n"
     ]
    }
   ],
   "source": [
    "# Data preparation\n",
    "# ==============================================================================\n",
    "train['date'] = pd.to_datetime(train['date'], format='%Y-%m-%d')\n",
    "print(train['date'].dtypes)\n",
    "train = train.set_index('date')\n",
    "train = train.sort_index()"
   ]
  },
  {
   "cell_type": "code",
   "execution_count": 72,
   "metadata": {},
   "outputs": [],
   "source": [
    "grouped = train.groupby(['country','store','product'])"
   ]
  },
  {
   "cell_type": "code",
   "execution_count": 73,
   "metadata": {},
   "outputs": [],
   "source": [
    "grouped_dataframes = {key: group for key, group in grouped}"
   ]
  },
  {
   "cell_type": "code",
   "execution_count": 74,
   "metadata": {},
   "outputs": [],
   "source": [
    "# Data preparation\n",
    "# ==============================================================================\n",
    "for key in grouped_dataframes.keys():\n",
    "    grouped_dataframes[key] = grouped_dataframes[key].asfreq('D')\n",
    "    grouped_dataframes[key] = grouped_dataframes[key].sort_index()"
   ]
  },
  {
   "cell_type": "code",
   "execution_count": 83,
   "metadata": {},
   "outputs": [],
   "source": [
    "rebuild_df = pd.concat(grouped_dataframes.values()) \n"
   ]
  },
  {
   "cell_type": "code",
   "execution_count": 84,
   "metadata": {},
   "outputs": [
    {
     "data": {
      "text/html": [
       "<div>\n",
       "<style scoped>\n",
       "    .dataframe tbody tr th:only-of-type {\n",
       "        vertical-align: middle;\n",
       "    }\n",
       "\n",
       "    .dataframe tbody tr th {\n",
       "        vertical-align: top;\n",
       "    }\n",
       "\n",
       "    .dataframe thead th {\n",
       "        text-align: right;\n",
       "    }\n",
       "</style>\n",
       "<table border=\"1\" class=\"dataframe\">\n",
       "  <thead>\n",
       "    <tr style=\"text-align: right;\">\n",
       "      <th></th>\n",
       "      <th>id</th>\n",
       "      <th>country</th>\n",
       "      <th>store</th>\n",
       "      <th>product</th>\n",
       "      <th>num_sold</th>\n",
       "      <th>preds</th>\n",
       "    </tr>\n",
       "    <tr>\n",
       "      <th>date</th>\n",
       "      <th></th>\n",
       "      <th></th>\n",
       "      <th></th>\n",
       "      <th></th>\n",
       "      <th></th>\n",
       "      <th></th>\n",
       "    </tr>\n",
       "  </thead>\n",
       "  <tbody>\n",
       "    <tr>\n",
       "      <th>2010-01-01</th>\n",
       "      <td>0</td>\n",
       "      <td>Canada</td>\n",
       "      <td>Discount Stickers</td>\n",
       "      <td>Holographic Goose</td>\n",
       "      <td>NaN</td>\n",
       "      <td>1</td>\n",
       "    </tr>\n",
       "    <tr>\n",
       "      <th>2010-01-01</th>\n",
       "      <td>1</td>\n",
       "      <td>Canada</td>\n",
       "      <td>Discount Stickers</td>\n",
       "      <td>Kaggle</td>\n",
       "      <td>973.0</td>\n",
       "      <td>1</td>\n",
       "    </tr>\n",
       "    <tr>\n",
       "      <th>2010-01-01</th>\n",
       "      <td>2</td>\n",
       "      <td>Canada</td>\n",
       "      <td>Discount Stickers</td>\n",
       "      <td>Kaggle Tiers</td>\n",
       "      <td>906.0</td>\n",
       "      <td>1</td>\n",
       "    </tr>\n",
       "    <tr>\n",
       "      <th>2010-01-01</th>\n",
       "      <td>3</td>\n",
       "      <td>Canada</td>\n",
       "      <td>Discount Stickers</td>\n",
       "      <td>Kerneler</td>\n",
       "      <td>423.0</td>\n",
       "      <td>1</td>\n",
       "    </tr>\n",
       "    <tr>\n",
       "      <th>2010-01-01</th>\n",
       "      <td>4</td>\n",
       "      <td>Canada</td>\n",
       "      <td>Discount Stickers</td>\n",
       "      <td>Kerneler Dark Mode</td>\n",
       "      <td>491.0</td>\n",
       "      <td>1</td>\n",
       "    </tr>\n",
       "    <tr>\n",
       "      <th>...</th>\n",
       "      <td>...</td>\n",
       "      <td>...</td>\n",
       "      <td>...</td>\n",
       "      <td>...</td>\n",
       "      <td>...</td>\n",
       "      <td>...</td>\n",
       "    </tr>\n",
       "    <tr>\n",
       "      <th>2016-12-31</th>\n",
       "      <td>230125</td>\n",
       "      <td>Singapore</td>\n",
       "      <td>Premium Sticker Mart</td>\n",
       "      <td>Holographic Goose</td>\n",
       "      <td>466.0</td>\n",
       "      <td>1</td>\n",
       "    </tr>\n",
       "    <tr>\n",
       "      <th>2016-12-31</th>\n",
       "      <td>230126</td>\n",
       "      <td>Singapore</td>\n",
       "      <td>Premium Sticker Mart</td>\n",
       "      <td>Kaggle</td>\n",
       "      <td>2907.0</td>\n",
       "      <td>1</td>\n",
       "    </tr>\n",
       "    <tr>\n",
       "      <th>2016-12-31</th>\n",
       "      <td>230127</td>\n",
       "      <td>Singapore</td>\n",
       "      <td>Premium Sticker Mart</td>\n",
       "      <td>Kaggle Tiers</td>\n",
       "      <td>2299.0</td>\n",
       "      <td>1</td>\n",
       "    </tr>\n",
       "    <tr>\n",
       "      <th>2016-12-31</th>\n",
       "      <td>230128</td>\n",
       "      <td>Singapore</td>\n",
       "      <td>Premium Sticker Mart</td>\n",
       "      <td>Kerneler</td>\n",
       "      <td>1242.0</td>\n",
       "      <td>1</td>\n",
       "    </tr>\n",
       "    <tr>\n",
       "      <th>2016-12-31</th>\n",
       "      <td>230129</td>\n",
       "      <td>Singapore</td>\n",
       "      <td>Premium Sticker Mart</td>\n",
       "      <td>Kerneler Dark Mode</td>\n",
       "      <td>1622.0</td>\n",
       "      <td>1</td>\n",
       "    </tr>\n",
       "  </tbody>\n",
       "</table>\n",
       "<p>230130 rows × 6 columns</p>\n",
       "</div>"
      ],
      "text/plain": [
       "                id    country                 store             product  \\\n",
       "date                                                                      \n",
       "2010-01-01       0     Canada     Discount Stickers   Holographic Goose   \n",
       "2010-01-01       1     Canada     Discount Stickers              Kaggle   \n",
       "2010-01-01       2     Canada     Discount Stickers        Kaggle Tiers   \n",
       "2010-01-01       3     Canada     Discount Stickers            Kerneler   \n",
       "2010-01-01       4     Canada     Discount Stickers  Kerneler Dark Mode   \n",
       "...            ...        ...                   ...                 ...   \n",
       "2016-12-31  230125  Singapore  Premium Sticker Mart   Holographic Goose   \n",
       "2016-12-31  230126  Singapore  Premium Sticker Mart              Kaggle   \n",
       "2016-12-31  230127  Singapore  Premium Sticker Mart        Kaggle Tiers   \n",
       "2016-12-31  230128  Singapore  Premium Sticker Mart            Kerneler   \n",
       "2016-12-31  230129  Singapore  Premium Sticker Mart  Kerneler Dark Mode   \n",
       "\n",
       "            num_sold  preds  \n",
       "date                         \n",
       "2010-01-01       NaN      1  \n",
       "2010-01-01     973.0      1  \n",
       "2010-01-01     906.0      1  \n",
       "2010-01-01     423.0      1  \n",
       "2010-01-01     491.0      1  \n",
       "...              ...    ...  \n",
       "2016-12-31     466.0      1  \n",
       "2016-12-31    2907.0      1  \n",
       "2016-12-31    2299.0      1  \n",
       "2016-12-31    1242.0      1  \n",
       "2016-12-31    1622.0      1  \n",
       "\n",
       "[230130 rows x 6 columns]"
      ]
     },
     "execution_count": 84,
     "metadata": {},
     "output_type": "execute_result"
    }
   ],
   "source": [
    "rebuild_df.sort_values('id')"
   ]
  },
  {
   "cell_type": "markdown",
   "metadata": {},
   "source": [
    "usamos este loop para, si en todo NaNs, cambiarlo todo por zeroes\n",
    "si hay algunos NaNs, cambiarlo por la media de los puntos anterior y posterior"
   ]
  },
  {
   "cell_type": "code",
   "execution_count": 14,
   "metadata": {},
   "outputs": [],
   "source": [
    "example_df= grouped_dataframes[('Finland', 'Discount Stickers', 'Kaggle Tiers')]"
   ]
  },
  {
   "cell_type": "code",
   "execution_count": 15,
   "metadata": {},
   "outputs": [
    {
     "data": {
      "text/html": [
       "<div>\n",
       "<style scoped>\n",
       "    .dataframe tbody tr th:only-of-type {\n",
       "        vertical-align: middle;\n",
       "    }\n",
       "\n",
       "    .dataframe tbody tr th {\n",
       "        vertical-align: top;\n",
       "    }\n",
       "\n",
       "    .dataframe thead th {\n",
       "        text-align: right;\n",
       "    }\n",
       "</style>\n",
       "<table border=\"1\" class=\"dataframe\">\n",
       "  <thead>\n",
       "    <tr style=\"text-align: right;\">\n",
       "      <th></th>\n",
       "      <th>id</th>\n",
       "      <th>country</th>\n",
       "      <th>store</th>\n",
       "      <th>product</th>\n",
       "      <th>num_sold</th>\n",
       "    </tr>\n",
       "    <tr>\n",
       "      <th>date</th>\n",
       "      <th></th>\n",
       "      <th></th>\n",
       "      <th></th>\n",
       "      <th></th>\n",
       "      <th></th>\n",
       "    </tr>\n",
       "  </thead>\n",
       "  <tbody>\n",
       "    <tr>\n",
       "      <th>2010-01-01</th>\n",
       "      <td>17</td>\n",
       "      <td>Finland</td>\n",
       "      <td>Discount Stickers</td>\n",
       "      <td>Kaggle Tiers</td>\n",
       "      <td>774.0</td>\n",
       "    </tr>\n",
       "    <tr>\n",
       "      <th>2010-01-02</th>\n",
       "      <td>107</td>\n",
       "      <td>Finland</td>\n",
       "      <td>Discount Stickers</td>\n",
       "      <td>Kaggle Tiers</td>\n",
       "      <td>764.0</td>\n",
       "    </tr>\n",
       "    <tr>\n",
       "      <th>2010-01-03</th>\n",
       "      <td>197</td>\n",
       "      <td>Finland</td>\n",
       "      <td>Discount Stickers</td>\n",
       "      <td>Kaggle Tiers</td>\n",
       "      <td>815.0</td>\n",
       "    </tr>\n",
       "    <tr>\n",
       "      <th>2010-01-04</th>\n",
       "      <td>287</td>\n",
       "      <td>Finland</td>\n",
       "      <td>Discount Stickers</td>\n",
       "      <td>Kaggle Tiers</td>\n",
       "      <td>664.0</td>\n",
       "    </tr>\n",
       "    <tr>\n",
       "      <th>2010-01-05</th>\n",
       "      <td>377</td>\n",
       "      <td>Finland</td>\n",
       "      <td>Discount Stickers</td>\n",
       "      <td>Kaggle Tiers</td>\n",
       "      <td>608.0</td>\n",
       "    </tr>\n",
       "    <tr>\n",
       "      <th>...</th>\n",
       "      <td>...</td>\n",
       "      <td>...</td>\n",
       "      <td>...</td>\n",
       "      <td>...</td>\n",
       "      <td>...</td>\n",
       "    </tr>\n",
       "    <tr>\n",
       "      <th>2016-12-27</th>\n",
       "      <td>229697</td>\n",
       "      <td>Finland</td>\n",
       "      <td>Discount Stickers</td>\n",
       "      <td>Kaggle Tiers</td>\n",
       "      <td>585.0</td>\n",
       "    </tr>\n",
       "    <tr>\n",
       "      <th>2016-12-28</th>\n",
       "      <td>229787</td>\n",
       "      <td>Finland</td>\n",
       "      <td>Discount Stickers</td>\n",
       "      <td>Kaggle Tiers</td>\n",
       "      <td>657.0</td>\n",
       "    </tr>\n",
       "    <tr>\n",
       "      <th>2016-12-29</th>\n",
       "      <td>229877</td>\n",
       "      <td>Finland</td>\n",
       "      <td>Discount Stickers</td>\n",
       "      <td>Kaggle Tiers</td>\n",
       "      <td>722.0</td>\n",
       "    </tr>\n",
       "    <tr>\n",
       "      <th>2016-12-30</th>\n",
       "      <td>229967</td>\n",
       "      <td>Finland</td>\n",
       "      <td>Discount Stickers</td>\n",
       "      <td>Kaggle Tiers</td>\n",
       "      <td>702.0</td>\n",
       "    </tr>\n",
       "    <tr>\n",
       "      <th>2016-12-31</th>\n",
       "      <td>230057</td>\n",
       "      <td>Finland</td>\n",
       "      <td>Discount Stickers</td>\n",
       "      <td>Kaggle Tiers</td>\n",
       "      <td>777.0</td>\n",
       "    </tr>\n",
       "  </tbody>\n",
       "</table>\n",
       "<p>2557 rows × 5 columns</p>\n",
       "</div>"
      ],
      "text/plain": [
       "                id  country              store       product  num_sold\n",
       "date                                                                  \n",
       "2010-01-01      17  Finland  Discount Stickers  Kaggle Tiers     774.0\n",
       "2010-01-02     107  Finland  Discount Stickers  Kaggle Tiers     764.0\n",
       "2010-01-03     197  Finland  Discount Stickers  Kaggle Tiers     815.0\n",
       "2010-01-04     287  Finland  Discount Stickers  Kaggle Tiers     664.0\n",
       "2010-01-05     377  Finland  Discount Stickers  Kaggle Tiers     608.0\n",
       "...            ...      ...                ...           ...       ...\n",
       "2016-12-27  229697  Finland  Discount Stickers  Kaggle Tiers     585.0\n",
       "2016-12-28  229787  Finland  Discount Stickers  Kaggle Tiers     657.0\n",
       "2016-12-29  229877  Finland  Discount Stickers  Kaggle Tiers     722.0\n",
       "2016-12-30  229967  Finland  Discount Stickers  Kaggle Tiers     702.0\n",
       "2016-12-31  230057  Finland  Discount Stickers  Kaggle Tiers     777.0\n",
       "\n",
       "[2557 rows x 5 columns]"
      ]
     },
     "execution_count": 15,
     "metadata": {},
     "output_type": "execute_result"
    }
   ],
   "source": [
    "example_df"
   ]
  },
  {
   "cell_type": "code",
   "execution_count": 16,
   "metadata": {},
   "outputs": [
    {
     "data": {
      "text/plain": [
       "0"
      ]
     },
     "execution_count": 16,
     "metadata": {},
     "output_type": "execute_result"
    }
   ],
   "source": [
    "example_df['num_sold'].isna().sum()"
   ]
  },
  {
   "cell_type": "code",
   "execution_count": 17,
   "metadata": {},
   "outputs": [],
   "source": [
    "def fill_with_mean_neighbor(series):\n",
    "    for i in range(len(series)):\n",
    "        if pd.isna(series.iloc[i]):  # Verificar si es NaN\n",
    "            # Obtener el valor anterior y posterior\n",
    "            prev_val = series.iloc[i - 1] if i > 0 else np.nan\n",
    "            next_val = series.iloc[i + 1] if i < len(series) - 1 else np.nan\n",
    "            \n",
    "            # Calcular la media de los valores no nulos\n",
    "            neighbors = [val for val in [prev_val, next_val] if not pd.isna(val)]\n",
    "            series.iloc[i] = np.mean(neighbors) if neighbors else np.nan\n",
    "    return series"
   ]
  },
  {
   "cell_type": "code",
   "execution_count": 18,
   "metadata": {},
   "outputs": [
    {
     "data": {
      "text/plain": [
       "DatetimeIndex(['2010-01-01', '2010-01-02', '2010-01-03', '2010-01-04',\n",
       "               '2010-01-05', '2010-01-06', '2010-01-07', '2010-01-08',\n",
       "               '2010-01-09', '2010-01-10',\n",
       "               ...\n",
       "               '2016-12-22', '2016-12-23', '2016-12-24', '2016-12-25',\n",
       "               '2016-12-26', '2016-12-27', '2016-12-28', '2016-12-29',\n",
       "               '2016-12-30', '2016-12-31'],\n",
       "              dtype='datetime64[ns]', name='date', length=2557, freq='D')"
      ]
     },
     "execution_count": 18,
     "metadata": {},
     "output_type": "execute_result"
    }
   ],
   "source": [
    "example_df.index"
   ]
  },
  {
   "cell_type": "code",
   "execution_count": 19,
   "metadata": {},
   "outputs": [
    {
     "name": "stdout",
     "output_type": "stream",
     "text": [
      "Number of rows with missing values: 0\n"
     ]
    }
   ],
   "source": [
    "# Missing values\n",
    "# ==============================================================================\n",
    "print(f'Number of rows with missing values: {example_df.isnull().any(axis=1).sum()}')"
   ]
  },
  {
   "cell_type": "markdown",
   "metadata": {},
   "source": [
    "There are many missing values, all in the 'num_sold' column, but no 0 values. I think it is safe to assume that missing values mean 'no sales', so I will transform them into '0'"
   ]
  },
  {
   "cell_type": "markdown",
   "metadata": {},
   "source": [
    "Apparently, the nan values come from non-existent combinations. Those must be stores that don't exist or have not report their sales. I'm going to develop a method to check wheter this is true. This way, I can remove the nan values from the main dataframe 'train' being sure that no date points are deleted, thus creating gaps.\n",
    "\n",
    "Try a for loop doing two list, one adding up a total value of 0 nulls, other adding up 2557, and other adding up something in the middle, that would need to be processed."
   ]
  },
  {
   "cell_type": "code",
   "execution_count": 20,
   "metadata": {},
   "outputs": [],
   "source": [
    "all_nans_list = []\n",
    "no_nans_list = []\n",
    "some_nans_list = []\n",
    "\n",
    "for key, group in grouped_dataframes.items():\n",
    "    if group.isnull().any(axis=1).sum() == 0:\n",
    "        no_nans_list.append(key)\n",
    "    elif group.isnull().any(axis=1).sum() == len(group):\n",
    "        group.fillna(0, inplace=True)\n",
    "        all_nans_list.append(key)\n",
    "    else:\n",
    "        group.apply(fill_with_mean_neighbor)\n",
    "        some_nans_list.append(key)"
   ]
  },
  {
   "cell_type": "code",
   "execution_count": 21,
   "metadata": {},
   "outputs": [
    {
     "data": {
      "text/plain": [
       "('Canada', 'Premium Sticker Mart', 'Holographic Goose')"
      ]
     },
     "execution_count": 21,
     "metadata": {},
     "output_type": "execute_result"
    }
   ],
   "source": [
    "some_nans_list[1]"
   ]
  },
  {
   "cell_type": "code",
   "execution_count": 22,
   "metadata": {},
   "outputs": [
    {
     "data": {
      "text/plain": [
       "0"
      ]
     },
     "execution_count": 22,
     "metadata": {},
     "output_type": "execute_result"
    }
   ],
   "source": [
    "grouped_dataframes[some_nans_list[1]]['num_sold'].isna().sum()"
   ]
  },
  {
   "cell_type": "code",
   "execution_count": 57,
   "metadata": {},
   "outputs": [
    {
     "data": {
      "text/plain": [
       "[                id country              store            product  num_sold\n",
       " date                                                                      \n",
       " 2010-01-01       0  Canada  Discount Stickers  Holographic Goose       0.0\n",
       " 2010-01-02      90  Canada  Discount Stickers  Holographic Goose       0.0\n",
       " 2010-01-03     180  Canada  Discount Stickers  Holographic Goose       0.0\n",
       " 2010-01-04     270  Canada  Discount Stickers  Holographic Goose       0.0\n",
       " 2010-01-05     360  Canada  Discount Stickers  Holographic Goose       0.0\n",
       " ...            ...     ...                ...                ...       ...\n",
       " 2016-12-27  229680  Canada  Discount Stickers  Holographic Goose       0.0\n",
       " 2016-12-28  229770  Canada  Discount Stickers  Holographic Goose       0.0\n",
       " 2016-12-29  229860  Canada  Discount Stickers  Holographic Goose       0.0\n",
       " 2016-12-30  229950  Canada  Discount Stickers  Holographic Goose       0.0\n",
       " 2016-12-31  230040  Canada  Discount Stickers  Holographic Goose       0.0\n",
       " \n",
       " [2557 rows x 5 columns],\n",
       "                 id country              store product  num_sold\n",
       " date                                                           \n",
       " 2010-01-01       1  Canada  Discount Stickers  Kaggle     973.0\n",
       " 2010-01-02      91  Canada  Discount Stickers  Kaggle     881.0\n",
       " 2010-01-03     181  Canada  Discount Stickers  Kaggle    1003.0\n",
       " 2010-01-04     271  Canada  Discount Stickers  Kaggle     744.0\n",
       " 2010-01-05     361  Canada  Discount Stickers  Kaggle     707.0\n",
       " ...            ...     ...                ...     ...       ...\n",
       " 2016-12-27  229681  Canada  Discount Stickers  Kaggle     694.0\n",
       " 2016-12-28  229771  Canada  Discount Stickers  Kaggle     810.0\n",
       " 2016-12-29  229861  Canada  Discount Stickers  Kaggle     856.0\n",
       " 2016-12-30  229951  Canada  Discount Stickers  Kaggle     939.0\n",
       " 2016-12-31  230041  Canada  Discount Stickers  Kaggle     874.0\n",
       " \n",
       " [2557 rows x 5 columns],\n",
       "                 id country              store       product  num_sold\n",
       " date                                                                 \n",
       " 2010-01-01       2  Canada  Discount Stickers  Kaggle Tiers     906.0\n",
       " 2010-01-02      92  Canada  Discount Stickers  Kaggle Tiers     854.0\n",
       " 2010-01-03     182  Canada  Discount Stickers  Kaggle Tiers     839.0\n",
       " 2010-01-04     272  Canada  Discount Stickers  Kaggle Tiers     609.0\n",
       " 2010-01-05     362  Canada  Discount Stickers  Kaggle Tiers     640.0\n",
       " ...            ...     ...                ...           ...       ...\n",
       " 2016-12-27  229682  Canada  Discount Stickers  Kaggle Tiers     577.0\n",
       " 2016-12-28  229772  Canada  Discount Stickers  Kaggle Tiers     601.0\n",
       " 2016-12-29  229862  Canada  Discount Stickers  Kaggle Tiers     687.0\n",
       " 2016-12-30  229952  Canada  Discount Stickers  Kaggle Tiers     704.0\n",
       " 2016-12-31  230042  Canada  Discount Stickers  Kaggle Tiers     622.0\n",
       " \n",
       " [2557 rows x 5 columns],\n",
       "                 id country              store   product  num_sold\n",
       " date                                                             \n",
       " 2010-01-01       3  Canada  Discount Stickers  Kerneler     423.0\n",
       " 2010-01-02      93  Canada  Discount Stickers  Kerneler     440.0\n",
       " 2010-01-03     183  Canada  Discount Stickers  Kerneler     417.0\n",
       " 2010-01-04     273  Canada  Discount Stickers  Kerneler     339.0\n",
       " 2010-01-05     363  Canada  Discount Stickers  Kerneler     290.0\n",
       " ...            ...     ...                ...       ...       ...\n",
       " 2016-12-27  229683  Canada  Discount Stickers  Kerneler     298.0\n",
       " 2016-12-28  229773  Canada  Discount Stickers  Kerneler     355.0\n",
       " 2016-12-29  229863  Canada  Discount Stickers  Kerneler     404.0\n",
       " 2016-12-30  229953  Canada  Discount Stickers  Kerneler     400.0\n",
       " 2016-12-31  230043  Canada  Discount Stickers  Kerneler     401.0\n",
       " \n",
       " [2557 rows x 5 columns],\n",
       "                 id country              store             product  num_sold\n",
       " date                                                                       \n",
       " 2010-01-01       4  Canada  Discount Stickers  Kerneler Dark Mode     491.0\n",
       " 2010-01-02      94  Canada  Discount Stickers  Kerneler Dark Mode     437.0\n",
       " 2010-01-03     184  Canada  Discount Stickers  Kerneler Dark Mode     495.0\n",
       " 2010-01-04     274  Canada  Discount Stickers  Kerneler Dark Mode     441.0\n",
       " 2010-01-05     364  Canada  Discount Stickers  Kerneler Dark Mode     372.0\n",
       " ...            ...     ...                ...                 ...       ...\n",
       " 2016-12-27  229684  Canada  Discount Stickers  Kerneler Dark Mode     372.0\n",
       " 2016-12-28  229774  Canada  Discount Stickers  Kerneler Dark Mode     424.0\n",
       " 2016-12-29  229864  Canada  Discount Stickers  Kerneler Dark Mode     442.0\n",
       " 2016-12-30  229954  Canada  Discount Stickers  Kerneler Dark Mode     498.0\n",
       " 2016-12-31  230044  Canada  Discount Stickers  Kerneler Dark Mode     471.0\n",
       " \n",
       " [2557 rows x 5 columns],\n",
       "                 id country                 store            product  num_sold\n",
       " date                                                                         \n",
       " 2010-01-01      10  Canada  Premium Sticker Mart  Holographic Goose     375.0\n",
       " 2010-01-02     100  Canada  Premium Sticker Mart  Holographic Goose     336.0\n",
       " 2010-01-03     190  Canada  Premium Sticker Mart  Holographic Goose     338.0\n",
       " 2010-01-04     280  Canada  Premium Sticker Mart  Holographic Goose     277.0\n",
       " 2010-01-05     370  Canada  Premium Sticker Mart  Holographic Goose     287.0\n",
       " ...            ...     ...                   ...                ...       ...\n",
       " 2016-12-27  229690  Canada  Premium Sticker Mart  Holographic Goose     249.0\n",
       " 2016-12-28  229780  Canada  Premium Sticker Mart  Holographic Goose     264.0\n",
       " 2016-12-29  229870  Canada  Premium Sticker Mart  Holographic Goose     315.0\n",
       " 2016-12-30  229960  Canada  Premium Sticker Mart  Holographic Goose     302.0\n",
       " 2016-12-31  230050  Canada  Premium Sticker Mart  Holographic Goose     309.0\n",
       " \n",
       " [2557 rows x 5 columns],\n",
       "                 id country                 store product  num_sold\n",
       " date                                                              \n",
       " 2010-01-01      11  Canada  Premium Sticker Mart  Kaggle    2212.0\n",
       " 2010-01-02     101  Canada  Premium Sticker Mart  Kaggle    2183.0\n",
       " 2010-01-03     191  Canada  Premium Sticker Mart  Kaggle    2459.0\n",
       " 2010-01-04     281  Canada  Premium Sticker Mart  Kaggle    1714.0\n",
       " 2010-01-05     371  Canada  Premium Sticker Mart  Kaggle    1593.0\n",
       " ...            ...     ...                   ...     ...       ...\n",
       " 2016-12-27  229691  Canada  Premium Sticker Mart  Kaggle    1611.0\n",
       " 2016-12-28  229781  Canada  Premium Sticker Mart  Kaggle    1812.0\n",
       " 2016-12-29  229871  Canada  Premium Sticker Mart  Kaggle    2157.0\n",
       " 2016-12-30  229961  Canada  Premium Sticker Mart  Kaggle    2218.0\n",
       " 2016-12-31  230051  Canada  Premium Sticker Mart  Kaggle    2170.0\n",
       " \n",
       " [2557 rows x 5 columns],\n",
       "                 id country                 store       product  num_sold\n",
       " date                                                                    \n",
       " 2010-01-01      12  Canada  Premium Sticker Mart  Kaggle Tiers    2013.0\n",
       " 2010-01-02     102  Canada  Premium Sticker Mart  Kaggle Tiers    1953.0\n",
       " 2010-01-03     192  Canada  Premium Sticker Mart  Kaggle Tiers    1938.0\n",
       " 2010-01-04     282  Canada  Premium Sticker Mart  Kaggle Tiers    1567.0\n",
       " 2010-01-05     372  Canada  Premium Sticker Mart  Kaggle Tiers    1590.0\n",
       " ...            ...     ...                   ...           ...       ...\n",
       " 2016-12-27  229692  Canada  Premium Sticker Mart  Kaggle Tiers    1316.0\n",
       " 2016-12-28  229782  Canada  Premium Sticker Mart  Kaggle Tiers    1418.0\n",
       " 2016-12-29  229872  Canada  Premium Sticker Mart  Kaggle Tiers    1604.0\n",
       " 2016-12-30  229962  Canada  Premium Sticker Mart  Kaggle Tiers    1597.0\n",
       " 2016-12-31  230052  Canada  Premium Sticker Mart  Kaggle Tiers    1711.0\n",
       " \n",
       " [2557 rows x 5 columns],\n",
       "                 id country                 store   product  num_sold\n",
       " date                                                                \n",
       " 2010-01-01      13  Canada  Premium Sticker Mart  Kerneler     950.0\n",
       " 2010-01-02     103  Canada  Premium Sticker Mart  Kerneler     895.0\n",
       " 2010-01-03     193  Canada  Premium Sticker Mart  Kerneler    1015.0\n",
       " 2010-01-04     283  Canada  Premium Sticker Mart  Kerneler     802.0\n",
       " 2010-01-05     373  Canada  Premium Sticker Mart  Kerneler     773.0\n",
       " ...            ...     ...                   ...       ...       ...\n",
       " 2016-12-27  229693  Canada  Premium Sticker Mart  Kerneler     775.0\n",
       " 2016-12-28  229783  Canada  Premium Sticker Mart  Kerneler     802.0\n",
       " 2016-12-29  229873  Canada  Premium Sticker Mart  Kerneler     937.0\n",
       " 2016-12-30  229963  Canada  Premium Sticker Mart  Kerneler     971.0\n",
       " 2016-12-31  230053  Canada  Premium Sticker Mart  Kerneler     938.0\n",
       " \n",
       " [2557 rows x 5 columns],\n",
       "                 id country                 store             product  num_sold\n",
       " date                                                                          \n",
       " 2010-01-01      14  Canada  Premium Sticker Mart  Kerneler Dark Mode    1213.0\n",
       " 2010-01-02     104  Canada  Premium Sticker Mart  Kerneler Dark Mode    1217.0\n",
       " 2010-01-03     194  Canada  Premium Sticker Mart  Kerneler Dark Mode    1188.0\n",
       " 2010-01-04     284  Canada  Premium Sticker Mart  Kerneler Dark Mode    1046.0\n",
       " 2010-01-05     374  Canada  Premium Sticker Mart  Kerneler Dark Mode     894.0\n",
       " ...            ...     ...                   ...                 ...       ...\n",
       " 2016-12-27  229694  Canada  Premium Sticker Mart  Kerneler Dark Mode     935.0\n",
       " 2016-12-28  229784  Canada  Premium Sticker Mart  Kerneler Dark Mode     927.0\n",
       " 2016-12-29  229874  Canada  Premium Sticker Mart  Kerneler Dark Mode    1110.0\n",
       " 2016-12-30  229964  Canada  Premium Sticker Mart  Kerneler Dark Mode    1169.0\n",
       " 2016-12-31  230054  Canada  Premium Sticker Mart  Kerneler Dark Mode    1113.0\n",
       " \n",
       " [2557 rows x 5 columns],\n",
       "                 id country              store            product  num_sold\n",
       " date                                                                      \n",
       " 2010-01-01       5  Canada  Stickers for Less  Holographic Goose     300.0\n",
       " 2010-01-02      95  Canada  Stickers for Less  Holographic Goose     281.0\n",
       " 2010-01-03     185  Canada  Stickers for Less  Holographic Goose     297.0\n",
       " 2010-01-04     275  Canada  Stickers for Less  Holographic Goose     235.0\n",
       " 2010-01-05     365  Canada  Stickers for Less  Holographic Goose     240.0\n",
       " ...            ...     ...                ...                ...       ...\n",
       " 2016-12-27  229685  Canada  Stickers for Less  Holographic Goose     233.0\n",
       " 2016-12-28  229775  Canada  Stickers for Less  Holographic Goose     261.0\n",
       " 2016-12-29  229865  Canada  Stickers for Less  Holographic Goose     266.0\n",
       " 2016-12-30  229955  Canada  Stickers for Less  Holographic Goose     303.0\n",
       " 2016-12-31  230045  Canada  Stickers for Less  Holographic Goose     284.0\n",
       " \n",
       " [2557 rows x 5 columns],\n",
       "                 id country              store product  num_sold\n",
       " date                                                           \n",
       " 2010-01-01       6  Canada  Stickers for Less  Kaggle    1837.0\n",
       " 2010-01-02      96  Canada  Stickers for Less  Kaggle    1972.0\n",
       " 2010-01-03     186  Canada  Stickers for Less  Kaggle    1936.0\n",
       " 2010-01-04     276  Canada  Stickers for Less  Kaggle    1382.0\n",
       " 2010-01-05     366  Canada  Stickers for Less  Kaggle    1416.0\n",
       " ...            ...     ...                ...     ...       ...\n",
       " 2016-12-27  229686  Canada  Stickers for Less  Kaggle    1518.0\n",
       " 2016-12-28  229776  Canada  Stickers for Less  Kaggle    1702.0\n",
       " 2016-12-29  229866  Canada  Stickers for Less  Kaggle    1607.0\n",
       " 2016-12-30  229956  Canada  Stickers for Less  Kaggle    1851.0\n",
       " 2016-12-31  230046  Canada  Stickers for Less  Kaggle    1703.0\n",
       " \n",
       " [2557 rows x 5 columns],\n",
       "                 id country              store       product  num_sold\n",
       " date                                                                 \n",
       " 2010-01-01       7  Canada  Stickers for Less  Kaggle Tiers    1659.0\n",
       " 2010-01-02      97  Canada  Stickers for Less  Kaggle Tiers    1541.0\n",
       " 2010-01-03     187  Canada  Stickers for Less  Kaggle Tiers    1770.0\n",
       " 2010-01-04     277  Canada  Stickers for Less  Kaggle Tiers    1243.0\n",
       " 2010-01-05     367  Canada  Stickers for Less  Kaggle Tiers    1319.0\n",
       " ...            ...     ...                ...           ...       ...\n",
       " 2016-12-27  229687  Canada  Stickers for Less  Kaggle Tiers    1104.0\n",
       " 2016-12-28  229777  Canada  Stickers for Less  Kaggle Tiers    1249.0\n",
       " 2016-12-29  229867  Canada  Stickers for Less  Kaggle Tiers    1137.0\n",
       " 2016-12-30  229957  Canada  Stickers for Less  Kaggle Tiers    1465.0\n",
       " 2016-12-31  230047  Canada  Stickers for Less  Kaggle Tiers    1433.0\n",
       " \n",
       " [2557 rows x 5 columns],\n",
       "                 id country              store   product  num_sold\n",
       " date                                                             \n",
       " 2010-01-01       8  Canada  Stickers for Less  Kerneler     807.0\n",
       " 2010-01-02      98  Canada  Stickers for Less  Kerneler     783.0\n",
       " 2010-01-03     188  Canada  Stickers for Less  Kerneler     832.0\n",
       " 2010-01-04     278  Canada  Stickers for Less  Kerneler     646.0\n",
       " 2010-01-05     368  Canada  Stickers for Less  Kerneler     612.0\n",
       " ...            ...     ...                ...       ...       ...\n",
       " 2016-12-27  229688  Canada  Stickers for Less  Kerneler     612.0\n",
       " 2016-12-28  229778  Canada  Stickers for Less  Kerneler     733.0\n",
       " 2016-12-29  229868  Canada  Stickers for Less  Kerneler     746.0\n",
       " 2016-12-30  229958  Canada  Stickers for Less  Kerneler     836.0\n",
       " 2016-12-31  230048  Canada  Stickers for Less  Kerneler     749.0\n",
       " \n",
       " [2557 rows x 5 columns],\n",
       "                 id country              store             product  num_sold\n",
       " date                                                                       \n",
       " 2010-01-01       9  Canada  Stickers for Less  Kerneler Dark Mode     940.0\n",
       " 2010-01-02      99  Canada  Stickers for Less  Kerneler Dark Mode    1068.0\n",
       " 2010-01-03     189  Canada  Stickers for Less  Kerneler Dark Mode    1087.0\n",
       " 2010-01-04     279  Canada  Stickers for Less  Kerneler Dark Mode     778.0\n",
       " 2010-01-05     369  Canada  Stickers for Less  Kerneler Dark Mode     772.0\n",
       " ...            ...     ...                ...                 ...       ...\n",
       " 2016-12-27  229689  Canada  Stickers for Less  Kerneler Dark Mode     708.0\n",
       " 2016-12-28  229779  Canada  Stickers for Less  Kerneler Dark Mode     815.0\n",
       " 2016-12-29  229869  Canada  Stickers for Less  Kerneler Dark Mode     898.0\n",
       " 2016-12-30  229959  Canada  Stickers for Less  Kerneler Dark Mode     924.0\n",
       " 2016-12-31  230049  Canada  Stickers for Less  Kerneler Dark Mode     951.0\n",
       " \n",
       " [2557 rows x 5 columns],\n",
       "                 id  country              store            product  num_sold\n",
       " date                                                                       \n",
       " 2010-01-01      15  Finland  Discount Stickers  Holographic Goose     150.0\n",
       " 2010-01-02     105  Finland  Discount Stickers  Holographic Goose     127.0\n",
       " 2010-01-03     195  Finland  Discount Stickers  Holographic Goose     152.0\n",
       " 2010-01-04     285  Finland  Discount Stickers  Holographic Goose     113.0\n",
       " 2010-01-05     375  Finland  Discount Stickers  Holographic Goose     116.0\n",
       " ...            ...      ...                ...                ...       ...\n",
       " 2016-12-27  229695  Finland  Discount Stickers  Holographic Goose     117.0\n",
       " 2016-12-28  229785  Finland  Discount Stickers  Holographic Goose     130.0\n",
       " 2016-12-29  229875  Finland  Discount Stickers  Holographic Goose     138.0\n",
       " 2016-12-30  229965  Finland  Discount Stickers  Holographic Goose     138.0\n",
       " 2016-12-31  230055  Finland  Discount Stickers  Holographic Goose     141.0\n",
       " \n",
       " [2557 rows x 5 columns],\n",
       "                 id  country              store product  num_sold\n",
       " date                                                            \n",
       " 2010-01-01      16  Finland  Discount Stickers  Kaggle     926.0\n",
       " 2010-01-02     106  Finland  Discount Stickers  Kaggle     869.0\n",
       " 2010-01-03     196  Finland  Discount Stickers  Kaggle    1036.0\n",
       " 2010-01-04     286  Finland  Discount Stickers  Kaggle     677.0\n",
       " 2010-01-05     376  Finland  Discount Stickers  Kaggle     782.0\n",
       " ...            ...      ...                ...     ...       ...\n",
       " 2016-12-27  229696  Finland  Discount Stickers  Kaggle     859.0\n",
       " 2016-12-28  229786  Finland  Discount Stickers  Kaggle     878.0\n",
       " 2016-12-29  229876  Finland  Discount Stickers  Kaggle     915.0\n",
       " 2016-12-30  229966  Finland  Discount Stickers  Kaggle     886.0\n",
       " 2016-12-31  230056  Finland  Discount Stickers  Kaggle     972.0\n",
       " \n",
       " [2557 rows x 5 columns],\n",
       "                 id  country              store       product  num_sold\n",
       " date                                                                  \n",
       " 2010-01-01      17  Finland  Discount Stickers  Kaggle Tiers     774.0\n",
       " 2010-01-02     107  Finland  Discount Stickers  Kaggle Tiers     764.0\n",
       " 2010-01-03     197  Finland  Discount Stickers  Kaggle Tiers     815.0\n",
       " 2010-01-04     287  Finland  Discount Stickers  Kaggle Tiers     664.0\n",
       " 2010-01-05     377  Finland  Discount Stickers  Kaggle Tiers     608.0\n",
       " ...            ...      ...                ...           ...       ...\n",
       " 2016-12-27  229697  Finland  Discount Stickers  Kaggle Tiers     585.0\n",
       " 2016-12-28  229787  Finland  Discount Stickers  Kaggle Tiers     657.0\n",
       " 2016-12-29  229877  Finland  Discount Stickers  Kaggle Tiers     722.0\n",
       " 2016-12-30  229967  Finland  Discount Stickers  Kaggle Tiers     702.0\n",
       " 2016-12-31  230057  Finland  Discount Stickers  Kaggle Tiers     777.0\n",
       " \n",
       " [2557 rows x 5 columns],\n",
       "                 id  country              store   product  num_sold\n",
       " date                                                              \n",
       " 2010-01-01      18  Finland  Discount Stickers  Kerneler     424.0\n",
       " 2010-01-02     108  Finland  Discount Stickers  Kerneler     417.0\n",
       " 2010-01-03     198  Finland  Discount Stickers  Kerneler     469.0\n",
       " 2010-01-04     288  Finland  Discount Stickers  Kerneler     356.0\n",
       " 2010-01-05     378  Finland  Discount Stickers  Kerneler     299.0\n",
       " ...            ...      ...                ...       ...       ...\n",
       " 2016-12-27  229698  Finland  Discount Stickers  Kerneler     335.0\n",
       " 2016-12-28  229788  Finland  Discount Stickers  Kerneler     374.0\n",
       " 2016-12-29  229878  Finland  Discount Stickers  Kerneler     405.0\n",
       " 2016-12-30  229968  Finland  Discount Stickers  Kerneler     454.0\n",
       " 2016-12-31  230058  Finland  Discount Stickers  Kerneler     404.0\n",
       " \n",
       " [2557 rows x 5 columns],\n",
       "                 id  country              store             product  num_sold\n",
       " date                                                                        \n",
       " 2010-01-01      19  Finland  Discount Stickers  Kerneler Dark Mode     450.0\n",
       " 2010-01-02     109  Finland  Discount Stickers  Kerneler Dark Mode     440.0\n",
       " 2010-01-03     199  Finland  Discount Stickers  Kerneler Dark Mode     531.0\n",
       " 2010-01-04     289  Finland  Discount Stickers  Kerneler Dark Mode     399.0\n",
       " 2010-01-05     379  Finland  Discount Stickers  Kerneler Dark Mode     364.0\n",
       " ...            ...      ...                ...                 ...       ...\n",
       " 2016-12-27  229699  Finland  Discount Stickers  Kerneler Dark Mode     419.0\n",
       " 2016-12-28  229789  Finland  Discount Stickers  Kerneler Dark Mode     432.0\n",
       " 2016-12-29  229879  Finland  Discount Stickers  Kerneler Dark Mode     500.0\n",
       " 2016-12-30  229969  Finland  Discount Stickers  Kerneler Dark Mode     522.0\n",
       " 2016-12-31  230059  Finland  Discount Stickers  Kerneler Dark Mode     455.0\n",
       " \n",
       " [2557 rows x 5 columns],\n",
       "                 id  country                 store            product  num_sold\n",
       " date                                                                          \n",
       " 2010-01-01      25  Finland  Premium Sticker Mart  Holographic Goose     362.0\n",
       " 2010-01-02     115  Finland  Premium Sticker Mart  Holographic Goose     297.0\n",
       " 2010-01-03     205  Finland  Premium Sticker Mart  Holographic Goose     357.0\n",
       " 2010-01-04     295  Finland  Premium Sticker Mart  Holographic Goose     295.0\n",
       " 2010-01-05     385  Finland  Premium Sticker Mart  Holographic Goose     290.0\n",
       " ...            ...      ...                   ...                ...       ...\n",
       " 2016-12-27  229705  Finland  Premium Sticker Mart  Holographic Goose     279.0\n",
       " 2016-12-28  229795  Finland  Premium Sticker Mart  Holographic Goose     344.0\n",
       " 2016-12-29  229885  Finland  Premium Sticker Mart  Holographic Goose     310.0\n",
       " 2016-12-30  229975  Finland  Premium Sticker Mart  Holographic Goose     338.0\n",
       " 2016-12-31  230065  Finland  Premium Sticker Mart  Holographic Goose     349.0\n",
       " \n",
       " [2557 rows x 5 columns],\n",
       "                 id  country                 store product  num_sold\n",
       " date                                                               \n",
       " 2010-01-01      26  Finland  Premium Sticker Mart  Kaggle    2304.0\n",
       " 2010-01-02     116  Finland  Premium Sticker Mart  Kaggle    1903.0\n",
       " 2010-01-03     206  Finland  Premium Sticker Mart  Kaggle    2349.0\n",
       " 2010-01-04     296  Finland  Premium Sticker Mart  Kaggle    1705.0\n",
       " 2010-01-05     386  Finland  Premium Sticker Mart  Kaggle    1611.0\n",
       " ...            ...      ...                   ...     ...       ...\n",
       " 2016-12-27  229706  Finland  Premium Sticker Mart  Kaggle    1852.0\n",
       " 2016-12-28  229796  Finland  Premium Sticker Mart  Kaggle    1961.0\n",
       " 2016-12-29  229886  Finland  Premium Sticker Mart  Kaggle    2366.0\n",
       " 2016-12-30  229976  Finland  Premium Sticker Mart  Kaggle    2303.0\n",
       " 2016-12-31  230066  Finland  Premium Sticker Mart  Kaggle    2481.0\n",
       " \n",
       " [2557 rows x 5 columns],\n",
       "                 id  country                 store       product  num_sold\n",
       " date                                                                     \n",
       " 2010-01-01      27  Finland  Premium Sticker Mart  Kaggle Tiers    2070.0\n",
       " 2010-01-02     117  Finland  Premium Sticker Mart  Kaggle Tiers    2018.0\n",
       " 2010-01-03     207  Finland  Premium Sticker Mart  Kaggle Tiers    1983.0\n",
       " 2010-01-04     297  Finland  Premium Sticker Mart  Kaggle Tiers    1577.0\n",
       " 2010-01-05     387  Finland  Premium Sticker Mart  Kaggle Tiers    1515.0\n",
       " ...            ...      ...                   ...           ...       ...\n",
       " 2016-12-27  229707  Finland  Premium Sticker Mart  Kaggle Tiers    1410.0\n",
       " 2016-12-28  229797  Finland  Premium Sticker Mart  Kaggle Tiers    1492.0\n",
       " 2016-12-29  229887  Finland  Premium Sticker Mart  Kaggle Tiers    1735.0\n",
       " 2016-12-30  229977  Finland  Premium Sticker Mart  Kaggle Tiers    1819.0\n",
       " 2016-12-31  230067  Finland  Premium Sticker Mart  Kaggle Tiers    1614.0\n",
       " \n",
       " [2557 rows x 5 columns],\n",
       "                 id  country                 store   product  num_sold\n",
       " date                                                                 \n",
       " 2010-01-01      28  Finland  Premium Sticker Mart  Kerneler    1134.0\n",
       " 2010-01-02     118  Finland  Premium Sticker Mart  Kerneler     949.0\n",
       " 2010-01-03     208  Finland  Premium Sticker Mart  Kerneler    1018.0\n",
       " 2010-01-04     298  Finland  Premium Sticker Mart  Kerneler     769.0\n",
       " 2010-01-05     388  Finland  Premium Sticker Mart  Kerneler     720.0\n",
       " ...            ...      ...                   ...       ...       ...\n",
       " 2016-12-27  229708  Finland  Premium Sticker Mart  Kerneler     848.0\n",
       " 2016-12-28  229798  Finland  Premium Sticker Mart  Kerneler    1002.0\n",
       " 2016-12-29  229888  Finland  Premium Sticker Mart  Kerneler     924.0\n",
       " 2016-12-30  229978  Finland  Premium Sticker Mart  Kerneler    1062.0\n",
       " 2016-12-31  230068  Finland  Premium Sticker Mart  Kerneler    1043.0\n",
       " \n",
       " [2557 rows x 5 columns],\n",
       "                 id  country                 store             product  \\\n",
       " date                                                                    \n",
       " 2010-01-01      29  Finland  Premium Sticker Mart  Kerneler Dark Mode   \n",
       " 2010-01-02     119  Finland  Premium Sticker Mart  Kerneler Dark Mode   \n",
       " 2010-01-03     209  Finland  Premium Sticker Mart  Kerneler Dark Mode   \n",
       " 2010-01-04     299  Finland  Premium Sticker Mart  Kerneler Dark Mode   \n",
       " 2010-01-05     389  Finland  Premium Sticker Mart  Kerneler Dark Mode   \n",
       " ...            ...      ...                   ...                 ...   \n",
       " 2016-12-27  229709  Finland  Premium Sticker Mart  Kerneler Dark Mode   \n",
       " 2016-12-28  229799  Finland  Premium Sticker Mart  Kerneler Dark Mode   \n",
       " 2016-12-29  229889  Finland  Premium Sticker Mart  Kerneler Dark Mode   \n",
       " 2016-12-30  229979  Finland  Premium Sticker Mart  Kerneler Dark Mode   \n",
       " 2016-12-31  230069  Finland  Premium Sticker Mart  Kerneler Dark Mode   \n",
       " \n",
       "             num_sold  \n",
       " date                  \n",
       " 2010-01-01    1047.0  \n",
       " 2010-01-02    1120.0  \n",
       " 2010-01-03    1234.0  \n",
       " 2010-01-04     931.0  \n",
       " 2010-01-05     941.0  \n",
       " ...              ...  \n",
       " 2016-12-27     966.0  \n",
       " 2016-12-28    1046.0  \n",
       " 2016-12-29    1149.0  \n",
       " 2016-12-30    1321.0  \n",
       " 2016-12-31    1238.0  \n",
       " \n",
       " [2557 rows x 5 columns],\n",
       "                 id  country              store            product  num_sold\n",
       " date                                                                       \n",
       " 2010-01-01      20  Finland  Stickers for Less  Holographic Goose     311.0\n",
       " 2010-01-02     110  Finland  Stickers for Less  Holographic Goose     287.0\n",
       " 2010-01-03     200  Finland  Stickers for Less  Holographic Goose     308.0\n",
       " 2010-01-04     290  Finland  Stickers for Less  Holographic Goose     239.0\n",
       " 2010-01-05     380  Finland  Stickers for Less  Holographic Goose     227.0\n",
       " ...            ...      ...                ...                ...       ...\n",
       " 2016-12-27  229700  Finland  Stickers for Less  Holographic Goose     230.0\n",
       " 2016-12-28  229790  Finland  Stickers for Less  Holographic Goose     315.0\n",
       " 2016-12-29  229880  Finland  Stickers for Less  Holographic Goose     293.0\n",
       " 2016-12-30  229970  Finland  Stickers for Less  Holographic Goose     303.0\n",
       " 2016-12-31  230060  Finland  Stickers for Less  Holographic Goose     289.0\n",
       " \n",
       " [2557 rows x 5 columns],\n",
       "                 id  country              store product  num_sold\n",
       " date                                                            \n",
       " 2010-01-01      21  Finland  Stickers for Less  Kaggle    1948.0\n",
       " 2010-01-02     111  Finland  Stickers for Less  Kaggle    1867.0\n",
       " 2010-01-03     201  Finland  Stickers for Less  Kaggle    1956.0\n",
       " 2010-01-04     291  Finland  Stickers for Less  Kaggle    1446.0\n",
       " 2010-01-05     381  Finland  Stickers for Less  Kaggle    1533.0\n",
       " ...            ...      ...                ...     ...       ...\n",
       " 2016-12-27  229701  Finland  Stickers for Less  Kaggle    1343.0\n",
       " 2016-12-28  229791  Finland  Stickers for Less  Kaggle    1746.0\n",
       " 2016-12-29  229881  Finland  Stickers for Less  Kaggle    1813.0\n",
       " 2016-12-30  229971  Finland  Stickers for Less  Kaggle    2002.0\n",
       " 2016-12-31  230061  Finland  Stickers for Less  Kaggle    1839.0\n",
       " \n",
       " [2557 rows x 5 columns],\n",
       "                 id  country              store       product  num_sold\n",
       " date                                                                  \n",
       " 2010-01-01      22  Finland  Stickers for Less  Kaggle Tiers    1632.0\n",
       " 2010-01-02     112  Finland  Stickers for Less  Kaggle Tiers    1559.0\n",
       " 2010-01-03     202  Finland  Stickers for Less  Kaggle Tiers    1462.0\n",
       " 2010-01-04     292  Finland  Stickers for Less  Kaggle Tiers    1316.0\n",
       " 2010-01-05     382  Finland  Stickers for Less  Kaggle Tiers    1233.0\n",
       " ...            ...      ...                ...           ...       ...\n",
       " 2016-12-27  229702  Finland  Stickers for Less  Kaggle Tiers    1163.0\n",
       " 2016-12-28  229792  Finland  Stickers for Less  Kaggle Tiers    1325.0\n",
       " 2016-12-29  229882  Finland  Stickers for Less  Kaggle Tiers    1504.0\n",
       " 2016-12-30  229972  Finland  Stickers for Less  Kaggle Tiers    1535.0\n",
       " 2016-12-31  230062  Finland  Stickers for Less  Kaggle Tiers    1577.0\n",
       " \n",
       " [2557 rows x 5 columns],\n",
       "                 id  country              store   product  num_sold\n",
       " date                                                              \n",
       " 2010-01-01      23  Finland  Stickers for Less  Kerneler     878.0\n",
       " 2010-01-02     113  Finland  Stickers for Less  Kerneler     741.0\n",
       " 2010-01-03     203  Finland  Stickers for Less  Kerneler     877.0\n",
       " 2010-01-04     293  Finland  Stickers for Less  Kerneler     683.0\n",
       " 2010-01-05     383  Finland  Stickers for Less  Kerneler     607.0\n",
       " ...            ...      ...                ...       ...       ...\n",
       " 2016-12-27  229703  Finland  Stickers for Less  Kerneler     711.0\n",
       " 2016-12-28  229793  Finland  Stickers for Less  Kerneler     790.0\n",
       " 2016-12-29  229883  Finland  Stickers for Less  Kerneler     757.0\n",
       " 2016-12-30  229973  Finland  Stickers for Less  Kerneler     844.0\n",
       " 2016-12-31  230063  Finland  Stickers for Less  Kerneler     846.0\n",
       " \n",
       " [2557 rows x 5 columns],\n",
       "                 id  country              store             product  num_sold\n",
       " date                                                                        \n",
       " 2010-01-01      24  Finland  Stickers for Less  Kerneler Dark Mode     950.0\n",
       " 2010-01-02     114  Finland  Stickers for Less  Kerneler Dark Mode     994.0\n",
       " 2010-01-03     204  Finland  Stickers for Less  Kerneler Dark Mode     980.0\n",
       " 2010-01-04     294  Finland  Stickers for Less  Kerneler Dark Mode     765.0\n",
       " 2010-01-05     384  Finland  Stickers for Less  Kerneler Dark Mode     888.0\n",
       " ...            ...      ...                ...                 ...       ...\n",
       " 2016-12-27  229704  Finland  Stickers for Less  Kerneler Dark Mode     823.0\n",
       " 2016-12-28  229794  Finland  Stickers for Less  Kerneler Dark Mode     876.0\n",
       " 2016-12-29  229884  Finland  Stickers for Less  Kerneler Dark Mode     978.0\n",
       " 2016-12-30  229974  Finland  Stickers for Less  Kerneler Dark Mode    1026.0\n",
       " 2016-12-31  230064  Finland  Stickers for Less  Kerneler Dark Mode    1012.0\n",
       " \n",
       " [2557 rows x 5 columns],\n",
       "                 id country              store            product  num_sold\n",
       " date                                                                      \n",
       " 2010-01-01      30   Italy  Discount Stickers  Holographic Goose     110.0\n",
       " 2010-01-02     120   Italy  Discount Stickers  Holographic Goose     107.0\n",
       " 2010-01-03     210   Italy  Discount Stickers  Holographic Goose     122.0\n",
       " 2010-01-04     300   Italy  Discount Stickers  Holographic Goose      91.0\n",
       " 2010-01-05     390   Italy  Discount Stickers  Holographic Goose      77.0\n",
       " ...            ...     ...                ...                ...       ...\n",
       " 2016-12-27  229710   Italy  Discount Stickers  Holographic Goose      75.0\n",
       " 2016-12-28  229800   Italy  Discount Stickers  Holographic Goose      81.0\n",
       " 2016-12-29  229890   Italy  Discount Stickers  Holographic Goose     103.0\n",
       " 2016-12-30  229980   Italy  Discount Stickers  Holographic Goose      99.0\n",
       " 2016-12-31  230070   Italy  Discount Stickers  Holographic Goose     102.0\n",
       " \n",
       " [2557 rows x 5 columns],\n",
       "                 id country              store product  num_sold\n",
       " date                                                           \n",
       " 2010-01-01      31   Italy  Discount Stickers  Kaggle     681.0\n",
       " 2010-01-02     121   Italy  Discount Stickers  Kaggle     743.0\n",
       " 2010-01-03     211   Italy  Discount Stickers  Kaggle     708.0\n",
       " 2010-01-04     301   Italy  Discount Stickers  Kaggle     538.0\n",
       " 2010-01-05     391   Italy  Discount Stickers  Kaggle     550.0\n",
       " ...            ...     ...                ...     ...       ...\n",
       " 2016-12-27  229711   Italy  Discount Stickers  Kaggle     516.0\n",
       " 2016-12-28  229801   Italy  Discount Stickers  Kaggle     557.0\n",
       " 2016-12-29  229891   Italy  Discount Stickers  Kaggle     641.0\n",
       " 2016-12-30  229981   Italy  Discount Stickers  Kaggle     680.0\n",
       " 2016-12-31  230071   Italy  Discount Stickers  Kaggle     700.0\n",
       " \n",
       " [2557 rows x 5 columns],\n",
       "                 id country              store       product  num_sold\n",
       " date                                                                 \n",
       " 2010-01-01      32   Italy  Discount Stickers  Kaggle Tiers     627.0\n",
       " 2010-01-02     122   Italy  Discount Stickers  Kaggle Tiers     569.0\n",
       " 2010-01-03     212   Italy  Discount Stickers  Kaggle Tiers     593.0\n",
       " 2010-01-04     302   Italy  Discount Stickers  Kaggle Tiers     512.0\n",
       " 2010-01-05     392   Italy  Discount Stickers  Kaggle Tiers     446.0\n",
       " ...            ...     ...                ...           ...       ...\n",
       " 2016-12-27  229712   Italy  Discount Stickers  Kaggle Tiers     355.0\n",
       " 2016-12-28  229802   Italy  Discount Stickers  Kaggle Tiers     419.0\n",
       " 2016-12-29  229892   Italy  Discount Stickers  Kaggle Tiers     474.0\n",
       " 2016-12-30  229982   Italy  Discount Stickers  Kaggle Tiers     507.0\n",
       " 2016-12-31  230072   Italy  Discount Stickers  Kaggle Tiers     501.0\n",
       " \n",
       " [2557 rows x 5 columns],\n",
       "                 id country              store   product  num_sold\n",
       " date                                                             \n",
       " 2010-01-01      33   Italy  Discount Stickers  Kerneler     340.0\n",
       " 2010-01-02     123   Italy  Discount Stickers  Kerneler     319.0\n",
       " 2010-01-03     213   Italy  Discount Stickers  Kerneler     337.0\n",
       " 2010-01-04     303   Italy  Discount Stickers  Kerneler     250.0\n",
       " 2010-01-05     393   Italy  Discount Stickers  Kerneler     238.0\n",
       " ...            ...     ...                ...       ...       ...\n",
       " 2016-12-27  229713   Italy  Discount Stickers  Kerneler     217.0\n",
       " 2016-12-28  229803   Italy  Discount Stickers  Kerneler     260.0\n",
       " 2016-12-29  229893   Italy  Discount Stickers  Kerneler     284.0\n",
       " 2016-12-30  229983   Italy  Discount Stickers  Kerneler     279.0\n",
       " 2016-12-31  230073   Italy  Discount Stickers  Kerneler     283.0\n",
       " \n",
       " [2557 rows x 5 columns],\n",
       "                 id country              store             product  num_sold\n",
       " date                                                                       \n",
       " 2010-01-01      34   Italy  Discount Stickers  Kerneler Dark Mode     406.0\n",
       " 2010-01-02     124   Italy  Discount Stickers  Kerneler Dark Mode     374.0\n",
       " 2010-01-03     214   Italy  Discount Stickers  Kerneler Dark Mode     398.0\n",
       " 2010-01-04     304   Italy  Discount Stickers  Kerneler Dark Mode     293.0\n",
       " 2010-01-05     394   Italy  Discount Stickers  Kerneler Dark Mode     285.0\n",
       " ...            ...     ...                ...                 ...       ...\n",
       " 2016-12-27  229714   Italy  Discount Stickers  Kerneler Dark Mode     276.0\n",
       " 2016-12-28  229804   Italy  Discount Stickers  Kerneler Dark Mode     303.0\n",
       " 2016-12-29  229894   Italy  Discount Stickers  Kerneler Dark Mode     315.0\n",
       " 2016-12-30  229984   Italy  Discount Stickers  Kerneler Dark Mode     352.0\n",
       " 2016-12-31  230074   Italy  Discount Stickers  Kerneler Dark Mode     351.0\n",
       " \n",
       " [2557 rows x 5 columns],\n",
       "                 id country                 store            product  num_sold\n",
       " date                                                                         \n",
       " 2010-01-01      40   Italy  Premium Sticker Mart  Holographic Goose     269.0\n",
       " 2010-01-02     130   Italy  Premium Sticker Mart  Holographic Goose     251.0\n",
       " 2010-01-03     220   Italy  Premium Sticker Mart  Holographic Goose     266.0\n",
       " 2010-01-04     310   Italy  Premium Sticker Mart  Holographic Goose     213.0\n",
       " 2010-01-05     400   Italy  Premium Sticker Mart  Holographic Goose     225.0\n",
       " ...            ...     ...                   ...                ...       ...\n",
       " 2016-12-27  229720   Italy  Premium Sticker Mart  Holographic Goose     185.0\n",
       " 2016-12-28  229810   Italy  Premium Sticker Mart  Holographic Goose     206.0\n",
       " 2016-12-29  229900   Italy  Premium Sticker Mart  Holographic Goose     219.0\n",
       " 2016-12-30  229990   Italy  Premium Sticker Mart  Holographic Goose     239.0\n",
       " 2016-12-31  230080   Italy  Premium Sticker Mart  Holographic Goose     226.0\n",
       " \n",
       " [2557 rows x 5 columns],\n",
       "                 id country                 store product  num_sold\n",
       " date                                                              \n",
       " 2010-01-01      41   Italy  Premium Sticker Mart  Kaggle    1786.0\n",
       " 2010-01-02     131   Italy  Premium Sticker Mart  Kaggle    1512.0\n",
       " 2010-01-03     221   Italy  Premium Sticker Mart  Kaggle    1680.0\n",
       " 2010-01-04     311   Italy  Premium Sticker Mart  Kaggle    1288.0\n",
       " 2010-01-05     401   Italy  Premium Sticker Mart  Kaggle    1421.0\n",
       " ...            ...     ...                   ...     ...       ...\n",
       " 2016-12-27  229721   Italy  Premium Sticker Mart  Kaggle    1318.0\n",
       " 2016-12-28  229811   Italy  Premium Sticker Mart  Kaggle    1338.0\n",
       " 2016-12-29  229901   Italy  Premium Sticker Mart  Kaggle    1450.0\n",
       " 2016-12-30  229991   Italy  Premium Sticker Mart  Kaggle    1584.0\n",
       " 2016-12-31  230081   Italy  Premium Sticker Mart  Kaggle    1450.0\n",
       " \n",
       " [2557 rows x 5 columns],\n",
       "                 id country                 store       product  num_sold\n",
       " date                                                                    \n",
       " 2010-01-01      42   Italy  Premium Sticker Mart  Kaggle Tiers    1434.0\n",
       " 2010-01-02     132   Italy  Premium Sticker Mart  Kaggle Tiers    1419.0\n",
       " 2010-01-03     222   Italy  Premium Sticker Mart  Kaggle Tiers    1635.0\n",
       " 2010-01-04     312   Italy  Premium Sticker Mart  Kaggle Tiers    1226.0\n",
       " 2010-01-05     402   Italy  Premium Sticker Mart  Kaggle Tiers    1150.0\n",
       " ...            ...     ...                   ...           ...       ...\n",
       " 2016-12-27  229722   Italy  Premium Sticker Mart  Kaggle Tiers     930.0\n",
       " 2016-12-28  229812   Italy  Premium Sticker Mart  Kaggle Tiers    1037.0\n",
       " 2016-12-29  229902   Italy  Premium Sticker Mart  Kaggle Tiers    1109.0\n",
       " 2016-12-30  229992   Italy  Premium Sticker Mart  Kaggle Tiers    1202.0\n",
       " 2016-12-31  230082   Italy  Premium Sticker Mart  Kaggle Tiers    1282.0\n",
       " \n",
       " [2557 rows x 5 columns],\n",
       "                 id country                 store   product  num_sold\n",
       " date                                                                \n",
       " 2010-01-01      43   Italy  Premium Sticker Mart  Kerneler     783.0\n",
       " 2010-01-02     133   Italy  Premium Sticker Mart  Kerneler     729.0\n",
       " 2010-01-03     223   Italy  Premium Sticker Mart  Kerneler     864.0\n",
       " 2010-01-04     313   Italy  Premium Sticker Mart  Kerneler     574.0\n",
       " 2010-01-05     403   Italy  Premium Sticker Mart  Kerneler     572.0\n",
       " ...            ...     ...                   ...       ...       ...\n",
       " 2016-12-27  229723   Italy  Premium Sticker Mart  Kerneler     561.0\n",
       " 2016-12-28  229813   Italy  Premium Sticker Mart  Kerneler     607.0\n",
       " 2016-12-29  229903   Italy  Premium Sticker Mart  Kerneler     731.0\n",
       " 2016-12-30  229993   Italy  Premium Sticker Mart  Kerneler     697.0\n",
       " 2016-12-31  230083   Italy  Premium Sticker Mart  Kerneler     706.0\n",
       " \n",
       " [2557 rows x 5 columns],\n",
       "                 id country                 store             product  num_sold\n",
       " date                                                                          \n",
       " 2010-01-01      44   Italy  Premium Sticker Mart  Kerneler Dark Mode     861.0\n",
       " 2010-01-02     134   Italy  Premium Sticker Mart  Kerneler Dark Mode     885.0\n",
       " 2010-01-03     224   Italy  Premium Sticker Mart  Kerneler Dark Mode     935.0\n",
       " 2010-01-04     314   Italy  Premium Sticker Mart  Kerneler Dark Mode     697.0\n",
       " 2010-01-05     404   Italy  Premium Sticker Mart  Kerneler Dark Mode     753.0\n",
       " ...            ...     ...                   ...                 ...       ...\n",
       " 2016-12-27  229724   Italy  Premium Sticker Mart  Kerneler Dark Mode     563.0\n",
       " 2016-12-28  229814   Italy  Premium Sticker Mart  Kerneler Dark Mode     752.0\n",
       " 2016-12-29  229904   Italy  Premium Sticker Mart  Kerneler Dark Mode     760.0\n",
       " 2016-12-30  229994   Italy  Premium Sticker Mart  Kerneler Dark Mode     766.0\n",
       " 2016-12-31  230084   Italy  Premium Sticker Mart  Kerneler Dark Mode     830.0\n",
       " \n",
       " [2557 rows x 5 columns],\n",
       "                 id country              store            product  num_sold\n",
       " date                                                                      \n",
       " 2010-01-01      35   Italy  Stickers for Less  Holographic Goose     228.0\n",
       " 2010-01-02     125   Italy  Stickers for Less  Holographic Goose     226.0\n",
       " 2010-01-03     215   Italy  Stickers for Less  Holographic Goose     236.0\n",
       " 2010-01-04     305   Italy  Stickers for Less  Holographic Goose     187.0\n",
       " 2010-01-05     395   Italy  Stickers for Less  Holographic Goose     180.0\n",
       " ...            ...     ...                ...                ...       ...\n",
       " 2016-12-27  229715   Italy  Stickers for Less  Holographic Goose     170.0\n",
       " 2016-12-28  229805   Italy  Stickers for Less  Holographic Goose     172.0\n",
       " 2016-12-29  229895   Italy  Stickers for Less  Holographic Goose     193.0\n",
       " 2016-12-30  229985   Italy  Stickers for Less  Holographic Goose     199.0\n",
       " 2016-12-31  230075   Italy  Stickers for Less  Holographic Goose     215.0\n",
       " \n",
       " [2557 rows x 5 columns],\n",
       "                 id country              store product  num_sold\n",
       " date                                                           \n",
       " 2010-01-01      36   Italy  Stickers for Less  Kaggle    1424.0\n",
       " 2010-01-02     126   Italy  Stickers for Less  Kaggle    1387.0\n",
       " 2010-01-03     216   Italy  Stickers for Less  Kaggle    1522.0\n",
       " 2010-01-04     306   Italy  Stickers for Less  Kaggle    1154.0\n",
       " 2010-01-05     396   Italy  Stickers for Less  Kaggle    1147.0\n",
       " ...            ...     ...                ...     ...       ...\n",
       " 2016-12-27  229716   Italy  Stickers for Less  Kaggle    1003.0\n",
       " 2016-12-28  229806   Italy  Stickers for Less  Kaggle    1219.0\n",
       " 2016-12-29  229896   Italy  Stickers for Less  Kaggle    1349.0\n",
       " 2016-12-30  229986   Italy  Stickers for Less  Kaggle    1371.0\n",
       " 2016-12-31  230076   Italy  Stickers for Less  Kaggle    1255.0\n",
       " \n",
       " [2557 rows x 5 columns],\n",
       "                 id country              store       product  num_sold\n",
       " date                                                                 \n",
       " 2010-01-01      37   Italy  Stickers for Less  Kaggle Tiers    1281.0\n",
       " 2010-01-02     127   Italy  Stickers for Less  Kaggle Tiers    1072.0\n",
       " 2010-01-03     217   Italy  Stickers for Less  Kaggle Tiers    1318.0\n",
       " 2010-01-04     307   Italy  Stickers for Less  Kaggle Tiers    1009.0\n",
       " 2010-01-05     397   Italy  Stickers for Less  Kaggle Tiers    1036.0\n",
       " ...            ...     ...                ...           ...       ...\n",
       " 2016-12-27  229717   Italy  Stickers for Less  Kaggle Tiers     793.0\n",
       " 2016-12-28  229807   Italy  Stickers for Less  Kaggle Tiers     755.0\n",
       " 2016-12-29  229897   Italy  Stickers for Less  Kaggle Tiers     960.0\n",
       " 2016-12-30  229987   Italy  Stickers for Less  Kaggle Tiers    1002.0\n",
       " 2016-12-31  230077   Italy  Stickers for Less  Kaggle Tiers    1082.0\n",
       " \n",
       " [2557 rows x 5 columns],\n",
       "                 id country              store   product  num_sold\n",
       " date                                                             \n",
       " 2010-01-01      38   Italy  Stickers for Less  Kerneler     637.0\n",
       " 2010-01-02     128   Italy  Stickers for Less  Kerneler     604.0\n",
       " 2010-01-03     218   Italy  Stickers for Less  Kerneler     654.0\n",
       " 2010-01-04     308   Italy  Stickers for Less  Kerneler     535.0\n",
       " 2010-01-05     398   Italy  Stickers for Less  Kerneler     510.0\n",
       " ...            ...     ...                ...       ...       ...\n",
       " 2016-12-27  229718   Italy  Stickers for Less  Kerneler     454.0\n",
       " 2016-12-28  229808   Italy  Stickers for Less  Kerneler     542.0\n",
       " 2016-12-29  229898   Italy  Stickers for Less  Kerneler     496.0\n",
       " 2016-12-30  229988   Italy  Stickers for Less  Kerneler     636.0\n",
       " 2016-12-31  230078   Italy  Stickers for Less  Kerneler     565.0\n",
       " \n",
       " [2557 rows x 5 columns],\n",
       "                 id country              store             product  num_sold\n",
       " date                                                                       \n",
       " 2010-01-01      39   Italy  Stickers for Less  Kerneler Dark Mode     778.0\n",
       " 2010-01-02     129   Italy  Stickers for Less  Kerneler Dark Mode     691.0\n",
       " 2010-01-03     219   Italy  Stickers for Less  Kerneler Dark Mode     747.0\n",
       " 2010-01-04     309   Italy  Stickers for Less  Kerneler Dark Mode     578.0\n",
       " 2010-01-05     399   Italy  Stickers for Less  Kerneler Dark Mode     580.0\n",
       " ...            ...     ...                ...                 ...       ...\n",
       " 2016-12-27  229719   Italy  Stickers for Less  Kerneler Dark Mode     523.0\n",
       " 2016-12-28  229809   Italy  Stickers for Less  Kerneler Dark Mode     594.0\n",
       " 2016-12-29  229899   Italy  Stickers for Less  Kerneler Dark Mode     590.0\n",
       " 2016-12-30  229989   Italy  Stickers for Less  Kerneler Dark Mode     666.0\n",
       " 2016-12-31  230079   Italy  Stickers for Less  Kerneler Dark Mode     622.0\n",
       " \n",
       " [2557 rows x 5 columns],\n",
       "                 id country              store            product  num_sold\n",
       " date                                                                      \n",
       " 2010-01-01      45   Kenya  Discount Stickers  Holographic Goose       0.0\n",
       " 2010-01-02     135   Kenya  Discount Stickers  Holographic Goose       0.0\n",
       " 2010-01-03     225   Kenya  Discount Stickers  Holographic Goose       0.0\n",
       " 2010-01-04     315   Kenya  Discount Stickers  Holographic Goose       0.0\n",
       " 2010-01-05     405   Kenya  Discount Stickers  Holographic Goose       0.0\n",
       " ...            ...     ...                ...                ...       ...\n",
       " 2016-12-27  229725   Kenya  Discount Stickers  Holographic Goose       0.0\n",
       " 2016-12-28  229815   Kenya  Discount Stickers  Holographic Goose       0.0\n",
       " 2016-12-29  229905   Kenya  Discount Stickers  Holographic Goose       0.0\n",
       " 2016-12-30  229995   Kenya  Discount Stickers  Holographic Goose       0.0\n",
       " 2016-12-31  230085   Kenya  Discount Stickers  Holographic Goose       0.0\n",
       " \n",
       " [2557 rows x 5 columns],\n",
       "                 id country              store product  num_sold\n",
       " date                                                           \n",
       " 2010-01-01      46   Kenya  Discount Stickers  Kaggle      20.0\n",
       " 2010-01-02     136   Kenya  Discount Stickers  Kaggle      16.0\n",
       " 2010-01-03     226   Kenya  Discount Stickers  Kaggle      19.0\n",
       " 2010-01-04     316   Kenya  Discount Stickers  Kaggle      14.0\n",
       " 2010-01-05     406   Kenya  Discount Stickers  Kaggle      15.0\n",
       " ...            ...     ...                ...     ...       ...\n",
       " 2016-12-27  229726   Kenya  Discount Stickers  Kaggle      22.0\n",
       " 2016-12-28  229816   Kenya  Discount Stickers  Kaggle      27.0\n",
       " 2016-12-29  229906   Kenya  Discount Stickers  Kaggle      27.0\n",
       " 2016-12-30  229996   Kenya  Discount Stickers  Kaggle      30.0\n",
       " 2016-12-31  230086   Kenya  Discount Stickers  Kaggle      28.0\n",
       " \n",
       " [2557 rows x 5 columns],\n",
       "                 id country              store       product  num_sold\n",
       " date                                                                 \n",
       " 2010-01-01      47   Kenya  Discount Stickers  Kaggle Tiers      16.0\n",
       " 2010-01-02     137   Kenya  Discount Stickers  Kaggle Tiers      15.0\n",
       " 2010-01-03     227   Kenya  Discount Stickers  Kaggle Tiers      16.0\n",
       " 2010-01-04     317   Kenya  Discount Stickers  Kaggle Tiers      12.0\n",
       " 2010-01-05     407   Kenya  Discount Stickers  Kaggle Tiers      12.0\n",
       " ...            ...     ...                ...           ...       ...\n",
       " 2016-12-27  229727   Kenya  Discount Stickers  Kaggle Tiers      18.0\n",
       " 2016-12-28  229817   Kenya  Discount Stickers  Kaggle Tiers      20.0\n",
       " 2016-12-29  229907   Kenya  Discount Stickers  Kaggle Tiers      19.0\n",
       " 2016-12-30  229997   Kenya  Discount Stickers  Kaggle Tiers      20.0\n",
       " 2016-12-31  230087   Kenya  Discount Stickers  Kaggle Tiers      23.0\n",
       " \n",
       " [2557 rows x 5 columns],\n",
       "                 id country              store   product  num_sold\n",
       " date                                                             \n",
       " 2010-01-01      48   Kenya  Discount Stickers  Kerneler       8.0\n",
       " 2010-01-02     138   Kenya  Discount Stickers  Kerneler       8.0\n",
       " 2010-01-03     228   Kenya  Discount Stickers  Kerneler       8.0\n",
       " 2010-01-04     318   Kenya  Discount Stickers  Kerneler       6.0\n",
       " 2010-01-05     408   Kenya  Discount Stickers  Kerneler       6.0\n",
       " ...            ...     ...                ...       ...       ...\n",
       " 2016-12-27  229728   Kenya  Discount Stickers  Kerneler      10.0\n",
       " 2016-12-28  229818   Kenya  Discount Stickers  Kerneler      10.0\n",
       " 2016-12-29  229908   Kenya  Discount Stickers  Kerneler      11.0\n",
       " 2016-12-30  229998   Kenya  Discount Stickers  Kerneler      13.0\n",
       " 2016-12-31  230088   Kenya  Discount Stickers  Kerneler      14.0\n",
       " \n",
       " [2557 rows x 5 columns],\n",
       "                 id country              store             product  num_sold\n",
       " date                                                                       \n",
       " 2010-01-01      49   Kenya  Discount Stickers  Kerneler Dark Mode       9.0\n",
       " 2010-01-02     139   Kenya  Discount Stickers  Kerneler Dark Mode       9.0\n",
       " 2010-01-03     229   Kenya  Discount Stickers  Kerneler Dark Mode      10.0\n",
       " 2010-01-04     319   Kenya  Discount Stickers  Kerneler Dark Mode       8.0\n",
       " 2010-01-05     409   Kenya  Discount Stickers  Kerneler Dark Mode       7.0\n",
       " ...            ...     ...                ...                 ...       ...\n",
       " 2016-12-27  229729   Kenya  Discount Stickers  Kerneler Dark Mode      12.0\n",
       " 2016-12-28  229819   Kenya  Discount Stickers  Kerneler Dark Mode      12.0\n",
       " 2016-12-29  229909   Kenya  Discount Stickers  Kerneler Dark Mode      13.0\n",
       " 2016-12-30  229999   Kenya  Discount Stickers  Kerneler Dark Mode      14.0\n",
       " 2016-12-31  230089   Kenya  Discount Stickers  Kerneler Dark Mode      15.0\n",
       " \n",
       " [2557 rows x 5 columns],\n",
       "                 id country                 store            product  num_sold\n",
       " date                                                                         \n",
       " 2010-01-01      55   Kenya  Premium Sticker Mart  Holographic Goose       7.0\n",
       " 2010-01-02     145   Kenya  Premium Sticker Mart  Holographic Goose       6.0\n",
       " 2010-01-03     235   Kenya  Premium Sticker Mart  Holographic Goose       7.0\n",
       " 2010-01-04     325   Kenya  Premium Sticker Mart  Holographic Goose       5.0\n",
       " 2010-01-05     415   Kenya  Premium Sticker Mart  Holographic Goose       5.0\n",
       " ...            ...     ...                   ...                ...       ...\n",
       " 2016-12-27  229735   Kenya  Premium Sticker Mart  Holographic Goose       8.0\n",
       " 2016-12-28  229825   Kenya  Premium Sticker Mart  Holographic Goose      10.0\n",
       " 2016-12-29  229915   Kenya  Premium Sticker Mart  Holographic Goose      10.0\n",
       " 2016-12-30  230005   Kenya  Premium Sticker Mart  Holographic Goose      11.0\n",
       " 2016-12-31  230095   Kenya  Premium Sticker Mart  Holographic Goose      10.0\n",
       " \n",
       " [2557 rows x 5 columns],\n",
       "                 id country                 store product  num_sold\n",
       " date                                                              \n",
       " 2010-01-01      56   Kenya  Premium Sticker Mart  Kaggle      41.0\n",
       " 2010-01-02     146   Kenya  Premium Sticker Mart  Kaggle      42.0\n",
       " 2010-01-03     236   Kenya  Premium Sticker Mart  Kaggle      48.0\n",
       " 2010-01-04     326   Kenya  Premium Sticker Mart  Kaggle      37.0\n",
       " 2010-01-05     416   Kenya  Premium Sticker Mart  Kaggle      34.0\n",
       " ...            ...     ...                   ...     ...       ...\n",
       " 2016-12-27  229736   Kenya  Premium Sticker Mart  Kaggle      55.0\n",
       " 2016-12-28  229826   Kenya  Premium Sticker Mart  Kaggle      69.0\n",
       " 2016-12-29  229916   Kenya  Premium Sticker Mart  Kaggle      73.0\n",
       " 2016-12-30  230006   Kenya  Premium Sticker Mart  Kaggle      71.0\n",
       " 2016-12-31  230096   Kenya  Premium Sticker Mart  Kaggle      72.0\n",
       " \n",
       " [2557 rows x 5 columns],\n",
       "                 id country                 store       product  num_sold\n",
       " date                                                                    \n",
       " 2010-01-01      57   Kenya  Premium Sticker Mart  Kaggle Tiers      37.0\n",
       " 2010-01-02     147   Kenya  Premium Sticker Mart  Kaggle Tiers      38.0\n",
       " 2010-01-03     237   Kenya  Premium Sticker Mart  Kaggle Tiers      40.0\n",
       " 2010-01-04     327   Kenya  Premium Sticker Mart  Kaggle Tiers      31.0\n",
       " 2010-01-05     417   Kenya  Premium Sticker Mart  Kaggle Tiers      30.0\n",
       " ...            ...     ...                   ...           ...       ...\n",
       " 2016-12-27  229737   Kenya  Premium Sticker Mart  Kaggle Tiers      39.0\n",
       " 2016-12-28  229827   Kenya  Premium Sticker Mart  Kaggle Tiers      49.0\n",
       " 2016-12-29  229917   Kenya  Premium Sticker Mart  Kaggle Tiers      42.0\n",
       " 2016-12-30  230007   Kenya  Premium Sticker Mart  Kaggle Tiers      49.0\n",
       " 2016-12-31  230097   Kenya  Premium Sticker Mart  Kaggle Tiers      58.0\n",
       " \n",
       " [2557 rows x 5 columns],\n",
       "                 id country                 store   product  num_sold\n",
       " date                                                                \n",
       " 2010-01-01      58   Kenya  Premium Sticker Mart  Kerneler      20.0\n",
       " 2010-01-02     148   Kenya  Premium Sticker Mart  Kerneler      21.0\n",
       " 2010-01-03     238   Kenya  Premium Sticker Mart  Kerneler      20.0\n",
       " 2010-01-04     328   Kenya  Premium Sticker Mart  Kerneler      15.0\n",
       " 2010-01-05     418   Kenya  Premium Sticker Mart  Kerneler      16.0\n",
       " ...            ...     ...                   ...       ...       ...\n",
       " 2016-12-27  229738   Kenya  Premium Sticker Mart  Kerneler      26.0\n",
       " 2016-12-28  229828   Kenya  Premium Sticker Mart  Kerneler      28.0\n",
       " 2016-12-29  229918   Kenya  Premium Sticker Mart  Kerneler      29.0\n",
       " 2016-12-30  230008   Kenya  Premium Sticker Mart  Kerneler      32.0\n",
       " 2016-12-31  230098   Kenya  Premium Sticker Mart  Kerneler      33.0\n",
       " \n",
       " [2557 rows x 5 columns],\n",
       "                 id country                 store             product  num_sold\n",
       " date                                                                          \n",
       " 2010-01-01      59   Kenya  Premium Sticker Mart  Kerneler Dark Mode      22.0\n",
       " 2010-01-02     149   Kenya  Premium Sticker Mart  Kerneler Dark Mode      23.0\n",
       " 2010-01-03     239   Kenya  Premium Sticker Mart  Kerneler Dark Mode      22.0\n",
       " 2010-01-04     329   Kenya  Premium Sticker Mart  Kerneler Dark Mode      18.0\n",
       " 2010-01-05     419   Kenya  Premium Sticker Mart  Kerneler Dark Mode      18.0\n",
       " ...            ...     ...                   ...                 ...       ...\n",
       " 2016-12-27  229739   Kenya  Premium Sticker Mart  Kerneler Dark Mode      31.0\n",
       " 2016-12-28  229829   Kenya  Premium Sticker Mart  Kerneler Dark Mode      33.0\n",
       " 2016-12-29  229919   Kenya  Premium Sticker Mart  Kerneler Dark Mode      35.0\n",
       " 2016-12-30  230009   Kenya  Premium Sticker Mart  Kerneler Dark Mode      40.0\n",
       " 2016-12-31  230099   Kenya  Premium Sticker Mart  Kerneler Dark Mode      42.0\n",
       " \n",
       " [2557 rows x 5 columns],\n",
       "                 id country              store            product  num_sold\n",
       " date                                                                      \n",
       " 2010-01-01      50   Kenya  Stickers for Less  Holographic Goose       5.0\n",
       " 2010-01-02     140   Kenya  Stickers for Less  Holographic Goose       5.0\n",
       " 2010-01-03     230   Kenya  Stickers for Less  Holographic Goose       5.0\n",
       " 2010-01-04     320   Kenya  Stickers for Less  Holographic Goose       5.0\n",
       " 2010-01-05     410   Kenya  Stickers for Less  Holographic Goose       5.0\n",
       " ...            ...     ...                ...                ...       ...\n",
       " 2016-12-27  229730   Kenya  Stickers for Less  Holographic Goose       7.0\n",
       " 2016-12-28  229820   Kenya  Stickers for Less  Holographic Goose       8.0\n",
       " 2016-12-29  229910   Kenya  Stickers for Less  Holographic Goose       8.0\n",
       " 2016-12-30  230000   Kenya  Stickers for Less  Holographic Goose       8.0\n",
       " 2016-12-31  230090   Kenya  Stickers for Less  Holographic Goose      10.0\n",
       " \n",
       " [2557 rows x 5 columns],\n",
       "                 id country              store product  num_sold\n",
       " date                                                           \n",
       " 2010-01-01      51   Kenya  Stickers for Less  Kaggle      40.0\n",
       " 2010-01-02     141   Kenya  Stickers for Less  Kaggle      34.0\n",
       " 2010-01-03     231   Kenya  Stickers for Less  Kaggle      38.0\n",
       " 2010-01-04     321   Kenya  Stickers for Less  Kaggle      30.0\n",
       " 2010-01-05     411   Kenya  Stickers for Less  Kaggle      29.0\n",
       " ...            ...     ...                ...     ...       ...\n",
       " 2016-12-27  229731   Kenya  Stickers for Less  Kaggle      52.0\n",
       " 2016-12-28  229821   Kenya  Stickers for Less  Kaggle      56.0\n",
       " 2016-12-29  229911   Kenya  Stickers for Less  Kaggle      54.0\n",
       " 2016-12-30  230001   Kenya  Stickers for Less  Kaggle      62.0\n",
       " 2016-12-31  230091   Kenya  Stickers for Less  Kaggle      66.0\n",
       " \n",
       " [2557 rows x 5 columns],\n",
       "                 id country              store       product  num_sold\n",
       " date                                                                 \n",
       " 2010-01-01      52   Kenya  Stickers for Less  Kaggle Tiers      32.0\n",
       " 2010-01-02     142   Kenya  Stickers for Less  Kaggle Tiers      34.0\n",
       " 2010-01-03     232   Kenya  Stickers for Less  Kaggle Tiers      33.0\n",
       " 2010-01-04     322   Kenya  Stickers for Less  Kaggle Tiers      28.0\n",
       " 2010-01-05     412   Kenya  Stickers for Less  Kaggle Tiers      26.0\n",
       " ...            ...     ...                ...           ...       ...\n",
       " 2016-12-27  229732   Kenya  Stickers for Less  Kaggle Tiers      34.0\n",
       " 2016-12-28  229822   Kenya  Stickers for Less  Kaggle Tiers      39.0\n",
       " 2016-12-29  229912   Kenya  Stickers for Less  Kaggle Tiers      42.0\n",
       " 2016-12-30  230002   Kenya  Stickers for Less  Kaggle Tiers      41.0\n",
       " 2016-12-31  230092   Kenya  Stickers for Less  Kaggle Tiers      47.0\n",
       " \n",
       " [2557 rows x 5 columns],\n",
       "                 id country              store   product  num_sold\n",
       " date                                                             \n",
       " 2010-01-01      53   Kenya  Stickers for Less  Kerneler      17.0\n",
       " 2010-01-02     143   Kenya  Stickers for Less  Kerneler      15.0\n",
       " 2010-01-03     233   Kenya  Stickers for Less  Kerneler      17.0\n",
       " 2010-01-04     323   Kenya  Stickers for Less  Kerneler      12.0\n",
       " 2010-01-05     413   Kenya  Stickers for Less  Kerneler      12.0\n",
       " ...            ...     ...                ...       ...       ...\n",
       " 2016-12-27  229733   Kenya  Stickers for Less  Kerneler      20.0\n",
       " 2016-12-28  229823   Kenya  Stickers for Less  Kerneler      25.0\n",
       " 2016-12-29  229913   Kenya  Stickers for Less  Kerneler      25.0\n",
       " 2016-12-30  230003   Kenya  Stickers for Less  Kerneler      26.0\n",
       " 2016-12-31  230093   Kenya  Stickers for Less  Kerneler      27.0\n",
       " \n",
       " [2557 rows x 5 columns],\n",
       "                 id country              store             product  num_sold\n",
       " date                                                                       \n",
       " 2010-01-01      54   Kenya  Stickers for Less  Kerneler Dark Mode      19.0\n",
       " 2010-01-02     144   Kenya  Stickers for Less  Kerneler Dark Mode      20.0\n",
       " 2010-01-03     234   Kenya  Stickers for Less  Kerneler Dark Mode      20.0\n",
       " 2010-01-04     324   Kenya  Stickers for Less  Kerneler Dark Mode      16.0\n",
       " 2010-01-05     414   Kenya  Stickers for Less  Kerneler Dark Mode      16.0\n",
       " ...            ...     ...                ...                 ...       ...\n",
       " 2016-12-27  229734   Kenya  Stickers for Less  Kerneler Dark Mode      25.0\n",
       " 2016-12-28  229824   Kenya  Stickers for Less  Kerneler Dark Mode      26.0\n",
       " 2016-12-29  229914   Kenya  Stickers for Less  Kerneler Dark Mode      29.0\n",
       " 2016-12-30  230004   Kenya  Stickers for Less  Kerneler Dark Mode      31.0\n",
       " 2016-12-31  230094   Kenya  Stickers for Less  Kerneler Dark Mode      29.0\n",
       " \n",
       " [2557 rows x 5 columns],\n",
       "                 id country              store            product  num_sold\n",
       " date                                                                      \n",
       " 2010-01-01      60  Norway  Discount Stickers  Holographic Goose     261.0\n",
       " 2010-01-02     150  Norway  Discount Stickers  Holographic Goose     274.0\n",
       " 2010-01-03     240  Norway  Discount Stickers  Holographic Goose     267.0\n",
       " 2010-01-04     330  Norway  Discount Stickers  Holographic Goose     228.0\n",
       " 2010-01-05     420  Norway  Discount Stickers  Holographic Goose     206.0\n",
       " ...            ...     ...                ...                ...       ...\n",
       " 2016-12-27  229740  Norway  Discount Stickers  Holographic Goose     175.0\n",
       " 2016-12-28  229830  Norway  Discount Stickers  Holographic Goose     186.0\n",
       " 2016-12-29  229920  Norway  Discount Stickers  Holographic Goose     231.0\n",
       " 2016-12-30  230010  Norway  Discount Stickers  Holographic Goose     223.0\n",
       " 2016-12-31  230100  Norway  Discount Stickers  Holographic Goose     207.0\n",
       " \n",
       " [2557 rows x 5 columns],\n",
       "                 id country              store product  num_sold\n",
       " date                                                           \n",
       " 2010-01-01      61  Norway  Discount Stickers  Kaggle    1692.0\n",
       " 2010-01-02     151  Norway  Discount Stickers  Kaggle    1634.0\n",
       " 2010-01-03     241  Norway  Discount Stickers  Kaggle    1753.0\n",
       " 2010-01-04     331  Norway  Discount Stickers  Kaggle    1216.0\n",
       " 2010-01-05     421  Norway  Discount Stickers  Kaggle    1348.0\n",
       " ...            ...     ...                ...     ...       ...\n",
       " 2016-12-27  229741  Norway  Discount Stickers  Kaggle    1064.0\n",
       " 2016-12-28  229831  Norway  Discount Stickers  Kaggle    1276.0\n",
       " 2016-12-29  229921  Norway  Discount Stickers  Kaggle    1326.0\n",
       " 2016-12-30  230011  Norway  Discount Stickers  Kaggle    1522.0\n",
       " 2016-12-31  230101  Norway  Discount Stickers  Kaggle    1319.0\n",
       " \n",
       " [2557 rows x 5 columns],\n",
       "                 id country              store       product  num_sold\n",
       " date                                                                 \n",
       " 2010-01-01      62  Norway  Discount Stickers  Kaggle Tiers    1525.0\n",
       " 2010-01-02     152  Norway  Discount Stickers  Kaggle Tiers    1508.0\n",
       " 2010-01-03     242  Norway  Discount Stickers  Kaggle Tiers    1582.0\n",
       " 2010-01-04     332  Norway  Discount Stickers  Kaggle Tiers    1316.0\n",
       " 2010-01-05     422  Norway  Discount Stickers  Kaggle Tiers    1117.0\n",
       " ...            ...     ...                ...           ...       ...\n",
       " 2016-12-27  229742  Norway  Discount Stickers  Kaggle Tiers     918.0\n",
       " 2016-12-28  229832  Norway  Discount Stickers  Kaggle Tiers     945.0\n",
       " 2016-12-29  229922  Norway  Discount Stickers  Kaggle Tiers    1123.0\n",
       " 2016-12-30  230012  Norway  Discount Stickers  Kaggle Tiers    1167.0\n",
       " 2016-12-31  230102  Norway  Discount Stickers  Kaggle Tiers    1201.0\n",
       " \n",
       " [2557 rows x 5 columns],\n",
       "                 id country              store   product  num_sold\n",
       " date                                                             \n",
       " 2010-01-01      63  Norway  Discount Stickers  Kerneler     791.0\n",
       " 2010-01-02     153  Norway  Discount Stickers  Kerneler     799.0\n",
       " 2010-01-03     243  Norway  Discount Stickers  Kerneler     830.0\n",
       " 2010-01-04     333  Norway  Discount Stickers  Kerneler     550.0\n",
       " 2010-01-05     423  Norway  Discount Stickers  Kerneler     574.0\n",
       " ...            ...     ...                ...       ...       ...\n",
       " 2016-12-27  229743  Norway  Discount Stickers  Kerneler     521.0\n",
       " 2016-12-28  229833  Norway  Discount Stickers  Kerneler     611.0\n",
       " 2016-12-29  229923  Norway  Discount Stickers  Kerneler     653.0\n",
       " 2016-12-30  230013  Norway  Discount Stickers  Kerneler     619.0\n",
       " 2016-12-31  230103  Norway  Discount Stickers  Kerneler     628.0\n",
       " \n",
       " [2557 rows x 5 columns],\n",
       "                 id country              store             product  num_sold\n",
       " date                                                                       \n",
       " 2010-01-01      64  Norway  Discount Stickers  Kerneler Dark Mode     911.0\n",
       " 2010-01-02     154  Norway  Discount Stickers  Kerneler Dark Mode     884.0\n",
       " 2010-01-03     244  Norway  Discount Stickers  Kerneler Dark Mode     879.0\n",
       " 2010-01-04     334  Norway  Discount Stickers  Kerneler Dark Mode     767.0\n",
       " 2010-01-05     424  Norway  Discount Stickers  Kerneler Dark Mode     711.0\n",
       " ...            ...     ...                ...                 ...       ...\n",
       " 2016-12-27  229744  Norway  Discount Stickers  Kerneler Dark Mode     613.0\n",
       " 2016-12-28  229834  Norway  Discount Stickers  Kerneler Dark Mode     613.0\n",
       " 2016-12-29  229924  Norway  Discount Stickers  Kerneler Dark Mode     686.0\n",
       " 2016-12-30  230014  Norway  Discount Stickers  Kerneler Dark Mode     814.0\n",
       " 2016-12-31  230104  Norway  Discount Stickers  Kerneler Dark Mode     773.0\n",
       " \n",
       " [2557 rows x 5 columns],\n",
       "                 id country                 store            product  num_sold\n",
       " date                                                                         \n",
       " 2010-01-01      70  Norway  Premium Sticker Mart  Holographic Goose     625.0\n",
       " 2010-01-02     160  Norway  Premium Sticker Mart  Holographic Goose     643.0\n",
       " 2010-01-03     250  Norway  Premium Sticker Mart  Holographic Goose     654.0\n",
       " 2010-01-04     340  Norway  Premium Sticker Mart  Holographic Goose     496.0\n",
       " 2010-01-05     430  Norway  Premium Sticker Mart  Holographic Goose     478.0\n",
       " ...            ...     ...                   ...                ...       ...\n",
       " 2016-12-27  229750  Norway  Premium Sticker Mart  Holographic Goose     435.0\n",
       " 2016-12-28  229840  Norway  Premium Sticker Mart  Holographic Goose     509.0\n",
       " 2016-12-29  229930  Norway  Premium Sticker Mart  Holographic Goose     498.0\n",
       " 2016-12-30  230020  Norway  Premium Sticker Mart  Holographic Goose     541.0\n",
       " 2016-12-31  230110  Norway  Premium Sticker Mart  Holographic Goose     576.0\n",
       " \n",
       " [2557 rows x 5 columns],\n",
       "                 id country                 store product  num_sold\n",
       " date                                                              \n",
       " 2010-01-01      71  Norway  Premium Sticker Mart  Kaggle    3940.0\n",
       " 2010-01-02     161  Norway  Premium Sticker Mart  Kaggle    3915.0\n",
       " 2010-01-03     251  Norway  Premium Sticker Mart  Kaggle    4541.0\n",
       " 2010-01-04     341  Norway  Premium Sticker Mart  Kaggle    3303.0\n",
       " 2010-01-05     431  Norway  Premium Sticker Mart  Kaggle    3008.0\n",
       " ...            ...     ...                   ...     ...       ...\n",
       " 2016-12-27  229751  Norway  Premium Sticker Mart  Kaggle    2819.0\n",
       " 2016-12-28  229841  Norway  Premium Sticker Mart  Kaggle    3283.0\n",
       " 2016-12-29  229931  Norway  Premium Sticker Mart  Kaggle    3341.0\n",
       " 2016-12-30  230021  Norway  Premium Sticker Mart  Kaggle    3465.0\n",
       " 2016-12-31  230111  Norway  Premium Sticker Mart  Kaggle    3459.0\n",
       " \n",
       " [2557 rows x 5 columns],\n",
       "                 id country                 store       product  num_sold\n",
       " date                                                                    \n",
       " 2010-01-01      72  Norway  Premium Sticker Mart  Kaggle Tiers    3430.0\n",
       " 2010-01-02     162  Norway  Premium Sticker Mart  Kaggle Tiers    3482.0\n",
       " 2010-01-03     252  Norway  Premium Sticker Mart  Kaggle Tiers    3867.0\n",
       " 2010-01-04     342  Norway  Premium Sticker Mart  Kaggle Tiers    2913.0\n",
       " 2010-01-05     432  Norway  Premium Sticker Mart  Kaggle Tiers    2824.0\n",
       " ...            ...     ...                   ...           ...       ...\n",
       " 2016-12-27  229752  Norway  Premium Sticker Mart  Kaggle Tiers    2125.0\n",
       " 2016-12-28  229842  Norway  Premium Sticker Mart  Kaggle Tiers    2455.0\n",
       " 2016-12-29  229932  Norway  Premium Sticker Mart  Kaggle Tiers    2756.0\n",
       " 2016-12-30  230022  Norway  Premium Sticker Mart  Kaggle Tiers    2512.0\n",
       " 2016-12-31  230112  Norway  Premium Sticker Mart  Kaggle Tiers    2735.0\n",
       " \n",
       " [2557 rows x 5 columns],\n",
       "                 id country                 store   product  num_sold\n",
       " date                                                                \n",
       " 2010-01-01      73  Norway  Premium Sticker Mart  Kerneler    1951.0\n",
       " 2010-01-02     163  Norway  Premium Sticker Mart  Kerneler    1741.0\n",
       " 2010-01-03     253  Norway  Premium Sticker Mart  Kerneler    1971.0\n",
       " 2010-01-04     343  Norway  Premium Sticker Mart  Kerneler    1460.0\n",
       " 2010-01-05     433  Norway  Premium Sticker Mart  Kerneler    1471.0\n",
       " ...            ...     ...                   ...       ...       ...\n",
       " 2016-12-27  229753  Norway  Premium Sticker Mart  Kerneler    1217.0\n",
       " 2016-12-28  229843  Norway  Premium Sticker Mart  Kerneler    1285.0\n",
       " 2016-12-29  229933  Norway  Premium Sticker Mart  Kerneler    1509.0\n",
       " 2016-12-30  230023  Norway  Premium Sticker Mart  Kerneler    1598.0\n",
       " 2016-12-31  230113  Norway  Premium Sticker Mart  Kerneler    1690.0\n",
       " \n",
       " [2557 rows x 5 columns],\n",
       "                 id country                 store             product  num_sold\n",
       " date                                                                          \n",
       " 2010-01-01      74  Norway  Premium Sticker Mart  Kerneler Dark Mode    2376.0\n",
       " 2010-01-02     164  Norway  Premium Sticker Mart  Kerneler Dark Mode    2050.0\n",
       " 2010-01-03     254  Norway  Premium Sticker Mart  Kerneler Dark Mode    2299.0\n",
       " 2010-01-04     344  Norway  Premium Sticker Mart  Kerneler Dark Mode    1816.0\n",
       " 2010-01-05     434  Norway  Premium Sticker Mart  Kerneler Dark Mode    1567.0\n",
       " ...            ...     ...                   ...                 ...       ...\n",
       " 2016-12-27  229754  Norway  Premium Sticker Mart  Kerneler Dark Mode    1419.0\n",
       " 2016-12-28  229844  Norway  Premium Sticker Mart  Kerneler Dark Mode    1726.0\n",
       " 2016-12-29  229934  Norway  Premium Sticker Mart  Kerneler Dark Mode    1696.0\n",
       " 2016-12-30  230024  Norway  Premium Sticker Mart  Kerneler Dark Mode    1849.0\n",
       " 2016-12-31  230114  Norway  Premium Sticker Mart  Kerneler Dark Mode    1857.0\n",
       " \n",
       " [2557 rows x 5 columns],\n",
       "                 id country              store            product  num_sold\n",
       " date                                                                      \n",
       " 2010-01-01      65  Norway  Stickers for Less  Holographic Goose     579.0\n",
       " 2010-01-02     155  Norway  Stickers for Less  Holographic Goose     475.0\n",
       " 2010-01-03     245  Norway  Stickers for Less  Holographic Goose     568.0\n",
       " 2010-01-04     335  Norway  Stickers for Less  Holographic Goose     445.0\n",
       " 2010-01-05     425  Norway  Stickers for Less  Holographic Goose     400.0\n",
       " ...            ...     ...                ...                ...       ...\n",
       " 2016-12-27  229745  Norway  Stickers for Less  Holographic Goose     404.0\n",
       " 2016-12-28  229835  Norway  Stickers for Less  Holographic Goose     409.0\n",
       " 2016-12-29  229925  Norway  Stickers for Less  Holographic Goose     388.0\n",
       " 2016-12-30  230015  Norway  Stickers for Less  Holographic Goose     468.0\n",
       " 2016-12-31  230105  Norway  Stickers for Less  Holographic Goose     474.0\n",
       " \n",
       " [2557 rows x 5 columns],\n",
       "                 id country              store product  num_sold\n",
       " date                                                           \n",
       " 2010-01-01      66  Norway  Stickers for Less  Kaggle    3369.0\n",
       " 2010-01-02     156  Norway  Stickers for Less  Kaggle    3545.0\n",
       " 2010-01-03     246  Norway  Stickers for Less  Kaggle    3526.0\n",
       " 2010-01-04     336  Norway  Stickers for Less  Kaggle    2851.0\n",
       " 2010-01-05     426  Norway  Stickers for Less  Kaggle    2720.0\n",
       " ...            ...     ...                ...     ...       ...\n",
       " 2016-12-27  229746  Norway  Stickers for Less  Kaggle    2355.0\n",
       " 2016-12-28  229836  Norway  Stickers for Less  Kaggle    2610.0\n",
       " 2016-12-29  229926  Norway  Stickers for Less  Kaggle    2764.0\n",
       " 2016-12-30  230016  Norway  Stickers for Less  Kaggle    3127.0\n",
       " 2016-12-31  230106  Norway  Stickers for Less  Kaggle    2767.0\n",
       " \n",
       " [2557 rows x 5 columns],\n",
       "                 id country              store       product  num_sold\n",
       " date                                                                 \n",
       " 2010-01-01      67  Norway  Stickers for Less  Kaggle Tiers    3195.0\n",
       " 2010-01-02     157  Norway  Stickers for Less  Kaggle Tiers    2784.0\n",
       " 2010-01-03     247  Norway  Stickers for Less  Kaggle Tiers    2866.0\n",
       " 2010-01-04     337  Norway  Stickers for Less  Kaggle Tiers    2627.0\n",
       " 2010-01-05     427  Norway  Stickers for Less  Kaggle Tiers    2323.0\n",
       " ...            ...     ...                ...           ...       ...\n",
       " 2016-12-27  229747  Norway  Stickers for Less  Kaggle Tiers    1854.0\n",
       " 2016-12-28  229837  Norway  Stickers for Less  Kaggle Tiers    1967.0\n",
       " 2016-12-29  229927  Norway  Stickers for Less  Kaggle Tiers    2111.0\n",
       " 2016-12-30  230017  Norway  Stickers for Less  Kaggle Tiers    2359.0\n",
       " 2016-12-31  230107  Norway  Stickers for Less  Kaggle Tiers    2070.0\n",
       " \n",
       " [2557 rows x 5 columns],\n",
       "                 id country              store   product  num_sold\n",
       " date                                                             \n",
       " 2010-01-01      68  Norway  Stickers for Less  Kerneler    1606.0\n",
       " 2010-01-02     158  Norway  Stickers for Less  Kerneler    1537.0\n",
       " 2010-01-03     248  Norway  Stickers for Less  Kerneler    1571.0\n",
       " 2010-01-04     338  Norway  Stickers for Less  Kerneler    1246.0\n",
       " 2010-01-05     428  Norway  Stickers for Less  Kerneler    1246.0\n",
       " ...            ...     ...                ...       ...       ...\n",
       " 2016-12-27  229748  Norway  Stickers for Less  Kerneler    1099.0\n",
       " 2016-12-28  229838  Norway  Stickers for Less  Kerneler    1149.0\n",
       " 2016-12-29  229928  Norway  Stickers for Less  Kerneler    1272.0\n",
       " 2016-12-30  230018  Norway  Stickers for Less  Kerneler    1221.0\n",
       " 2016-12-31  230108  Norway  Stickers for Less  Kerneler    1231.0\n",
       " \n",
       " [2557 rows x 5 columns],\n",
       "                 id country              store             product  num_sold\n",
       " date                                                                       \n",
       " 2010-01-01      69  Norway  Stickers for Less  Kerneler Dark Mode    1672.0\n",
       " 2010-01-02     159  Norway  Stickers for Less  Kerneler Dark Mode    1907.0\n",
       " 2010-01-03     249  Norway  Stickers for Less  Kerneler Dark Mode    1879.0\n",
       " 2010-01-04     339  Norway  Stickers for Less  Kerneler Dark Mode    1532.0\n",
       " 2010-01-05     429  Norway  Stickers for Less  Kerneler Dark Mode    1488.0\n",
       " ...            ...     ...                ...                 ...       ...\n",
       " 2016-12-27  229749  Norway  Stickers for Less  Kerneler Dark Mode    1328.0\n",
       " 2016-12-28  229839  Norway  Stickers for Less  Kerneler Dark Mode    1316.0\n",
       " 2016-12-29  229929  Norway  Stickers for Less  Kerneler Dark Mode    1375.0\n",
       " 2016-12-30  230019  Norway  Stickers for Less  Kerneler Dark Mode    1622.0\n",
       " 2016-12-31  230109  Norway  Stickers for Less  Kerneler Dark Mode    1682.0\n",
       " \n",
       " [2557 rows x 5 columns],\n",
       "                 id    country              store            product  num_sold\n",
       " date                                                                         \n",
       " 2010-01-01      75  Singapore  Discount Stickers  Holographic Goose     150.0\n",
       " 2010-01-02     165  Singapore  Discount Stickers  Holographic Goose     146.0\n",
       " 2010-01-03     255  Singapore  Discount Stickers  Holographic Goose     155.0\n",
       " 2010-01-04     345  Singapore  Discount Stickers  Holographic Goose     123.0\n",
       " 2010-01-05     435  Singapore  Discount Stickers  Holographic Goose     111.0\n",
       " ...            ...        ...                ...                ...       ...\n",
       " 2016-12-27  229755  Singapore  Discount Stickers  Holographic Goose     153.0\n",
       " 2016-12-28  229845  Singapore  Discount Stickers  Holographic Goose     158.0\n",
       " 2016-12-29  229935  Singapore  Discount Stickers  Holographic Goose     194.0\n",
       " 2016-12-30  230025  Singapore  Discount Stickers  Holographic Goose     184.0\n",
       " 2016-12-31  230115  Singapore  Discount Stickers  Holographic Goose     200.0\n",
       " \n",
       " [2557 rows x 5 columns],\n",
       "                 id    country              store product  num_sold\n",
       " date                                                              \n",
       " 2010-01-01      76  Singapore  Discount Stickers  Kaggle     939.0\n",
       " 2010-01-02     166  Singapore  Discount Stickers  Kaggle     857.0\n",
       " 2010-01-03     256  Singapore  Discount Stickers  Kaggle     979.0\n",
       " 2010-01-04     346  Singapore  Discount Stickers  Kaggle     766.0\n",
       " 2010-01-05     436  Singapore  Discount Stickers  Kaggle     772.0\n",
       " ...            ...        ...                ...     ...       ...\n",
       " 2016-12-27  229756  Singapore  Discount Stickers  Kaggle     956.0\n",
       " 2016-12-28  229846  Singapore  Discount Stickers  Kaggle    1027.0\n",
       " 2016-12-29  229936  Singapore  Discount Stickers  Kaggle    1154.0\n",
       " 2016-12-30  230026  Singapore  Discount Stickers  Kaggle    1248.0\n",
       " 2016-12-31  230116  Singapore  Discount Stickers  Kaggle    1259.0\n",
       " \n",
       " [2557 rows x 5 columns],\n",
       "                 id    country              store       product  num_sold\n",
       " date                                                                    \n",
       " 2010-01-01      77  Singapore  Discount Stickers  Kaggle Tiers     768.0\n",
       " 2010-01-02     167  Singapore  Discount Stickers  Kaggle Tiers     792.0\n",
       " 2010-01-03     257  Singapore  Discount Stickers  Kaggle Tiers     832.0\n",
       " 2010-01-04     347  Singapore  Discount Stickers  Kaggle Tiers     668.0\n",
       " 2010-01-05     437  Singapore  Discount Stickers  Kaggle Tiers     693.0\n",
       " ...            ...        ...                ...           ...       ...\n",
       " 2016-12-27  229757  Singapore  Discount Stickers  Kaggle Tiers     664.0\n",
       " 2016-12-28  229847  Singapore  Discount Stickers  Kaggle Tiers     843.0\n",
       " 2016-12-29  229937  Singapore  Discount Stickers  Kaggle Tiers     834.0\n",
       " 2016-12-30  230027  Singapore  Discount Stickers  Kaggle Tiers     908.0\n",
       " 2016-12-31  230117  Singapore  Discount Stickers  Kaggle Tiers     931.0\n",
       " \n",
       " [2557 rows x 5 columns],\n",
       "                 id    country              store   product  num_sold\n",
       " date                                                                \n",
       " 2010-01-01      78  Singapore  Discount Stickers  Kerneler     405.0\n",
       " 2010-01-02     168  Singapore  Discount Stickers  Kerneler     410.0\n",
       " 2010-01-03     258  Singapore  Discount Stickers  Kerneler     462.0\n",
       " 2010-01-04     348  Singapore  Discount Stickers  Kerneler     329.0\n",
       " 2010-01-05     438  Singapore  Discount Stickers  Kerneler     341.0\n",
       " ...            ...        ...                ...       ...       ...\n",
       " 2016-12-27  229758  Singapore  Discount Stickers  Kerneler     429.0\n",
       " 2016-12-28  229848  Singapore  Discount Stickers  Kerneler     452.0\n",
       " 2016-12-29  229938  Singapore  Discount Stickers  Kerneler     519.0\n",
       " 2016-12-30  230028  Singapore  Discount Stickers  Kerneler     491.0\n",
       " 2016-12-31  230118  Singapore  Discount Stickers  Kerneler     556.0\n",
       " \n",
       " [2557 rows x 5 columns],\n",
       "                 id    country              store             product  num_sold\n",
       " date                                                                          \n",
       " 2010-01-01      79  Singapore  Discount Stickers  Kerneler Dark Mode     495.0\n",
       " 2010-01-02     169  Singapore  Discount Stickers  Kerneler Dark Mode     468.0\n",
       " 2010-01-03     259  Singapore  Discount Stickers  Kerneler Dark Mode     498.0\n",
       " 2010-01-04     349  Singapore  Discount Stickers  Kerneler Dark Mode     385.0\n",
       " 2010-01-05     439  Singapore  Discount Stickers  Kerneler Dark Mode     372.0\n",
       " ...            ...        ...                ...                 ...       ...\n",
       " 2016-12-27  229759  Singapore  Discount Stickers  Kerneler Dark Mode     504.0\n",
       " 2016-12-28  229849  Singapore  Discount Stickers  Kerneler Dark Mode     577.0\n",
       " 2016-12-29  229939  Singapore  Discount Stickers  Kerneler Dark Mode     606.0\n",
       " 2016-12-30  230029  Singapore  Discount Stickers  Kerneler Dark Mode     632.0\n",
       " 2016-12-31  230119  Singapore  Discount Stickers  Kerneler Dark Mode     637.0\n",
       " \n",
       " [2557 rows x 5 columns],\n",
       "                 id    country                 store            product  \\\n",
       " date                                                                     \n",
       " 2010-01-01      85  Singapore  Premium Sticker Mart  Holographic Goose   \n",
       " 2010-01-02     175  Singapore  Premium Sticker Mart  Holographic Goose   \n",
       " 2010-01-03     265  Singapore  Premium Sticker Mart  Holographic Goose   \n",
       " 2010-01-04     355  Singapore  Premium Sticker Mart  Holographic Goose   \n",
       " 2010-01-05     445  Singapore  Premium Sticker Mart  Holographic Goose   \n",
       " ...            ...        ...                   ...                ...   \n",
       " 2016-12-27  229765  Singapore  Premium Sticker Mart  Holographic Goose   \n",
       " 2016-12-28  229855  Singapore  Premium Sticker Mart  Holographic Goose   \n",
       " 2016-12-29  229945  Singapore  Premium Sticker Mart  Holographic Goose   \n",
       " 2016-12-30  230035  Singapore  Premium Sticker Mart  Holographic Goose   \n",
       " 2016-12-31  230125  Singapore  Premium Sticker Mart  Holographic Goose   \n",
       " \n",
       "             num_sold  \n",
       " date                  \n",
       " 2010-01-01     317.0  \n",
       " 2010-01-02     364.0  \n",
       " 2010-01-03     388.0  \n",
       " 2010-01-04     269.0  \n",
       " 2010-01-05     264.0  \n",
       " ...              ...  \n",
       " 2016-12-27     351.0  \n",
       " 2016-12-28     371.0  \n",
       " 2016-12-29     406.0  \n",
       " 2016-12-30     420.0  \n",
       " 2016-12-31     466.0  \n",
       " \n",
       " [2557 rows x 5 columns],\n",
       "                 id    country                 store product  num_sold\n",
       " date                                                                 \n",
       " 2010-01-01      86  Singapore  Premium Sticker Mart  Kaggle    2112.0\n",
       " 2010-01-02     176  Singapore  Premium Sticker Mart  Kaggle    2322.0\n",
       " 2010-01-03     266  Singapore  Premium Sticker Mart  Kaggle    2253.0\n",
       " 2010-01-04     356  Singapore  Premium Sticker Mart  Kaggle    1760.0\n",
       " 2010-01-05     446  Singapore  Premium Sticker Mart  Kaggle    1536.0\n",
       " ...            ...        ...                   ...     ...       ...\n",
       " 2016-12-27  229766  Singapore  Premium Sticker Mart  Kaggle    2169.0\n",
       " 2016-12-28  229856  Singapore  Premium Sticker Mart  Kaggle    2558.0\n",
       " 2016-12-29  229946  Singapore  Premium Sticker Mart  Kaggle    2833.0\n",
       " 2016-12-30  230036  Singapore  Premium Sticker Mart  Kaggle    2822.0\n",
       " 2016-12-31  230126  Singapore  Premium Sticker Mart  Kaggle    2907.0\n",
       " \n",
       " [2557 rows x 5 columns],\n",
       "                 id    country                 store       product  num_sold\n",
       " date                                                                       \n",
       " 2010-01-01      87  Singapore  Premium Sticker Mart  Kaggle Tiers    1992.0\n",
       " 2010-01-02     177  Singapore  Premium Sticker Mart  Kaggle Tiers    1938.0\n",
       " 2010-01-03     267  Singapore  Premium Sticker Mart  Kaggle Tiers    2315.0\n",
       " 2010-01-04     357  Singapore  Premium Sticker Mart  Kaggle Tiers    1656.0\n",
       " 2010-01-05     447  Singapore  Premium Sticker Mart  Kaggle Tiers    1410.0\n",
       " ...            ...        ...                   ...           ...       ...\n",
       " 2016-12-27  229767  Singapore  Premium Sticker Mart  Kaggle Tiers    1906.0\n",
       " 2016-12-28  229857  Singapore  Premium Sticker Mart  Kaggle Tiers    1742.0\n",
       " 2016-12-29  229947  Singapore  Premium Sticker Mart  Kaggle Tiers    2238.0\n",
       " 2016-12-30  230037  Singapore  Premium Sticker Mart  Kaggle Tiers    2109.0\n",
       " 2016-12-31  230127  Singapore  Premium Sticker Mart  Kaggle Tiers    2299.0\n",
       " \n",
       " [2557 rows x 5 columns],\n",
       "                 id    country                 store   product  num_sold\n",
       " date                                                                   \n",
       " 2010-01-01      88  Singapore  Premium Sticker Mart  Kerneler    1045.0\n",
       " 2010-01-02     178  Singapore  Premium Sticker Mart  Kerneler    1010.0\n",
       " 2010-01-03     268  Singapore  Premium Sticker Mart  Kerneler    1040.0\n",
       " 2010-01-04     358  Singapore  Premium Sticker Mart  Kerneler     846.0\n",
       " 2010-01-05     448  Singapore  Premium Sticker Mart  Kerneler     770.0\n",
       " ...            ...        ...                   ...       ...       ...\n",
       " 2016-12-27  229768  Singapore  Premium Sticker Mart  Kerneler    1079.0\n",
       " 2016-12-28  229858  Singapore  Premium Sticker Mart  Kerneler    1050.0\n",
       " 2016-12-29  229948  Singapore  Premium Sticker Mart  Kerneler    1133.0\n",
       " 2016-12-30  230038  Singapore  Premium Sticker Mart  Kerneler    1253.0\n",
       " 2016-12-31  230128  Singapore  Premium Sticker Mart  Kerneler    1242.0\n",
       " \n",
       " [2557 rows x 5 columns],\n",
       "                 id    country                 store             product  \\\n",
       " date                                                                      \n",
       " 2010-01-01      89  Singapore  Premium Sticker Mart  Kerneler Dark Mode   \n",
       " 2010-01-02     179  Singapore  Premium Sticker Mart  Kerneler Dark Mode   \n",
       " 2010-01-03     269  Singapore  Premium Sticker Mart  Kerneler Dark Mode   \n",
       " 2010-01-04     359  Singapore  Premium Sticker Mart  Kerneler Dark Mode   \n",
       " 2010-01-05     449  Singapore  Premium Sticker Mart  Kerneler Dark Mode   \n",
       " ...            ...        ...                   ...                 ...   \n",
       " 2016-12-27  229769  Singapore  Premium Sticker Mart  Kerneler Dark Mode   \n",
       " 2016-12-28  229859  Singapore  Premium Sticker Mart  Kerneler Dark Mode   \n",
       " 2016-12-29  229949  Singapore  Premium Sticker Mart  Kerneler Dark Mode   \n",
       " 2016-12-30  230039  Singapore  Premium Sticker Mart  Kerneler Dark Mode   \n",
       " 2016-12-31  230129  Singapore  Premium Sticker Mart  Kerneler Dark Mode   \n",
       " \n",
       "             num_sold  \n",
       " date                  \n",
       " 2010-01-01    1255.0  \n",
       " 2010-01-02    1224.0  \n",
       " 2010-01-03    1314.0  \n",
       " 2010-01-04     927.0  \n",
       " 2010-01-05     962.0  \n",
       " ...              ...  \n",
       " 2016-12-27    1179.0  \n",
       " 2016-12-28    1177.0  \n",
       " 2016-12-29    1421.0  \n",
       " 2016-12-30    1518.0  \n",
       " 2016-12-31    1622.0  \n",
       " \n",
       " [2557 rows x 5 columns],\n",
       "                 id    country              store            product  num_sold\n",
       " date                                                                         \n",
       " 2010-01-01      80  Singapore  Stickers for Less  Holographic Goose     301.0\n",
       " 2010-01-02     170  Singapore  Stickers for Less  Holographic Goose     268.0\n",
       " 2010-01-03     260  Singapore  Stickers for Less  Holographic Goose     289.0\n",
       " 2010-01-04     350  Singapore  Stickers for Less  Holographic Goose     256.0\n",
       " 2010-01-05     440  Singapore  Stickers for Less  Holographic Goose     226.0\n",
       " ...            ...        ...                ...                ...       ...\n",
       " 2016-12-27  229760  Singapore  Stickers for Less  Holographic Goose     267.0\n",
       " 2016-12-28  229850  Singapore  Stickers for Less  Holographic Goose     316.0\n",
       " 2016-12-29  229940  Singapore  Stickers for Less  Holographic Goose     357.0\n",
       " 2016-12-30  230030  Singapore  Stickers for Less  Holographic Goose     359.0\n",
       " 2016-12-31  230120  Singapore  Stickers for Less  Holographic Goose     384.0\n",
       " \n",
       " [2557 rows x 5 columns],\n",
       "                 id    country              store product  num_sold\n",
       " date                                                              \n",
       " 2010-01-01      81  Singapore  Stickers for Less  Kaggle    1981.0\n",
       " 2010-01-02     171  Singapore  Stickers for Less  Kaggle    1763.0\n",
       " 2010-01-03     261  Singapore  Stickers for Less  Kaggle    1801.0\n",
       " 2010-01-04     351  Singapore  Stickers for Less  Kaggle    1543.0\n",
       " 2010-01-05     441  Singapore  Stickers for Less  Kaggle    1364.0\n",
       " ...            ...        ...                ...     ...       ...\n",
       " 2016-12-27  229761  Singapore  Stickers for Less  Kaggle    1948.0\n",
       " 2016-12-28  229851  Singapore  Stickers for Less  Kaggle    2127.0\n",
       " 2016-12-29  229941  Singapore  Stickers for Less  Kaggle    2269.0\n",
       " 2016-12-30  230031  Singapore  Stickers for Less  Kaggle    2357.0\n",
       " 2016-12-31  230121  Singapore  Stickers for Less  Kaggle    2380.0\n",
       " \n",
       " [2557 rows x 5 columns],\n",
       "                 id    country              store       product  num_sold\n",
       " date                                                                    \n",
       " 2010-01-01      82  Singapore  Stickers for Less  Kaggle Tiers    1565.0\n",
       " 2010-01-02     172  Singapore  Stickers for Less  Kaggle Tiers    1689.0\n",
       " 2010-01-03     262  Singapore  Stickers for Less  Kaggle Tiers    1690.0\n",
       " 2010-01-04     352  Singapore  Stickers for Less  Kaggle Tiers    1205.0\n",
       " 2010-01-05     442  Singapore  Stickers for Less  Kaggle Tiers    1352.0\n",
       " ...            ...        ...                ...           ...       ...\n",
       " 2016-12-27  229762  Singapore  Stickers for Less  Kaggle Tiers    1483.0\n",
       " 2016-12-28  229852  Singapore  Stickers for Less  Kaggle Tiers    1580.0\n",
       " 2016-12-29  229942  Singapore  Stickers for Less  Kaggle Tiers    1788.0\n",
       " 2016-12-30  230032  Singapore  Stickers for Less  Kaggle Tiers    1872.0\n",
       " 2016-12-31  230122  Singapore  Stickers for Less  Kaggle Tiers    2103.0\n",
       " \n",
       " [2557 rows x 5 columns],\n",
       "                 id    country              store   product  num_sold\n",
       " date                                                                \n",
       " 2010-01-01      83  Singapore  Stickers for Less  Kerneler     841.0\n",
       " 2010-01-02     173  Singapore  Stickers for Less  Kerneler     781.0\n",
       " 2010-01-03     263  Singapore  Stickers for Less  Kerneler     813.0\n",
       " 2010-01-04     353  Singapore  Stickers for Less  Kerneler     602.0\n",
       " 2010-01-05     443  Singapore  Stickers for Less  Kerneler     629.0\n",
       " ...            ...        ...                ...       ...       ...\n",
       " 2016-12-27  229763  Singapore  Stickers for Less  Kerneler     853.0\n",
       " 2016-12-28  229853  Singapore  Stickers for Less  Kerneler     962.0\n",
       " 2016-12-29  229943  Singapore  Stickers for Less  Kerneler     980.0\n",
       " 2016-12-30  230033  Singapore  Stickers for Less  Kerneler    1094.0\n",
       " 2016-12-31  230123  Singapore  Stickers for Less  Kerneler    1052.0\n",
       " \n",
       " [2557 rows x 5 columns],\n",
       "                 id    country              store             product  num_sold\n",
       " date                                                                          \n",
       " 2010-01-01      84  Singapore  Stickers for Less  Kerneler Dark Mode    1080.0\n",
       " 2010-01-02     174  Singapore  Stickers for Less  Kerneler Dark Mode     971.0\n",
       " 2010-01-03     264  Singapore  Stickers for Less  Kerneler Dark Mode     987.0\n",
       " 2010-01-04     354  Singapore  Stickers for Less  Kerneler Dark Mode     839.0\n",
       " 2010-01-05     444  Singapore  Stickers for Less  Kerneler Dark Mode     795.0\n",
       " ...            ...        ...                ...                 ...       ...\n",
       " 2016-12-27  229764  Singapore  Stickers for Less  Kerneler Dark Mode    1016.0\n",
       " 2016-12-28  229854  Singapore  Stickers for Less  Kerneler Dark Mode    1062.0\n",
       " 2016-12-29  229944  Singapore  Stickers for Less  Kerneler Dark Mode    1178.0\n",
       " 2016-12-30  230034  Singapore  Stickers for Less  Kerneler Dark Mode    1357.0\n",
       " 2016-12-31  230124  Singapore  Stickers for Less  Kerneler Dark Mode    1312.0\n",
       " \n",
       " [2557 rows x 5 columns]]"
      ]
     },
     "execution_count": 57,
     "metadata": {},
     "output_type": "execute_result"
    }
   ],
   "source": [
    "list(grouped_dataframes.values())"
   ]
  },
  {
   "cell_type": "code",
   "execution_count": 23,
   "metadata": {},
   "outputs": [],
   "source": [
    "example_some_nan_df = grouped_dataframes[some_nans_list[1]]"
   ]
  },
  {
   "cell_type": "code",
   "execution_count": 24,
   "metadata": {},
   "outputs": [
    {
     "data": {
      "text/plain": [
       "id                            10\n",
       "country                   Canada\n",
       "store       Premium Sticker Mart\n",
       "product        Holographic Goose\n",
       "num_sold                   375.0\n",
       "Name: 2010-01-01 00:00:00, dtype: object"
      ]
     },
     "execution_count": 24,
     "metadata": {},
     "output_type": "execute_result"
    }
   ],
   "source": [
    "example_some_nan_df.iloc[0]"
   ]
  },
  {
   "cell_type": "code",
   "execution_count": 25,
   "metadata": {},
   "outputs": [],
   "source": [
    "nan_clean = example_some_nan_df.apply(fill_with_mean_neighbor)"
   ]
  },
  {
   "cell_type": "code",
   "execution_count": 26,
   "metadata": {},
   "outputs": [
    {
     "data": {
      "text/plain": [
       "id          0\n",
       "country     0\n",
       "store       0\n",
       "product     0\n",
       "num_sold    0\n",
       "dtype: int64"
      ]
     },
     "execution_count": 26,
     "metadata": {},
     "output_type": "execute_result"
    }
   ],
   "source": [
    "nan_clean.isna().sum()"
   ]
  },
  {
   "cell_type": "code",
   "execution_count": 27,
   "metadata": {},
   "outputs": [
    {
     "name": "stdout",
     "output_type": "stream",
     "text": [
      "Number of dataframes without values: 2\n",
      "Number of dataframes without NaNs: 81\n",
      "Number of dataframes with some NaNs: 7\n"
     ]
    }
   ],
   "source": [
    "print(f'Number of dataframes without values: {len(all_nans_list)}')\n",
    "print(f'Number of dataframes without NaNs: {len(no_nans_list)}')\n",
    "print(f'Number of dataframes with some NaNs: {len(some_nans_list)}')"
   ]
  },
  {
   "cell_type": "code",
   "execution_count": 28,
   "metadata": {},
   "outputs": [
    {
     "data": {
      "text/html": [
       "<div>\n",
       "<style scoped>\n",
       "    .dataframe tbody tr th:only-of-type {\n",
       "        vertical-align: middle;\n",
       "    }\n",
       "\n",
       "    .dataframe tbody tr th {\n",
       "        vertical-align: top;\n",
       "    }\n",
       "\n",
       "    .dataframe thead th {\n",
       "        text-align: right;\n",
       "    }\n",
       "</style>\n",
       "<table border=\"1\" class=\"dataframe\">\n",
       "  <thead>\n",
       "    <tr style=\"text-align: right;\">\n",
       "      <th></th>\n",
       "      <th>id</th>\n",
       "      <th>country</th>\n",
       "      <th>store</th>\n",
       "      <th>product</th>\n",
       "      <th>num_sold</th>\n",
       "    </tr>\n",
       "    <tr>\n",
       "      <th>date</th>\n",
       "      <th></th>\n",
       "      <th></th>\n",
       "      <th></th>\n",
       "      <th></th>\n",
       "      <th></th>\n",
       "    </tr>\n",
       "  </thead>\n",
       "  <tbody>\n",
       "    <tr>\n",
       "      <th>2010-01-01</th>\n",
       "      <td>0</td>\n",
       "      <td>Canada</td>\n",
       "      <td>Discount Stickers</td>\n",
       "      <td>Holographic Goose</td>\n",
       "      <td>NaN</td>\n",
       "    </tr>\n",
       "    <tr>\n",
       "      <th>2010-01-01</th>\n",
       "      <td>1</td>\n",
       "      <td>Canada</td>\n",
       "      <td>Discount Stickers</td>\n",
       "      <td>Kaggle</td>\n",
       "      <td>973.0</td>\n",
       "    </tr>\n",
       "    <tr>\n",
       "      <th>2010-01-01</th>\n",
       "      <td>2</td>\n",
       "      <td>Canada</td>\n",
       "      <td>Discount Stickers</td>\n",
       "      <td>Kaggle Tiers</td>\n",
       "      <td>906.0</td>\n",
       "    </tr>\n",
       "    <tr>\n",
       "      <th>2010-01-01</th>\n",
       "      <td>3</td>\n",
       "      <td>Canada</td>\n",
       "      <td>Discount Stickers</td>\n",
       "      <td>Kerneler</td>\n",
       "      <td>423.0</td>\n",
       "    </tr>\n",
       "    <tr>\n",
       "      <th>2010-01-01</th>\n",
       "      <td>4</td>\n",
       "      <td>Canada</td>\n",
       "      <td>Discount Stickers</td>\n",
       "      <td>Kerneler Dark Mode</td>\n",
       "      <td>491.0</td>\n",
       "    </tr>\n",
       "    <tr>\n",
       "      <th>2010-01-01</th>\n",
       "      <td>5</td>\n",
       "      <td>Canada</td>\n",
       "      <td>Stickers for Less</td>\n",
       "      <td>Holographic Goose</td>\n",
       "      <td>300.0</td>\n",
       "    </tr>\n",
       "    <tr>\n",
       "      <th>2010-01-01</th>\n",
       "      <td>6</td>\n",
       "      <td>Canada</td>\n",
       "      <td>Stickers for Less</td>\n",
       "      <td>Kaggle</td>\n",
       "      <td>1837.0</td>\n",
       "    </tr>\n",
       "    <tr>\n",
       "      <th>2010-01-01</th>\n",
       "      <td>7</td>\n",
       "      <td>Canada</td>\n",
       "      <td>Stickers for Less</td>\n",
       "      <td>Kaggle Tiers</td>\n",
       "      <td>1659.0</td>\n",
       "    </tr>\n",
       "    <tr>\n",
       "      <th>2010-01-01</th>\n",
       "      <td>8</td>\n",
       "      <td>Canada</td>\n",
       "      <td>Stickers for Less</td>\n",
       "      <td>Kerneler</td>\n",
       "      <td>807.0</td>\n",
       "    </tr>\n",
       "    <tr>\n",
       "      <th>2010-01-01</th>\n",
       "      <td>9</td>\n",
       "      <td>Canada</td>\n",
       "      <td>Stickers for Less</td>\n",
       "      <td>Kerneler Dark Mode</td>\n",
       "      <td>940.0</td>\n",
       "    </tr>\n",
       "    <tr>\n",
       "      <th>2010-01-01</th>\n",
       "      <td>10</td>\n",
       "      <td>Canada</td>\n",
       "      <td>Premium Sticker Mart</td>\n",
       "      <td>Holographic Goose</td>\n",
       "      <td>375.0</td>\n",
       "    </tr>\n",
       "    <tr>\n",
       "      <th>2010-01-01</th>\n",
       "      <td>11</td>\n",
       "      <td>Canada</td>\n",
       "      <td>Premium Sticker Mart</td>\n",
       "      <td>Kaggle</td>\n",
       "      <td>2212.0</td>\n",
       "    </tr>\n",
       "    <tr>\n",
       "      <th>2010-01-01</th>\n",
       "      <td>12</td>\n",
       "      <td>Canada</td>\n",
       "      <td>Premium Sticker Mart</td>\n",
       "      <td>Kaggle Tiers</td>\n",
       "      <td>2013.0</td>\n",
       "    </tr>\n",
       "    <tr>\n",
       "      <th>2010-01-01</th>\n",
       "      <td>13</td>\n",
       "      <td>Canada</td>\n",
       "      <td>Premium Sticker Mart</td>\n",
       "      <td>Kerneler</td>\n",
       "      <td>950.0</td>\n",
       "    </tr>\n",
       "    <tr>\n",
       "      <th>2010-01-01</th>\n",
       "      <td>14</td>\n",
       "      <td>Canada</td>\n",
       "      <td>Premium Sticker Mart</td>\n",
       "      <td>Kerneler Dark Mode</td>\n",
       "      <td>1213.0</td>\n",
       "    </tr>\n",
       "    <tr>\n",
       "      <th>2010-01-01</th>\n",
       "      <td>15</td>\n",
       "      <td>Finland</td>\n",
       "      <td>Discount Stickers</td>\n",
       "      <td>Holographic Goose</td>\n",
       "      <td>150.0</td>\n",
       "    </tr>\n",
       "    <tr>\n",
       "      <th>2010-01-01</th>\n",
       "      <td>16</td>\n",
       "      <td>Finland</td>\n",
       "      <td>Discount Stickers</td>\n",
       "      <td>Kaggle</td>\n",
       "      <td>926.0</td>\n",
       "    </tr>\n",
       "    <tr>\n",
       "      <th>2010-01-01</th>\n",
       "      <td>17</td>\n",
       "      <td>Finland</td>\n",
       "      <td>Discount Stickers</td>\n",
       "      <td>Kaggle Tiers</td>\n",
       "      <td>774.0</td>\n",
       "    </tr>\n",
       "    <tr>\n",
       "      <th>2010-01-01</th>\n",
       "      <td>18</td>\n",
       "      <td>Finland</td>\n",
       "      <td>Discount Stickers</td>\n",
       "      <td>Kerneler</td>\n",
       "      <td>424.0</td>\n",
       "    </tr>\n",
       "    <tr>\n",
       "      <th>2010-01-01</th>\n",
       "      <td>19</td>\n",
       "      <td>Finland</td>\n",
       "      <td>Discount Stickers</td>\n",
       "      <td>Kerneler Dark Mode</td>\n",
       "      <td>450.0</td>\n",
       "    </tr>\n",
       "    <tr>\n",
       "      <th>2010-01-01</th>\n",
       "      <td>20</td>\n",
       "      <td>Finland</td>\n",
       "      <td>Stickers for Less</td>\n",
       "      <td>Holographic Goose</td>\n",
       "      <td>311.0</td>\n",
       "    </tr>\n",
       "    <tr>\n",
       "      <th>2010-01-01</th>\n",
       "      <td>21</td>\n",
       "      <td>Finland</td>\n",
       "      <td>Stickers for Less</td>\n",
       "      <td>Kaggle</td>\n",
       "      <td>1948.0</td>\n",
       "    </tr>\n",
       "    <tr>\n",
       "      <th>2010-01-01</th>\n",
       "      <td>22</td>\n",
       "      <td>Finland</td>\n",
       "      <td>Stickers for Less</td>\n",
       "      <td>Kaggle Tiers</td>\n",
       "      <td>1632.0</td>\n",
       "    </tr>\n",
       "    <tr>\n",
       "      <th>2010-01-01</th>\n",
       "      <td>23</td>\n",
       "      <td>Finland</td>\n",
       "      <td>Stickers for Less</td>\n",
       "      <td>Kerneler</td>\n",
       "      <td>878.0</td>\n",
       "    </tr>\n",
       "    <tr>\n",
       "      <th>2010-01-01</th>\n",
       "      <td>24</td>\n",
       "      <td>Finland</td>\n",
       "      <td>Stickers for Less</td>\n",
       "      <td>Kerneler Dark Mode</td>\n",
       "      <td>950.0</td>\n",
       "    </tr>\n",
       "    <tr>\n",
       "      <th>2010-01-01</th>\n",
       "      <td>25</td>\n",
       "      <td>Finland</td>\n",
       "      <td>Premium Sticker Mart</td>\n",
       "      <td>Holographic Goose</td>\n",
       "      <td>362.0</td>\n",
       "    </tr>\n",
       "    <tr>\n",
       "      <th>2010-01-01</th>\n",
       "      <td>26</td>\n",
       "      <td>Finland</td>\n",
       "      <td>Premium Sticker Mart</td>\n",
       "      <td>Kaggle</td>\n",
       "      <td>2304.0</td>\n",
       "    </tr>\n",
       "    <tr>\n",
       "      <th>2010-01-01</th>\n",
       "      <td>27</td>\n",
       "      <td>Finland</td>\n",
       "      <td>Premium Sticker Mart</td>\n",
       "      <td>Kaggle Tiers</td>\n",
       "      <td>2070.0</td>\n",
       "    </tr>\n",
       "    <tr>\n",
       "      <th>2010-01-01</th>\n",
       "      <td>28</td>\n",
       "      <td>Finland</td>\n",
       "      <td>Premium Sticker Mart</td>\n",
       "      <td>Kerneler</td>\n",
       "      <td>1134.0</td>\n",
       "    </tr>\n",
       "    <tr>\n",
       "      <th>2010-01-01</th>\n",
       "      <td>29</td>\n",
       "      <td>Finland</td>\n",
       "      <td>Premium Sticker Mart</td>\n",
       "      <td>Kerneler Dark Mode</td>\n",
       "      <td>1047.0</td>\n",
       "    </tr>\n",
       "    <tr>\n",
       "      <th>2010-01-01</th>\n",
       "      <td>30</td>\n",
       "      <td>Italy</td>\n",
       "      <td>Discount Stickers</td>\n",
       "      <td>Holographic Goose</td>\n",
       "      <td>110.0</td>\n",
       "    </tr>\n",
       "    <tr>\n",
       "      <th>2010-01-01</th>\n",
       "      <td>31</td>\n",
       "      <td>Italy</td>\n",
       "      <td>Discount Stickers</td>\n",
       "      <td>Kaggle</td>\n",
       "      <td>681.0</td>\n",
       "    </tr>\n",
       "    <tr>\n",
       "      <th>2010-01-01</th>\n",
       "      <td>32</td>\n",
       "      <td>Italy</td>\n",
       "      <td>Discount Stickers</td>\n",
       "      <td>Kaggle Tiers</td>\n",
       "      <td>627.0</td>\n",
       "    </tr>\n",
       "    <tr>\n",
       "      <th>2010-01-01</th>\n",
       "      <td>33</td>\n",
       "      <td>Italy</td>\n",
       "      <td>Discount Stickers</td>\n",
       "      <td>Kerneler</td>\n",
       "      <td>340.0</td>\n",
       "    </tr>\n",
       "    <tr>\n",
       "      <th>2010-01-01</th>\n",
       "      <td>34</td>\n",
       "      <td>Italy</td>\n",
       "      <td>Discount Stickers</td>\n",
       "      <td>Kerneler Dark Mode</td>\n",
       "      <td>406.0</td>\n",
       "    </tr>\n",
       "    <tr>\n",
       "      <th>2010-01-01</th>\n",
       "      <td>35</td>\n",
       "      <td>Italy</td>\n",
       "      <td>Stickers for Less</td>\n",
       "      <td>Holographic Goose</td>\n",
       "      <td>228.0</td>\n",
       "    </tr>\n",
       "    <tr>\n",
       "      <th>2010-01-01</th>\n",
       "      <td>36</td>\n",
       "      <td>Italy</td>\n",
       "      <td>Stickers for Less</td>\n",
       "      <td>Kaggle</td>\n",
       "      <td>1424.0</td>\n",
       "    </tr>\n",
       "    <tr>\n",
       "      <th>2010-01-01</th>\n",
       "      <td>37</td>\n",
       "      <td>Italy</td>\n",
       "      <td>Stickers for Less</td>\n",
       "      <td>Kaggle Tiers</td>\n",
       "      <td>1281.0</td>\n",
       "    </tr>\n",
       "    <tr>\n",
       "      <th>2010-01-01</th>\n",
       "      <td>38</td>\n",
       "      <td>Italy</td>\n",
       "      <td>Stickers for Less</td>\n",
       "      <td>Kerneler</td>\n",
       "      <td>637.0</td>\n",
       "    </tr>\n",
       "    <tr>\n",
       "      <th>2010-01-01</th>\n",
       "      <td>39</td>\n",
       "      <td>Italy</td>\n",
       "      <td>Stickers for Less</td>\n",
       "      <td>Kerneler Dark Mode</td>\n",
       "      <td>778.0</td>\n",
       "    </tr>\n",
       "    <tr>\n",
       "      <th>2010-01-01</th>\n",
       "      <td>40</td>\n",
       "      <td>Italy</td>\n",
       "      <td>Premium Sticker Mart</td>\n",
       "      <td>Holographic Goose</td>\n",
       "      <td>269.0</td>\n",
       "    </tr>\n",
       "    <tr>\n",
       "      <th>2010-01-01</th>\n",
       "      <td>41</td>\n",
       "      <td>Italy</td>\n",
       "      <td>Premium Sticker Mart</td>\n",
       "      <td>Kaggle</td>\n",
       "      <td>1786.0</td>\n",
       "    </tr>\n",
       "    <tr>\n",
       "      <th>2010-01-01</th>\n",
       "      <td>42</td>\n",
       "      <td>Italy</td>\n",
       "      <td>Premium Sticker Mart</td>\n",
       "      <td>Kaggle Tiers</td>\n",
       "      <td>1434.0</td>\n",
       "    </tr>\n",
       "    <tr>\n",
       "      <th>2010-01-01</th>\n",
       "      <td>43</td>\n",
       "      <td>Italy</td>\n",
       "      <td>Premium Sticker Mart</td>\n",
       "      <td>Kerneler</td>\n",
       "      <td>783.0</td>\n",
       "    </tr>\n",
       "    <tr>\n",
       "      <th>2010-01-01</th>\n",
       "      <td>44</td>\n",
       "      <td>Italy</td>\n",
       "      <td>Premium Sticker Mart</td>\n",
       "      <td>Kerneler Dark Mode</td>\n",
       "      <td>861.0</td>\n",
       "    </tr>\n",
       "    <tr>\n",
       "      <th>2010-01-01</th>\n",
       "      <td>45</td>\n",
       "      <td>Kenya</td>\n",
       "      <td>Discount Stickers</td>\n",
       "      <td>Holographic Goose</td>\n",
       "      <td>NaN</td>\n",
       "    </tr>\n",
       "    <tr>\n",
       "      <th>2010-01-01</th>\n",
       "      <td>46</td>\n",
       "      <td>Kenya</td>\n",
       "      <td>Discount Stickers</td>\n",
       "      <td>Kaggle</td>\n",
       "      <td>20.0</td>\n",
       "    </tr>\n",
       "    <tr>\n",
       "      <th>2010-01-01</th>\n",
       "      <td>47</td>\n",
       "      <td>Kenya</td>\n",
       "      <td>Discount Stickers</td>\n",
       "      <td>Kaggle Tiers</td>\n",
       "      <td>16.0</td>\n",
       "    </tr>\n",
       "    <tr>\n",
       "      <th>2010-01-01</th>\n",
       "      <td>48</td>\n",
       "      <td>Kenya</td>\n",
       "      <td>Discount Stickers</td>\n",
       "      <td>Kerneler</td>\n",
       "      <td>8.0</td>\n",
       "    </tr>\n",
       "    <tr>\n",
       "      <th>2010-01-01</th>\n",
       "      <td>49</td>\n",
       "      <td>Kenya</td>\n",
       "      <td>Discount Stickers</td>\n",
       "      <td>Kerneler Dark Mode</td>\n",
       "      <td>9.0</td>\n",
       "    </tr>\n",
       "  </tbody>\n",
       "</table>\n",
       "</div>"
      ],
      "text/plain": [
       "            id  country                 store             product  num_sold\n",
       "date                                                                       \n",
       "2010-01-01   0   Canada     Discount Stickers   Holographic Goose       NaN\n",
       "2010-01-01   1   Canada     Discount Stickers              Kaggle     973.0\n",
       "2010-01-01   2   Canada     Discount Stickers        Kaggle Tiers     906.0\n",
       "2010-01-01   3   Canada     Discount Stickers            Kerneler     423.0\n",
       "2010-01-01   4   Canada     Discount Stickers  Kerneler Dark Mode     491.0\n",
       "2010-01-01   5   Canada     Stickers for Less   Holographic Goose     300.0\n",
       "2010-01-01   6   Canada     Stickers for Less              Kaggle    1837.0\n",
       "2010-01-01   7   Canada     Stickers for Less        Kaggle Tiers    1659.0\n",
       "2010-01-01   8   Canada     Stickers for Less            Kerneler     807.0\n",
       "2010-01-01   9   Canada     Stickers for Less  Kerneler Dark Mode     940.0\n",
       "2010-01-01  10   Canada  Premium Sticker Mart   Holographic Goose     375.0\n",
       "2010-01-01  11   Canada  Premium Sticker Mart              Kaggle    2212.0\n",
       "2010-01-01  12   Canada  Premium Sticker Mart        Kaggle Tiers    2013.0\n",
       "2010-01-01  13   Canada  Premium Sticker Mart            Kerneler     950.0\n",
       "2010-01-01  14   Canada  Premium Sticker Mart  Kerneler Dark Mode    1213.0\n",
       "2010-01-01  15  Finland     Discount Stickers   Holographic Goose     150.0\n",
       "2010-01-01  16  Finland     Discount Stickers              Kaggle     926.0\n",
       "2010-01-01  17  Finland     Discount Stickers        Kaggle Tiers     774.0\n",
       "2010-01-01  18  Finland     Discount Stickers            Kerneler     424.0\n",
       "2010-01-01  19  Finland     Discount Stickers  Kerneler Dark Mode     450.0\n",
       "2010-01-01  20  Finland     Stickers for Less   Holographic Goose     311.0\n",
       "2010-01-01  21  Finland     Stickers for Less              Kaggle    1948.0\n",
       "2010-01-01  22  Finland     Stickers for Less        Kaggle Tiers    1632.0\n",
       "2010-01-01  23  Finland     Stickers for Less            Kerneler     878.0\n",
       "2010-01-01  24  Finland     Stickers for Less  Kerneler Dark Mode     950.0\n",
       "2010-01-01  25  Finland  Premium Sticker Mart   Holographic Goose     362.0\n",
       "2010-01-01  26  Finland  Premium Sticker Mart              Kaggle    2304.0\n",
       "2010-01-01  27  Finland  Premium Sticker Mart        Kaggle Tiers    2070.0\n",
       "2010-01-01  28  Finland  Premium Sticker Mart            Kerneler    1134.0\n",
       "2010-01-01  29  Finland  Premium Sticker Mart  Kerneler Dark Mode    1047.0\n",
       "2010-01-01  30    Italy     Discount Stickers   Holographic Goose     110.0\n",
       "2010-01-01  31    Italy     Discount Stickers              Kaggle     681.0\n",
       "2010-01-01  32    Italy     Discount Stickers        Kaggle Tiers     627.0\n",
       "2010-01-01  33    Italy     Discount Stickers            Kerneler     340.0\n",
       "2010-01-01  34    Italy     Discount Stickers  Kerneler Dark Mode     406.0\n",
       "2010-01-01  35    Italy     Stickers for Less   Holographic Goose     228.0\n",
       "2010-01-01  36    Italy     Stickers for Less              Kaggle    1424.0\n",
       "2010-01-01  37    Italy     Stickers for Less        Kaggle Tiers    1281.0\n",
       "2010-01-01  38    Italy     Stickers for Less            Kerneler     637.0\n",
       "2010-01-01  39    Italy     Stickers for Less  Kerneler Dark Mode     778.0\n",
       "2010-01-01  40    Italy  Premium Sticker Mart   Holographic Goose     269.0\n",
       "2010-01-01  41    Italy  Premium Sticker Mart              Kaggle    1786.0\n",
       "2010-01-01  42    Italy  Premium Sticker Mart        Kaggle Tiers    1434.0\n",
       "2010-01-01  43    Italy  Premium Sticker Mart            Kerneler     783.0\n",
       "2010-01-01  44    Italy  Premium Sticker Mart  Kerneler Dark Mode     861.0\n",
       "2010-01-01  45    Kenya     Discount Stickers   Holographic Goose       NaN\n",
       "2010-01-01  46    Kenya     Discount Stickers              Kaggle      20.0\n",
       "2010-01-01  47    Kenya     Discount Stickers        Kaggle Tiers      16.0\n",
       "2010-01-01  48    Kenya     Discount Stickers            Kerneler       8.0\n",
       "2010-01-01  49    Kenya     Discount Stickers  Kerneler Dark Mode       9.0"
      ]
     },
     "execution_count": 28,
     "metadata": {},
     "output_type": "execute_result"
    }
   ],
   "source": [
    "train.head(50)"
   ]
  },
  {
   "cell_type": "code",
   "execution_count": 29,
   "metadata": {},
   "outputs": [
    {
     "data": {
      "text/plain": [
       "[('Canada', 'Discount Stickers', 'Kaggle'),\n",
       " ('Canada', 'Discount Stickers', 'Kaggle Tiers'),\n",
       " ('Canada', 'Discount Stickers', 'Kerneler Dark Mode'),\n",
       " ('Canada', 'Premium Sticker Mart', 'Kaggle'),\n",
       " ('Canada', 'Premium Sticker Mart', 'Kaggle Tiers'),\n",
       " ('Canada', 'Premium Sticker Mart', 'Kerneler'),\n",
       " ('Canada', 'Premium Sticker Mart', 'Kerneler Dark Mode'),\n",
       " ('Canada', 'Stickers for Less', 'Kaggle'),\n",
       " ('Canada', 'Stickers for Less', 'Kaggle Tiers'),\n",
       " ('Canada', 'Stickers for Less', 'Kerneler'),\n",
       " ('Canada', 'Stickers for Less', 'Kerneler Dark Mode'),\n",
       " ('Finland', 'Discount Stickers', 'Holographic Goose'),\n",
       " ('Finland', 'Discount Stickers', 'Kaggle'),\n",
       " ('Finland', 'Discount Stickers', 'Kaggle Tiers'),\n",
       " ('Finland', 'Discount Stickers', 'Kerneler'),\n",
       " ('Finland', 'Discount Stickers', 'Kerneler Dark Mode'),\n",
       " ('Finland', 'Premium Sticker Mart', 'Holographic Goose'),\n",
       " ('Finland', 'Premium Sticker Mart', 'Kaggle'),\n",
       " ('Finland', 'Premium Sticker Mart', 'Kaggle Tiers'),\n",
       " ('Finland', 'Premium Sticker Mart', 'Kerneler'),\n",
       " ('Finland', 'Premium Sticker Mart', 'Kerneler Dark Mode'),\n",
       " ('Finland', 'Stickers for Less', 'Holographic Goose'),\n",
       " ('Finland', 'Stickers for Less', 'Kaggle'),\n",
       " ('Finland', 'Stickers for Less', 'Kaggle Tiers'),\n",
       " ('Finland', 'Stickers for Less', 'Kerneler'),\n",
       " ('Finland', 'Stickers for Less', 'Kerneler Dark Mode'),\n",
       " ('Italy', 'Discount Stickers', 'Holographic Goose'),\n",
       " ('Italy', 'Discount Stickers', 'Kaggle'),\n",
       " ('Italy', 'Discount Stickers', 'Kaggle Tiers'),\n",
       " ('Italy', 'Discount Stickers', 'Kerneler'),\n",
       " ('Italy', 'Discount Stickers', 'Kerneler Dark Mode'),\n",
       " ('Italy', 'Premium Sticker Mart', 'Holographic Goose'),\n",
       " ('Italy', 'Premium Sticker Mart', 'Kaggle'),\n",
       " ('Italy', 'Premium Sticker Mart', 'Kaggle Tiers'),\n",
       " ('Italy', 'Premium Sticker Mart', 'Kerneler'),\n",
       " ('Italy', 'Premium Sticker Mart', 'Kerneler Dark Mode'),\n",
       " ('Italy', 'Stickers for Less', 'Holographic Goose'),\n",
       " ('Italy', 'Stickers for Less', 'Kaggle'),\n",
       " ('Italy', 'Stickers for Less', 'Kaggle Tiers'),\n",
       " ('Italy', 'Stickers for Less', 'Kerneler'),\n",
       " ('Italy', 'Stickers for Less', 'Kerneler Dark Mode'),\n",
       " ('Kenya', 'Discount Stickers', 'Kaggle'),\n",
       " ('Kenya', 'Discount Stickers', 'Kaggle Tiers'),\n",
       " ('Kenya', 'Premium Sticker Mart', 'Kaggle'),\n",
       " ('Kenya', 'Premium Sticker Mart', 'Kaggle Tiers'),\n",
       " ('Kenya', 'Premium Sticker Mart', 'Kerneler'),\n",
       " ('Kenya', 'Premium Sticker Mart', 'Kerneler Dark Mode'),\n",
       " ('Kenya', 'Stickers for Less', 'Kaggle'),\n",
       " ('Kenya', 'Stickers for Less', 'Kaggle Tiers'),\n",
       " ('Kenya', 'Stickers for Less', 'Kerneler'),\n",
       " ('Kenya', 'Stickers for Less', 'Kerneler Dark Mode'),\n",
       " ('Norway', 'Discount Stickers', 'Holographic Goose'),\n",
       " ('Norway', 'Discount Stickers', 'Kaggle'),\n",
       " ('Norway', 'Discount Stickers', 'Kaggle Tiers'),\n",
       " ('Norway', 'Discount Stickers', 'Kerneler'),\n",
       " ('Norway', 'Discount Stickers', 'Kerneler Dark Mode'),\n",
       " ('Norway', 'Premium Sticker Mart', 'Holographic Goose'),\n",
       " ('Norway', 'Premium Sticker Mart', 'Kaggle'),\n",
       " ('Norway', 'Premium Sticker Mart', 'Kaggle Tiers'),\n",
       " ('Norway', 'Premium Sticker Mart', 'Kerneler'),\n",
       " ('Norway', 'Premium Sticker Mart', 'Kerneler Dark Mode'),\n",
       " ('Norway', 'Stickers for Less', 'Holographic Goose'),\n",
       " ('Norway', 'Stickers for Less', 'Kaggle'),\n",
       " ('Norway', 'Stickers for Less', 'Kaggle Tiers'),\n",
       " ('Norway', 'Stickers for Less', 'Kerneler'),\n",
       " ('Norway', 'Stickers for Less', 'Kerneler Dark Mode'),\n",
       " ('Singapore', 'Discount Stickers', 'Holographic Goose'),\n",
       " ('Singapore', 'Discount Stickers', 'Kaggle'),\n",
       " ('Singapore', 'Discount Stickers', 'Kaggle Tiers'),\n",
       " ('Singapore', 'Discount Stickers', 'Kerneler'),\n",
       " ('Singapore', 'Discount Stickers', 'Kerneler Dark Mode'),\n",
       " ('Singapore', 'Premium Sticker Mart', 'Holographic Goose'),\n",
       " ('Singapore', 'Premium Sticker Mart', 'Kaggle'),\n",
       " ('Singapore', 'Premium Sticker Mart', 'Kaggle Tiers'),\n",
       " ('Singapore', 'Premium Sticker Mart', 'Kerneler'),\n",
       " ('Singapore', 'Premium Sticker Mart', 'Kerneler Dark Mode'),\n",
       " ('Singapore', 'Stickers for Less', 'Holographic Goose'),\n",
       " ('Singapore', 'Stickers for Less', 'Kaggle'),\n",
       " ('Singapore', 'Stickers for Less', 'Kaggle Tiers'),\n",
       " ('Singapore', 'Stickers for Less', 'Kerneler'),\n",
       " ('Singapore', 'Stickers for Less', 'Kerneler Dark Mode')]"
      ]
     },
     "execution_count": 29,
     "metadata": {},
     "output_type": "execute_result"
    }
   ],
   "source": [
    "no_nans_list"
   ]
  },
  {
   "cell_type": "code",
   "execution_count": 30,
   "metadata": {},
   "outputs": [
    {
     "name": "stdout",
     "output_type": "stream",
     "text": [
      "('Canada', 'Discount Stickers', 'Kerneler') Number of NaNs:  0 out of  2557\n",
      "('Canada', 'Premium Sticker Mart', 'Holographic Goose') Number of NaNs:  0 out of  2557\n",
      "('Canada', 'Stickers for Less', 'Holographic Goose') Number of NaNs:  0 out of  2557\n",
      "('Kenya', 'Discount Stickers', 'Kerneler') Number of NaNs:  0 out of  2557\n",
      "('Kenya', 'Discount Stickers', 'Kerneler Dark Mode') Number of NaNs:  0 out of  2557\n",
      "('Kenya', 'Premium Sticker Mart', 'Holographic Goose') Number of NaNs:  0 out of  2557\n",
      "('Kenya', 'Stickers for Less', 'Holographic Goose') Number of NaNs:  0 out of  2557\n"
     ]
    }
   ],
   "source": [
    "for df in some_nans_list:\n",
    "    print(df, 'Number of NaNs: ', grouped_dataframes[df].isnull().any(axis=1).sum(), 'out of ', len(grouped_dataframes[df]))"
   ]
  },
  {
   "cell_type": "code",
   "execution_count": 31,
   "metadata": {},
   "outputs": [
    {
     "name": "stdout",
     "output_type": "stream",
     "text": [
      "Number of dataframes with uncomplete index:  0\n"
     ]
    }
   ],
   "source": [
    "# Verify that a temporary index is complete\n",
    "# ==============================================================================\n",
    "faulty_df = []\n",
    "for key, group in grouped_dataframes.items():\n",
    "    group = example_df\n",
    "    start_date = group.index.min()\n",
    "    end_date = group.index.max()\n",
    "    complete_date_range = pd.date_range(start=start_date, end=end_date, freq=group.index.freq)\n",
    "    is_index_complete = (group.index == complete_date_range).all()\n",
    "    if not is_index_complete:\n",
    "        faulty_df.append(group)\n",
    "print(f'Number of dataframes with uncomplete index: ', len(faulty_df))"
   ]
  },
  {
   "cell_type": "code",
   "execution_count": 32,
   "metadata": {},
   "outputs": [
    {
     "name": "stdout",
     "output_type": "stream",
     "text": [
      "Train dates : 2010-01-01 00:00:00 --- 2016-12-31 00:00:00  (n=2557)\n",
      "Test dates  : 0 --- 98549  (n=98550)\n"
     ]
    },
    {
     "data": {
      "text/plain": [
       "<matplotlib.legend.Legend at 0x2d81bce8260>"
      ]
     },
     "execution_count": 32,
     "metadata": {},
     "output_type": "execute_result"
    },
    {
     "data": {
      "image/png": "[encoded data removed]",
      "text/plain": [
       "<Figure size 600x250 with 1 Axes>"
      ]
     },
     "metadata": {},
     "output_type": "display_data"
    }
   ],
   "source": [
    "# Graphic representation of train-test\n",
    "# ==============================================================================\n",
    "train_plot = example_df\n",
    "print(\n",
    "    f\"Train dates : {train_plot.index.min()} --- \"\n",
    "    f\"{train_plot.index.max()}  (n={len(train_plot)})\"\n",
    ")\n",
    "print(\n",
    "    f\"Test dates  : {test.index.min()} --- \"\n",
    "    f\"{test.index.max()}  (n={len(test)})\"\n",
    ")\n",
    "\n",
    "fig, ax = plt.subplots(figsize=(6, 2.5))\n",
    "train_plot['num_sold'].plot(ax=ax, kind='line',label='train')\n",
    "\n",
    "ax.legend()"
   ]
  },
  {
   "cell_type": "code",
   "execution_count": 33,
   "metadata": {},
   "outputs": [
    {
     "data": {
      "text/plain": [
       "DatetimeIndex(['2010-01-01', '2010-01-02', '2010-01-03', '2010-01-04',\n",
       "               '2010-01-05', '2010-01-06', '2010-01-07', '2010-01-08',\n",
       "               '2010-01-09', '2010-01-10',\n",
       "               ...\n",
       "               '2016-12-22', '2016-12-23', '2016-12-24', '2016-12-25',\n",
       "               '2016-12-26', '2016-12-27', '2016-12-28', '2016-12-29',\n",
       "               '2016-12-30', '2016-12-31'],\n",
       "              dtype='datetime64[ns]', name='date', length=2557, freq='D')"
      ]
     },
     "execution_count": 33,
     "metadata": {},
     "output_type": "execute_result"
    }
   ],
   "source": [
    "example_df.index"
   ]
  },
  {
   "cell_type": "markdown",
   "metadata": {},
   "source": [
    "Recursive Multi-Step Forecasting"
   ]
  },
  {
   "cell_type": "code",
   "execution_count": 34,
   "metadata": {},
   "outputs": [
    {
     "name": "stdout",
     "output_type": "stream",
     "text": [
      "Train dates : 2010-01-01 00:00:00 --- 2015-06-18 00:00:00  (n=1995)\n",
      "Test dates  : 2015-06-19 00:00:00 --- 2016-12-31 00:00:00  (n=562)\n"
     ]
    },
    {
     "data": {
      "text/plain": [
       "<matplotlib.legend.Legend at 0x2d8210334a0>"
      ]
     },
     "execution_count": 34,
     "metadata": {},
     "output_type": "execute_result"
    },
    {
     "data": {
      "image/png": "[encoded data removed]",
      "text/plain": [
       "<Figure size 600x250 with 1 Axes>"
      ]
     },
     "metadata": {},
     "output_type": "display_data"
    }
   ],
   "source": [
    "# Split data into train-test\n",
    "# ==============================================================================\n",
    "steps = 562\n",
    "data_train = example_df[:-steps]\n",
    "data_test  = example_df[-steps:]\n",
    "print(\n",
    "    f\"Train dates : {data_train.index.min()} --- \"\n",
    "    f\"{data_train.index.max()}  (n={len(data_train)})\"\n",
    ")\n",
    "print(\n",
    "    f\"Test dates  : {data_test.index.min()} --- \"\n",
    "    f\"{data_test.index.max()}  (n={len(data_test)})\"\n",
    ")\n",
    "\n",
    "fig, ax = plt.subplots(figsize=(6, 2.5))\n",
    "data_train['num_sold'].plot(ax=ax, label='train')\n",
    "data_test['num_sold'].plot(ax=ax, label='test')\n",
    "ax.legend()"
   ]
  },
  {
   "cell_type": "code",
   "execution_count": 35,
   "metadata": {},
   "outputs": [
    {
     "name": "stdout",
     "output_type": "stream",
     "text": [
      "[LightGBM] [Info] Auto-choosing col-wise multi-threading, the overhead of testing was 0.000145 seconds.\n",
      "You can set `force_col_wise=true` to remove the overhead.\n",
      "[LightGBM] [Info] Total Bins 1530\n",
      "[LightGBM] [Info] Number of data points in the train set: 1989, number of used features: 6\n",
      "[LightGBM] [Info] Start training from score 588.929613\n"
     ]
    },
    {
     "data": {
      "text/html": [
       "\n",
       "        <style>\n",
       "            .container-98a093a44f314269bbdeab56d24fff2a {\n",
       "                font-family: 'Arial', sans-serif;\n",
       "                font-size: 0.9em;\n",
       "                color: #333333;\n",
       "                border: 1px solid #ddd;\n",
       "                background-color: #f0f8ff;\n",
       "                padding: 5px 15px;\n",
       "                border-radius: 8px;\n",
       "                max-width: 600px;\n",
       "                #margin: auto;\n",
       "            }\n",
       "            .container-98a093a44f314269bbdeab56d24fff2a h2 {\n",
       "                font-size: 1.5em;\n",
       "                color: #222222;\n",
       "                border-bottom: 2px solid #ddd;\n",
       "                padding-bottom: 5px;\n",
       "                margin-bottom: 15px;\n",
       "                margin-top: 5px;\n",
       "            }\n",
       "            .container-98a093a44f314269bbdeab56d24fff2a details {\n",
       "                margin: 10px 0;\n",
       "            }\n",
       "            .container-98a093a44f314269bbdeab56d24fff2a summary {\n",
       "                font-weight: bold;\n",
       "                font-size: 1.1em;\n",
       "                color: #000000;\n",
       "                cursor: pointer;\n",
       "                margin-bottom: 5px;\n",
       "                background-color: #b3dbfd;\n",
       "                padding: 5px;\n",
       "                border-radius: 5px;\n",
       "            }\n",
       "            .container-98a093a44f314269bbdeab56d24fff2a summary:hover {\n",
       "                color: #000000;\n",
       "                background-color: #e0e0e0;\n",
       "            }\n",
       "            .container-98a093a44f314269bbdeab56d24fff2a ul {\n",
       "                font-family: 'Courier New', monospace;\n",
       "                list-style-type: none;\n",
       "                padding-left: 20px;\n",
       "                margin: 10px 0;\n",
       "                line-height: normal;\n",
       "            }\n",
       "            .container-98a093a44f314269bbdeab56d24fff2a li {\n",
       "                margin: 5px 0;\n",
       "                font-family: 'Courier New', monospace;\n",
       "            }\n",
       "            .container-98a093a44f314269bbdeab56d24fff2a li strong {\n",
       "                font-weight: bold;\n",
       "                color: #444444;\n",
       "            }\n",
       "            .container-98a093a44f314269bbdeab56d24fff2a li::before {\n",
       "                content: \"- \";\n",
       "                color: #666666;\n",
       "            }\n",
       "            .container-98a093a44f314269bbdeab56d24fff2a a {\n",
       "                color: #001633;\n",
       "                text-decoration: none;\n",
       "            }\n",
       "            .container-98a093a44f314269bbdeab56d24fff2a a:hover {\n",
       "                color: #359ccb; \n",
       "            }\n",
       "        </style>\n",
       "        \n",
       "        <div class=\"container-98a093a44f314269bbdeab56d24fff2a\">\n",
       "            <h2>ForecasterRecursive</h2>\n",
       "            <details open>\n",
       "                <summary>General Information</summary>\n",
       "                <ul>\n",
       "                    <li><strong>Regressor:</strong> LGBMRegressor</li>\n",
       "                    <li><strong>Lags:</strong> [1 2 3 4 5 6]</li>\n",
       "                    <li><strong>Window features:</strong> None</li>\n",
       "                    <li><strong>Window size:</strong> 6</li>\n",
       "                    <li><strong>Exogenous included:</strong> False</li>\n",
       "                    <li><strong>Weight function included:</strong> False</li>\n",
       "                    <li><strong>Differentiation order:</strong> None</li>\n",
       "                    <li><strong>Creation date:</strong> 2025-01-15 20:01:28</li>\n",
       "                    <li><strong>Last fit date:</strong> 2025-01-15 20:01:28</li>\n",
       "                    <li><strong>Skforecast version:</strong> 0.14.0</li>\n",
       "                    <li><strong>Python version:</strong> 3.12.5</li>\n",
       "                    <li><strong>Forecaster id:</strong> None</li>\n",
       "                </ul>\n",
       "            </details>\n",
       "            <details>\n",
       "                <summary>Exogenous Variables</summary>\n",
       "                <ul>\n",
       "                    None\n",
       "                </ul>\n",
       "            </details>\n",
       "            <details>\n",
       "                <summary>Data Transformations</summary>\n",
       "                <ul>\n",
       "                    <li><strong>Transformer for y:</strong> None</li>\n",
       "                    <li><strong>Transformer for exog:</strong> None</li>\n",
       "                </ul>\n",
       "            </details>\n",
       "            <details>\n",
       "                <summary>Training Information</summary>\n",
       "                <ul>\n",
       "                    <li><strong>Training range:</strong> [Timestamp('2010-01-01 00:00:00'), Timestamp('2015-06-18 00:00:00')]</li>\n",
       "                    <li><strong>Training index type:</strong> DatetimeIndex</li>\n",
       "                    <li><strong>Training index frequency:</strong> D</li>\n",
       "                </ul>\n",
       "            </details>\n",
       "            <details>\n",
       "                <summary>Regressor Parameters</summary>\n",
       "                <ul>\n",
       "                    {'boosting_type': 'gbdt', 'class_weight': None, 'colsample_bytree': 1.0, 'importance_type': 'split', 'learning_rate': 0.1, 'max_depth': -1, 'min_child_samples': 20, 'min_child_weight': 0.001, 'min_split_gain': 0.0, 'n_estimators': 100, 'n_jobs': None, 'num_leaves': 31, 'objective': None, 'random_state': 123, 'reg_alpha': 0.0, 'reg_lambda': 0.0, 'subsample': 1.0, 'subsample_for_bin': 200000, 'subsample_freq': 0}\n",
       "                </ul>\n",
       "            </details>\n",
       "            <details>\n",
       "                <summary>Fit Kwargs</summary>\n",
       "                <ul>\n",
       "                    {}\n",
       "                </ul>\n",
       "            </details>\n",
       "            <p>\n",
       "                <a href=\"https://skforecast.org/0.14.0/api/forecasterrecursive.html\">&#128712 <strong>API Reference</strong></a>\n",
       "                &nbsp;&nbsp;\n",
       "                <a href=\"https://skforecast.org/0.14.0/user_guides/autoregresive-forecaster.html\">&#128462 <strong>User Guide</strong></a>\n",
       "            </p>\n",
       "        </div>\n",
       "        "
      ],
      "text/plain": [
       "=================== \n",
       "ForecasterRecursive \n",
       "=================== \n",
       "Regressor: LGBMRegressor \n",
       "Lags: [1 2 3 4 5 6] \n",
       "Window features: None \n",
       "Window size: 6 \n",
       "Exogenous included: False \n",
       "Exogenous names: None \n",
       "Transformer for y: None \n",
       "Transformer for exog: None \n",
       "Weight function included: False \n",
       "Differentiation order: None \n",
       "Training range: [Timestamp('2010-01-01 00:00:00'), Timestamp('2015-06-18 00:00:00')] \n",
       "Training index type: DatetimeIndex \n",
       "Training index frequency: D \n",
       "Regressor parameters: \n",
       "    {'boosting_type': 'gbdt', 'class_weight': None, 'colsample_bytree': 1.0,\n",
       "    'importance_type': 'split', 'learning_rate': 0.1, 'max_depth': -1,\n",
       "    'min_child_samples': 20, 'min_child_weight': 0.001, 'min_split_gain': 0.0,\n",
       "    'n_estimators': 100, 'n_jobs': None, 'num_leaves': 31, 'objective': None,\n",
       "    'random_state': 123, 'reg_alpha': 0.0, 'reg_lambda': 0.0, 'subsample': 1.0,\n",
       "    'subsample_for_bin': 200000, 'subsample_freq': 0} \n",
       "fit_kwargs: {} \n",
       "Creation date: 2025-01-15 20:01:28 \n",
       "Last fit date: 2025-01-15 20:01:28 \n",
       "Skforecast version: 0.14.0 \n",
       "Python version: 3.12.5 \n",
       "Forecaster id: None "
      ]
     },
     "execution_count": 35,
     "metadata": {},
     "output_type": "execute_result"
    }
   ],
   "source": [
    "# Create and train forecaster\n",
    "# ==============================================================================\n",
    "forecaster = ForecasterRecursive(\n",
    "                 regressor = LGBMRegressor(random_state=123),\n",
    "                 lags      = 6\n",
    "             )\n",
    "forecaster.fit(y=data_train['num_sold'])\n",
    "forecaster"
   ]
  },
  {
   "cell_type": "code",
   "execution_count": 36,
   "metadata": {},
   "outputs": [
    {
     "data": {
      "text/plain": [
       "2015-06-19    535.733088\n",
       "2015-06-20    595.209831\n",
       "2015-06-21    516.397006\n",
       "2015-06-22    519.608813\n",
       "2015-06-23    521.649680\n",
       "Freq: D, Name: pred, dtype: float64"
      ]
     },
     "execution_count": 36,
     "metadata": {},
     "output_type": "execute_result"
    }
   ],
   "source": [
    "# Predictions\n",
    "# ==============================================================================\n",
    "steps = 562\n",
    "predictions = forecaster.predict(steps=steps)\n",
    "predictions.head(5)"
   ]
  },
  {
   "cell_type": "code",
   "execution_count": 37,
   "metadata": {},
   "outputs": [
    {
     "data": {
      "text/plain": [
       "<matplotlib.legend.Legend at 0x2d820f48f20>"
      ]
     },
     "execution_count": 37,
     "metadata": {},
     "output_type": "execute_result"
    },
    {
     "data": {
      "image/png": "[encoded data removed]",
      "text/plain": [
       "<Figure size 600x250 with 1 Axes>"
      ]
     },
     "metadata": {},
     "output_type": "display_data"
    }
   ],
   "source": [
    "# Plot predictions versus test data\n",
    "# ==============================================================================\n",
    "fig, ax = plt.subplots(figsize=(6, 2.5))\n",
    "data_train['num_sold'].plot(ax=ax, label='train')\n",
    "data_test['num_sold'].plot(ax=ax, label='test')\n",
    "predictions.plot(ax=ax, label='predictions')\n",
    "ax.legend()"
   ]
  },
  {
   "cell_type": "code",
   "execution_count": 38,
   "metadata": {},
   "outputs": [
    {
     "name": "stdout",
     "output_type": "stream",
     "text": [
      "Test error (RMSE): 127.15\n",
      "Test error (MAPE): 20.95%\n"
     ]
    }
   ],
   "source": [
    "# Test error\n",
    "# ==============================================================================\n",
    "error_rmse = root_mean_squared_error(\n",
    "                y_true = data_test['num_sold'],\n",
    "                y_pred = predictions\n",
    "            )\n",
    "error_mape = mean_absolute_percentage_error(\n",
    "                y_true = data_test['num_sold'],\n",
    "                y_pred = predictions\n",
    "            )\n",
    "print(f\"Test error (RMSE): {round(error_rmse, 2)}\")\n",
    "print(f\"Test error (MAPE): {round(error_mape*100, 2)}%\")"
   ]
  },
  {
   "cell_type": "code",
   "execution_count": 39,
   "metadata": {},
   "outputs": [
    {
     "data": {
      "application/vnd.jupyter.widget-view+json": {
       "model_id": "dd0f1d51b79949398bb6d5a8686aa892",
       "version_major": 2,
       "version_minor": 0
      },
      "text/plain": [
       "lags grid:   0%|          | 0/3 [00:00<?, ?it/s]"
      ]
     },
     "metadata": {},
     "output_type": "display_data"
    },
    {
     "data": {
      "application/vnd.jupyter.widget-view+json": {
       "model_id": "2f18ca9155bf4b0cb4e6a72338959096",
       "version_major": 2,
       "version_minor": 0
      },
      "text/plain": [
       "params grid:   0%|          | 0/10 [00:00<?, ?it/s]"
      ]
     },
     "metadata": {},
     "output_type": "display_data"
    },
    {
     "name": "stdout",
     "output_type": "stream",
     "text": [
      "`Forecaster` refitted using the best-found lags and parameters, and the whole data set: \n",
      "  Lags: [ 1  2  3  4  5  6  7  8  9 10 11 12 13 14 15 16 17 18 19 20] \n",
      "  Parameters: {'alpha': 46.41588833612782}\n",
      "  Backtesting metric: 3425.5447977890312\n"
     ]
    }
   ],
   "source": [
    "# Hyperparameter Grid search\n",
    "# ==============================================================================\n",
    "from skforecast.exceptions import LongTrainingWarning\n",
    "warnings.simplefilter('ignore', category=LongTrainingWarning)\n",
    "\n",
    "forecaster = ForecasterDirect(\n",
    "                 regressor     = Ridge(random_state=123),\n",
    "                 steps         = 562,\n",
    "                 lags          = 8,  # This value will be replaced in the grid search\n",
    "                 transformer_y = StandardScaler()\n",
    "             )\n",
    "\n",
    "cv = TimeSeriesFold(\n",
    "         steps              = 36, \n",
    "         initial_train_size = int(len(data_train) * 0.5),\n",
    "         fixed_train_size   = False,\n",
    "         refit              = False,\n",
    ")\n",
    "\n",
    "param_grid = {'alpha': np.logspace(-5, 5, 10)}\n",
    "\n",
    "lags_grid = [5, 12, 20]\n",
    "\n",
    "results_grid = grid_search_forecaster(\n",
    "                    forecaster         = forecaster,\n",
    "                    y                  = data_train['num_sold'],\n",
    "                    cv                 = cv,\n",
    "                    param_grid         = param_grid,\n",
    "                    lags_grid          = lags_grid,\n",
    "                    metric             = 'mean_squared_error',\n",
    "                    return_best        = True,\n",
    "                    n_jobs             = 'auto',\n",
    "                    verbose            = False\n",
    "                )"
   ]
  },
  {
   "cell_type": "code",
   "execution_count": 40,
   "metadata": {},
   "outputs": [
    {
     "data": {
      "text/plain": [
       "<matplotlib.legend.Legend at 0x2d8214e7c20>"
      ]
     },
     "execution_count": 40,
     "metadata": {},
     "output_type": "execute_result"
    },
    {
     "data": {
      "image/png": "[encoded data removed]",
      "text/plain": [
       "<Figure size 600x250 with 1 Axes>"
      ]
     },
     "metadata": {},
     "output_type": "display_data"
    }
   ],
   "source": [
    "# Predictions\n",
    "# ==============================================================================\n",
    "predictions = forecaster.predict()\n",
    "\n",
    "# Plot predictions versus test data\n",
    "# ==============================================================================\n",
    "fig, ax = plt.subplots(figsize=(6, 2.5))\n",
    "data_train['num_sold'].plot(ax=ax, label='train')\n",
    "data_test['num_sold'].plot(ax=ax, label='test')\n",
    "predictions.plot(ax=ax, label='predictions')\n",
    "ax.legend()"
   ]
  },
  {
   "cell_type": "code",
   "execution_count": 41,
   "metadata": {},
   "outputs": [
    {
     "name": "stdout",
     "output_type": "stream",
     "text": [
      "Test error (RMSE): 83.74\n",
      "Test error (MAPE): 12.92%\n"
     ]
    }
   ],
   "source": [
    "# Test error\n",
    "# ==============================================================================\n",
    "error_rmse = root_mean_squared_error(\n",
    "                y_true = data_test['num_sold'],\n",
    "                y_pred = predictions\n",
    "            )\n",
    "error_mape = mean_absolute_percentage_error(\n",
    "                y_true = data_test['num_sold'],\n",
    "                y_pred = predictions\n",
    "            )\n",
    "print(f\"Test error (RMSE): {round(error_rmse, 2)}\")\n",
    "print(f\"Test error (MAPE): {round(error_mape*100, 2)}%\")"
   ]
  },
  {
   "cell_type": "markdown",
   "metadata": {},
   "source": [
    "For every dataset:"
   ]
  },
  {
   "cell_type": "code",
   "execution_count": null,
   "metadata": {},
   "outputs": [
    {
     "name": "stdout",
     "output_type": "stream",
     "text": [
      "[LightGBM] [Warning] There are no meaningful features which satisfy the provided configuration. Decreasing Dataset parameters min_data_in_bin or min_data_in_leaf and re-constructing Dataset might resolve this warning.\n",
      "[LightGBM] [Info] Total Bins 0\n",
      "[LightGBM] [Info] Number of data points in the train set: 1989, number of used features: 0\n",
      "[LightGBM] [Warning] Stopped training because there are no more leaves that meet the split requirements\n",
      "[LightGBM] [Warning] Stopped training because there are no more leaves that meet the split requirements\n",
      "[LightGBM] [Warning] Stopped training because there are no more leaves that meet the split requirements\n",
      "[LightGBM] [Warning] Stopped training because there are no more leaves that meet the split requirements\n",
      "[LightGBM] [Warning] Stopped training because there are no more leaves that meet the split requirements\n",
      "[LightGBM] [Warning] Stopped training because there are no more leaves that meet the split requirements\n",
      "[LightGBM] [Warning] Stopped training because there are no more leaves that meet the split requirements\n",
      "[LightGBM] [Warning] Stopped training because there are no more leaves that meet the split requirements\n",
      "[LightGBM] [Warning] Stopped training because there are no more leaves that meet the split requirements\n",
      "[LightGBM] [Warning] Stopped training because there are no more leaves that meet the split requirements\n",
      "[LightGBM] [Warning] Stopped training because there are no more leaves that meet the split requirements\n",
      "[LightGBM] [Warning] Stopped training because there are no more leaves that meet the split requirements\n",
      "[LightGBM] [Warning] Stopped training because there are no more leaves that meet the split requirements\n",
      "[LightGBM] [Warning] Stopped training because there are no more leaves that meet the split requirements\n",
      "[LightGBM] [Warning] Stopped training because there are no more leaves that meet the split requirements\n",
      "[LightGBM] [Warning] Stopped training because there are no more leaves that meet the split requirements\n",
      "[LightGBM] [Warning] Stopped training because there are no more leaves that meet the split requirements\n",
      "[LightGBM] [Warning] Stopped training because there are no more leaves that meet the split requirements\n",
      "[LightGBM] [Warning] Stopped training because there are no more leaves that meet the split requirements\n",
      "[LightGBM] [Warning] Stopped training because there are no more leaves that meet the split requirements\n",
      "[LightGBM] [Warning] Stopped training because there are no more leaves that meet the split requirements\n",
      "[LightGBM] [Warning] Stopped training because there are no more leaves that meet the split requirements\n",
      "[LightGBM] [Warning] Stopped training because there are no more leaves that meet the split requirements\n",
      "[LightGBM] [Warning] Stopped training because there are no more leaves that meet the split requirements\n",
      "[LightGBM] [Warning] Stopped training because there are no more leaves that meet the split requirements\n",
      "[LightGBM] [Warning] Stopped training because there are no more leaves that meet the split requirements\n",
      "[LightGBM] [Warning] Stopped training because there are no more leaves that meet the split requirements\n",
      "[LightGBM] [Warning] Stopped training because there are no more leaves that meet the split requirements\n",
      "[LightGBM] [Warning] Stopped training because there are no more leaves that meet the split requirements\n",
      "[LightGBM] [Warning] Stopped training because there are no more leaves that meet the split requirements\n",
      "[LightGBM] [Warning] Stopped training because there are no more leaves that meet the split requirements\n",
      "[LightGBM] [Warning] Stopped training because there are no more leaves that meet the split requirements\n",
      "[LightGBM] [Warning] Stopped training because there are no more leaves that meet the split requirements\n",
      "[LightGBM] [Warning] Stopped training because there are no more leaves that meet the split requirements\n",
      "[LightGBM] [Warning] Stopped training because there are no more leaves that meet the split requirements\n",
      "[LightGBM] [Warning] Stopped training because there are no more leaves that meet the split requirements\n",
      "[LightGBM] [Warning] Stopped training because there are no more leaves that meet the split requirements\n",
      "[LightGBM] [Warning] Stopped training because there are no more leaves that meet the split requirements\n",
      "[LightGBM] [Warning] Stopped training because there are no more leaves that meet the split requirements\n",
      "[LightGBM] [Warning] Stopped training because there are no more leaves that meet the split requirements\n",
      "[LightGBM] [Warning] Stopped training because there are no more leaves that meet the split requirements\n",
      "[LightGBM] [Warning] Stopped training because there are no more leaves that meet the split requirements\n",
      "[LightGBM] [Warning] Stopped training because there are no more leaves that meet the split requirements\n",
      "[LightGBM] [Warning] Stopped training because there are no more leaves that meet the split requirements\n",
      "[LightGBM] [Warning] Stopped training because there are no more leaves that meet the split requirements\n",
      "[LightGBM] [Warning] Stopped training because there are no more leaves that meet the split requirements\n",
      "[LightGBM] [Warning] Stopped training because there are no more leaves that meet the split requirements\n",
      "[LightGBM] [Warning] Stopped training because there are no more leaves that meet the split requirements\n",
      "[LightGBM] [Warning] Stopped training because there are no more leaves that meet the split requirements\n",
      "[LightGBM] [Warning] Stopped training because there are no more leaves that meet the split requirements\n",
      "[LightGBM] [Warning] Stopped training because there are no more leaves that meet the split requirements\n",
      "[LightGBM] [Warning] Stopped training because there are no more leaves that meet the split requirements\n",
      "[LightGBM] [Warning] Stopped training because there are no more leaves that meet the split requirements\n",
      "[LightGBM] [Warning] Stopped training because there are no more leaves that meet the split requirements\n",
      "[LightGBM] [Warning] Stopped training because there are no more leaves that meet the split requirements\n",
      "[LightGBM] [Warning] Stopped training because there are no more leaves that meet the split requirements\n",
      "[LightGBM] [Warning] Stopped training because there are no more leaves that meet the split requirements\n",
      "[LightGBM] [Warning] Stopped training because there are no more leaves that meet the split requirements\n",
      "[LightGBM] [Warning] Stopped training because there are no more leaves that meet the split requirements\n",
      "[LightGBM] [Warning] Stopped training because there are no more leaves that meet the split requirements\n",
      "[LightGBM] [Warning] Stopped training because there are no more leaves that meet the split requirements\n",
      "[LightGBM] [Warning] Stopped training because there are no more leaves that meet the split requirements\n",
      "[LightGBM] [Warning] Stopped training because there are no more leaves that meet the split requirements\n",
      "[LightGBM] [Warning] Stopped training because there are no more leaves that meet the split requirements\n",
      "[LightGBM] [Warning] Stopped training because there are no more leaves that meet the split requirements\n",
      "[LightGBM] [Warning] Stopped training because there are no more leaves that meet the split requirements\n",
      "[LightGBM] [Warning] Stopped training because there are no more leaves that meet the split requirements\n",
      "[LightGBM] [Warning] Stopped training because there are no more leaves that meet the split requirements\n",
      "[LightGBM] [Warning] Stopped training because there are no more leaves that meet the split requirements\n",
      "[LightGBM] [Warning] Stopped training because there are no more leaves that meet the split requirements\n",
      "[LightGBM] [Warning] Stopped training because there are no more leaves that meet the split requirements\n",
      "[LightGBM] [Warning] Stopped training because there are no more leaves that meet the split requirements\n",
      "[LightGBM] [Warning] Stopped training because there are no more leaves that meet the split requirements\n",
      "[LightGBM] [Warning] Stopped training because there are no more leaves that meet the split requirements\n",
      "[LightGBM] [Warning] Stopped training because there are no more leaves that meet the split requirements\n",
      "[LightGBM] [Warning] Stopped training because there are no more leaves that meet the split requirements\n",
      "[LightGBM] [Warning] Stopped training because there are no more leaves that meet the split requirements\n",
      "[LightGBM] [Warning] Stopped training because there are no more leaves that meet the split requirements\n",
      "[LightGBM] [Warning] Stopped training because there are no more leaves that meet the split requirements\n",
      "[LightGBM] [Warning] Stopped training because there are no more leaves that meet the split requirements\n",
      "[LightGBM] [Warning] Stopped training because there are no more leaves that meet the split requirements\n",
      "[LightGBM] [Warning] Stopped training because there are no more leaves that meet the split requirements\n",
      "[LightGBM] [Warning] Stopped training because there are no more leaves that meet the split requirements\n",
      "[LightGBM] [Warning] Stopped training because there are no more leaves that meet the split requirements\n",
      "[LightGBM] [Warning] Stopped training because there are no more leaves that meet the split requirements\n",
      "[LightGBM] [Warning] Stopped training because there are no more leaves that meet the split requirements\n",
      "[LightGBM] [Warning] Stopped training because there are no more leaves that meet the split requirements\n",
      "[LightGBM] [Warning] Stopped training because there are no more leaves that meet the split requirements\n",
      "[LightGBM] [Warning] Stopped training because there are no more leaves that meet the split requirements\n",
      "[LightGBM] [Warning] Stopped training because there are no more leaves that meet the split requirements\n",
      "[LightGBM] [Warning] Stopped training because there are no more leaves that meet the split requirements\n",
      "[LightGBM] [Warning] Stopped training because there are no more leaves that meet the split requirements\n",
      "[LightGBM] [Warning] Stopped training because there are no more leaves that meet the split requirements\n",
      "[LightGBM] [Warning] Stopped training because there are no more leaves that meet the split requirements\n",
      "[LightGBM] [Warning] Stopped training because there are no more leaves that meet the split requirements\n",
      "[LightGBM] [Warning] Stopped training because there are no more leaves that meet the split requirements\n",
      "[LightGBM] [Warning] Stopped training because there are no more leaves that meet the split requirements\n",
      "[LightGBM] [Warning] Stopped training because there are no more leaves that meet the split requirements\n",
      "[LightGBM] [Warning] Stopped training because there are no more leaves that meet the split requirements\n",
      "[LightGBM] [Warning] Stopped training because there are no more leaves that meet the split requirements\n"
     ]
    },
    {
     "data": {
      "application/vnd.jupyter.widget-view+json": {
       "model_id": "25e5aa2c631949c7ba9939f35b491cbd",
       "version_major": 2,
       "version_minor": 0
      },
      "text/plain": [
       "lags grid:   0%|          | 0/3 [00:00<?, ?it/s]"
      ]
     },
     "metadata": {},
     "output_type": "display_data"
    },
    {
     "data": {
      "application/vnd.jupyter.widget-view+json": {
       "model_id": "6dfe67bed76f415698acfaba3335a447",
       "version_major": 2,
       "version_minor": 0
      },
      "text/plain": [
       "params grid:   0%|          | 0/10 [00:00<?, ?it/s]"
      ]
     },
     "metadata": {},
     "output_type": "display_data"
    },
    {
     "name": "stdout",
     "output_type": "stream",
     "text": [
      "`Forecaster` refitted using the best-found lags and parameters, and the whole data set: \n",
      "  Lags: [1 2 3 4 5] \n",
      "  Parameters: {'alpha': 1e-05}\n",
      "  Backtesting metric: 0.0\n",
      "('Canada', 'Discount Stickers', 'Holographic Goose')\n",
      "Test error (RMSE): 0.0\n",
      "Test error (MAPE): 0.0%\n",
      "[LightGBM] [Info] Auto-choosing col-wise multi-threading, the overhead of testing was 0.000110 seconds.\n",
      "You can set `force_col_wise=true` to remove the overhead.\n",
      "[LightGBM] [Info] Total Bins 1530\n",
      "[LightGBM] [Info] Number of data points in the train set: 1989, number of used features: 6\n",
      "[LightGBM] [Info] Start training from score 736.278532\n"
     ]
    },
    {
     "data": {
      "application/vnd.jupyter.widget-view+json": {
       "model_id": "3f354142a0d44c3b94815d4c053a408b",
       "version_major": 2,
       "version_minor": 0
      },
      "text/plain": [
       "lags grid:   0%|          | 0/3 [00:00<?, ?it/s]"
      ]
     },
     "metadata": {},
     "output_type": "display_data"
    },
    {
     "data": {
      "application/vnd.jupyter.widget-view+json": {
       "model_id": "904536ff2567473c9f3d25f6f7caf803",
       "version_major": 2,
       "version_minor": 0
      },
      "text/plain": [
       "params grid:   0%|          | 0/10 [00:00<?, ?it/s]"
      ]
     },
     "metadata": {},
     "output_type": "display_data"
    },
    {
     "name": "stdout",
     "output_type": "stream",
     "text": [
      "`Forecaster` refitted using the best-found lags and parameters, and the whole data set: \n",
      "  Lags: [ 1  2  3  4  5  6  7  8  9 10 11 12 13 14 15 16 17 18 19 20] \n",
      "  Parameters: {'alpha': 46.41588833612782}\n",
      "  Backtesting metric: 3799.218803229905\n",
      "('Canada', 'Discount Stickers', 'Kaggle')\n",
      "Test error (RMSE): 136.25\n",
      "Test error (MAPE): 19.81%\n",
      "[LightGBM] [Info] Auto-choosing col-wise multi-threading, the overhead of testing was 0.000131 seconds.\n",
      "You can set `force_col_wise=true` to remove the overhead.\n",
      "[LightGBM] [Info] Total Bins 1530\n",
      "[LightGBM] [Info] Number of data points in the train set: 1989, number of used features: 6\n",
      "[LightGBM] [Info] Start training from score 607.013575\n"
     ]
    },
    {
     "data": {
      "application/vnd.jupyter.widget-view+json": {
       "model_id": "c9891468ffe84d1baa1639eced3b4836",
       "version_major": 2,
       "version_minor": 0
      },
      "text/plain": [
       "lags grid:   0%|          | 0/3 [00:00<?, ?it/s]"
      ]
     },
     "metadata": {},
     "output_type": "display_data"
    },
    {
     "data": {
      "application/vnd.jupyter.widget-view+json": {
       "model_id": "104eefb3445741bf9ef9e60213b81924",
       "version_major": 2,
       "version_minor": 0
      },
      "text/plain": [
       "params grid:   0%|          | 0/10 [00:00<?, ?it/s]"
      ]
     },
     "metadata": {},
     "output_type": "display_data"
    },
    {
     "name": "stdout",
     "output_type": "stream",
     "text": [
      "`Forecaster` refitted using the best-found lags and parameters, and the whole data set: \n",
      "  Lags: [ 1  2  3  4  5  6  7  8  9 10 11 12 13 14 15 16 17 18 19 20] \n",
      "  Parameters: {'alpha': 3.593813663804626}\n",
      "  Backtesting metric: 3084.9871797385936\n",
      "('Canada', 'Discount Stickers', 'Kaggle Tiers')\n",
      "Test error (RMSE): 122.58\n",
      "Test error (MAPE): 19.82%\n",
      "[LightGBM] [Info] Auto-choosing col-wise multi-threading, the overhead of testing was 0.000141 seconds.\n",
      "You can set `force_col_wise=true` to remove the overhead.\n",
      "[LightGBM] [Info] Total Bins 1488\n",
      "[LightGBM] [Info] Number of data points in the train set: 1989, number of used features: 6\n",
      "[LightGBM] [Info] Start training from score 329.510307\n"
     ]
    },
    {
     "data": {
      "application/vnd.jupyter.widget-view+json": {
       "model_id": "782f0274fcf04740abcbb4e69d5df053",
       "version_major": 2,
       "version_minor": 0
      },
      "text/plain": [
       "lags grid:   0%|          | 0/3 [00:00<?, ?it/s]"
      ]
     },
     "metadata": {},
     "output_type": "display_data"
    },
    {
     "data": {
      "application/vnd.jupyter.widget-view+json": {
       "model_id": "a5c14844d72e4d5db99b4b67ed73f297",
       "version_major": 2,
       "version_minor": 0
      },
      "text/plain": [
       "params grid:   0%|          | 0/10 [00:00<?, ?it/s]"
      ]
     },
     "metadata": {},
     "output_type": "display_data"
    },
    {
     "name": "stdout",
     "output_type": "stream",
     "text": [
      "`Forecaster` refitted using the best-found lags and parameters, and the whole data set: \n",
      "  Lags: [ 1  2  3  4  5  6  7  8  9 10 11 12 13 14 15 16 17 18 19 20] \n",
      "  Parameters: {'alpha': 46.41588833612782}\n",
      "  Backtesting metric: 1226.1790810947336\n",
      "('Canada', 'Discount Stickers', 'Kerneler')\n",
      "Test error (RMSE): 60.11\n",
      "Test error (MAPE): 17.38%\n",
      "[LightGBM] [Info] Auto-choosing col-wise multi-threading, the overhead of testing was 0.000139 seconds.\n",
      "You can set `force_col_wise=true` to remove the overhead.\n",
      "[LightGBM] [Info] Total Bins 1524\n",
      "[LightGBM] [Info] Number of data points in the train set: 1989, number of used features: 6\n",
      "[LightGBM] [Info] Start training from score 392.070890\n"
     ]
    },
    {
     "data": {
      "application/vnd.jupyter.widget-view+json": {
       "model_id": "141dd50aab4d4efd841e702760259c9e",
       "version_major": 2,
       "version_minor": 0
      },
      "text/plain": [
       "lags grid:   0%|          | 0/3 [00:00<?, ?it/s]"
      ]
     },
     "metadata": {},
     "output_type": "display_data"
    },
    {
     "data": {
      "application/vnd.jupyter.widget-view+json": {
       "model_id": "0f8190033c96476daccf7da8d17c4e1a",
       "version_major": 2,
       "version_minor": 0
      },
      "text/plain": [
       "params grid:   0%|          | 0/10 [00:00<?, ?it/s]"
      ]
     },
     "metadata": {},
     "output_type": "display_data"
    },
    {
     "name": "stdout",
     "output_type": "stream",
     "text": [
      "`Forecaster` refitted using the best-found lags and parameters, and the whole data set: \n",
      "  Lags: [ 1  2  3  4  5  6  7  8  9 10 11 12 13 14 15 16 17 18 19 20] \n",
      "  Parameters: {'alpha': 46.41588833612782}\n",
      "  Backtesting metric: 1791.8159312311475\n",
      "('Canada', 'Discount Stickers', 'Kerneler Dark Mode')\n",
      "Test error (RMSE): 76.82\n",
      "Test error (MAPE): 22.69%\n",
      "[LightGBM] [Info] Auto-choosing col-wise multi-threading, the overhead of testing was 0.000123 seconds.\n",
      "You can set `force_col_wise=true` to remove the overhead.\n",
      "[LightGBM] [Info] Total Bins 888\n",
      "[LightGBM] [Info] Number of data points in the train set: 1989, number of used features: 6\n",
      "[LightGBM] [Info] Start training from score 249.327300\n"
     ]
    },
    {
     "data": {
      "application/vnd.jupyter.widget-view+json": {
       "model_id": "182d7946c90547949ed694cca05d1fac",
       "version_major": 2,
       "version_minor": 0
      },
      "text/plain": [
       "lags grid:   0%|          | 0/3 [00:00<?, ?it/s]"
      ]
     },
     "metadata": {},
     "output_type": "display_data"
    },
    {
     "data": {
      "application/vnd.jupyter.widget-view+json": {
       "model_id": "9adb567895cc4523ace9576589c7515f",
       "version_major": 2,
       "version_minor": 0
      },
      "text/plain": [
       "params grid:   0%|          | 0/10 [00:00<?, ?it/s]"
      ]
     },
     "metadata": {},
     "output_type": "display_data"
    },
    {
     "name": "stdout",
     "output_type": "stream",
     "text": [
      "`Forecaster` refitted using the best-found lags and parameters, and the whole data set: \n",
      "  Lags: [ 1  2  3  4  5  6  7  8  9 10 11 12 13 14 15 16 17 18 19 20] \n",
      "  Parameters: {'alpha': 46.41588833612782}\n",
      "  Backtesting metric: 581.6798706712634\n",
      "('Canada', 'Premium Sticker Mart', 'Holographic Goose')\n",
      "Test error (RMSE): 35.1\n",
      "Test error (MAPE): 13.67%\n",
      "[LightGBM] [Info] Auto-choosing col-wise multi-threading, the overhead of testing was 0.000102 seconds.\n",
      "You can set `force_col_wise=true` to remove the overhead.\n",
      "[LightGBM] [Info] Total Bins 1530\n",
      "[LightGBM] [Info] Number of data points in the train set: 1989, number of used features: 6\n",
      "[LightGBM] [Info] Start training from score 1762.984917\n"
     ]
    },
    {
     "data": {
      "application/vnd.jupyter.widget-view+json": {
       "model_id": "185c967cdb1b4475a849e97a0fc03e85",
       "version_major": 2,
       "version_minor": 0
      },
      "text/plain": [
       "lags grid:   0%|          | 0/3 [00:00<?, ?it/s]"
      ]
     },
     "metadata": {},
     "output_type": "display_data"
    },
    {
     "data": {
      "application/vnd.jupyter.widget-view+json": {
       "model_id": "afffec53bf1e41b9b8aedacdeeed32d0",
       "version_major": 2,
       "version_minor": 0
      },
      "text/plain": [
       "params grid:   0%|          | 0/10 [00:00<?, ?it/s]"
      ]
     },
     "metadata": {},
     "output_type": "display_data"
    },
    {
     "name": "stdout",
     "output_type": "stream",
     "text": [
      "`Forecaster` refitted using the best-found lags and parameters, and the whole data set: \n",
      "  Lags: [ 1  2  3  4  5  6  7  8  9 10 11 12 13 14 15 16 17 18 19 20] \n",
      "  Parameters: {'alpha': 46.41588833612782}\n",
      "  Backtesting metric: 21191.155032438008\n",
      "('Canada', 'Premium Sticker Mart', 'Kaggle')\n",
      "Test error (RMSE): 352.0\n",
      "Test error (MAPE): 21.37%\n",
      "[LightGBM] [Info] Auto-choosing col-wise multi-threading, the overhead of testing was 0.000120 seconds.\n",
      "You can set `force_col_wise=true` to remove the overhead.\n",
      "[LightGBM] [Info] Total Bins 1530\n",
      "[LightGBM] [Info] Number of data points in the train set: 1989, number of used features: 6\n",
      "[LightGBM] [Info] Start training from score 1452.735546\n"
     ]
    },
    {
     "data": {
      "application/vnd.jupyter.widget-view+json": {
       "model_id": "e15c9fb1db974bc18569cb258e3be3f1",
       "version_major": 2,
       "version_minor": 0
      },
      "text/plain": [
       "lags grid:   0%|          | 0/3 [00:00<?, ?it/s]"
      ]
     },
     "metadata": {},
     "output_type": "display_data"
    },
    {
     "data": {
      "application/vnd.jupyter.widget-view+json": {
       "model_id": "6e10494a106a49db9c2196e6f4010c80",
       "version_major": 2,
       "version_minor": 0
      },
      "text/plain": [
       "params grid:   0%|          | 0/10 [00:00<?, ?it/s]"
      ]
     },
     "metadata": {},
     "output_type": "display_data"
    },
    {
     "name": "stdout",
     "output_type": "stream",
     "text": [
      "`Forecaster` refitted using the best-found lags and parameters, and the whole data set: \n",
      "  Lags: [ 1  2  3  4  5  6  7  8  9 10 11 12 13 14 15 16 17 18 19 20] \n",
      "  Parameters: {'alpha': 46.41588833612782}\n",
      "  Backtesting metric: 16491.868363091122\n",
      "('Canada', 'Premium Sticker Mart', 'Kaggle Tiers')\n",
      "Test error (RMSE): 282.43\n",
      "Test error (MAPE): 19.56%\n",
      "[LightGBM] [Info] Auto-choosing col-wise multi-threading, the overhead of testing was 0.000118 seconds.\n",
      "You can set `force_col_wise=true` to remove the overhead.\n",
      "[LightGBM] [Info] Total Bins 1530\n",
      "[LightGBM] [Info] Number of data points in the train set: 1989, number of used features: 6\n",
      "[LightGBM] [Info] Start training from score 786.883358\n"
     ]
    },
    {
     "data": {
      "application/vnd.jupyter.widget-view+json": {
       "model_id": "fef40f5eff60459c8db3463fda7000ba",
       "version_major": 2,
       "version_minor": 0
      },
      "text/plain": [
       "lags grid:   0%|          | 0/3 [00:00<?, ?it/s]"
      ]
     },
     "metadata": {},
     "output_type": "display_data"
    },
    {
     "data": {
      "application/vnd.jupyter.widget-view+json": {
       "model_id": "81f56800b89f4f2599017dc31ecca224",
       "version_major": 2,
       "version_minor": 0
      },
      "text/plain": [
       "params grid:   0%|          | 0/10 [00:00<?, ?it/s]"
      ]
     },
     "metadata": {},
     "output_type": "display_data"
    },
    {
     "name": "stdout",
     "output_type": "stream",
     "text": [
      "`Forecaster` refitted using the best-found lags and parameters, and the whole data set: \n",
      "  Lags: [ 1  2  3  4  5  6  7  8  9 10 11 12 13 14 15 16 17 18 19 20] \n",
      "  Parameters: {'alpha': 46.41588833612782}\n",
      "  Backtesting metric: 6920.27910452354\n",
      "('Canada', 'Premium Sticker Mart', 'Kerneler')\n",
      "Test error (RMSE): 138.87\n",
      "Test error (MAPE): 16.91%\n",
      "[LightGBM] [Info] Auto-choosing col-wise multi-threading, the overhead of testing was 0.000136 seconds.\n",
      "You can set `force_col_wise=true` to remove the overhead.\n",
      "[LightGBM] [Info] Total Bins 1530\n",
      "[LightGBM] [Info] Number of data points in the train set: 1989, number of used features: 6\n",
      "[LightGBM] [Info] Start training from score 938.933132\n"
     ]
    },
    {
     "data": {
      "application/vnd.jupyter.widget-view+json": {
       "model_id": "f6f68d63a25e41118ec51f915b11ae20",
       "version_major": 2,
       "version_minor": 0
      },
      "text/plain": [
       "lags grid:   0%|          | 0/3 [00:00<?, ?it/s]"
      ]
     },
     "metadata": {},
     "output_type": "display_data"
    },
    {
     "data": {
      "application/vnd.jupyter.widget-view+json": {
       "model_id": "84bfaa35ba3e4acd9be9019801b5665c",
       "version_major": 2,
       "version_minor": 0
      },
      "text/plain": [
       "params grid:   0%|          | 0/10 [00:00<?, ?it/s]"
      ]
     },
     "metadata": {},
     "output_type": "display_data"
    },
    {
     "name": "stdout",
     "output_type": "stream",
     "text": [
      "`Forecaster` refitted using the best-found lags and parameters, and the whole data set: \n",
      "  Lags: [ 1  2  3  4  5  6  7  8  9 10 11 12 13 14 15 16 17 18 19 20] \n",
      "  Parameters: {'alpha': 46.41588833612782}\n",
      "  Backtesting metric: 9026.791703450996\n",
      "('Canada', 'Premium Sticker Mart', 'Kerneler Dark Mode')\n",
      "Test error (RMSE): 203.04\n",
      "Test error (MAPE): 24.67%\n",
      "[LightGBM] [Info] Auto-choosing col-wise multi-threading, the overhead of testing was 0.000111 seconds.\n",
      "You can set `force_col_wise=true` to remove the overhead.\n",
      "[LightGBM] [Info] Total Bins 661\n",
      "[LightGBM] [Info] Number of data points in the train set: 1989, number of used features: 6\n",
      "[LightGBM] [Info] Start training from score 225.527652\n"
     ]
    },
    {
     "data": {
      "application/vnd.jupyter.widget-view+json": {
       "model_id": "22d313be80424e8a952dd256b66637d0",
       "version_major": 2,
       "version_minor": 0
      },
      "text/plain": [
       "lags grid:   0%|          | 0/3 [00:00<?, ?it/s]"
      ]
     },
     "metadata": {},
     "output_type": "display_data"
    },
    {
     "data": {
      "application/vnd.jupyter.widget-view+json": {
       "model_id": "11eba870f94648cfbbaa8798603c3bde",
       "version_major": 2,
       "version_minor": 0
      },
      "text/plain": [
       "params grid:   0%|          | 0/10 [00:00<?, ?it/s]"
      ]
     },
     "metadata": {},
     "output_type": "display_data"
    },
    {
     "name": "stdout",
     "output_type": "stream",
     "text": [
      "`Forecaster` refitted using the best-found lags and parameters, and the whole data set: \n",
      "  Lags: [ 1  2  3  4  5  6  7  8  9 10 11 12 13 14 15 16 17 18 19 20] \n",
      "  Parameters: {'alpha': 46.41588833612782}\n",
      "  Backtesting metric: 365.59853460670746\n",
      "('Canada', 'Stickers for Less', 'Holographic Goose')\n",
      "Test error (RMSE): 18.99\n",
      "Test error (MAPE): 7.61%\n",
      "[LightGBM] [Info] Auto-choosing col-wise multi-threading, the overhead of testing was 0.000148 seconds.\n",
      "You can set `force_col_wise=true` to remove the overhead.\n",
      "[LightGBM] [Info] Total Bins 1530\n",
      "[LightGBM] [Info] Number of data points in the train set: 1989, number of used features: 6\n",
      "[LightGBM] [Info] Start training from score 1491.588738\n"
     ]
    },
    {
     "data": {
      "application/vnd.jupyter.widget-view+json": {
       "model_id": "3f635966a3ff4665a948a46f2c985fe9",
       "version_major": 2,
       "version_minor": 0
      },
      "text/plain": [
       "lags grid:   0%|          | 0/3 [00:00<?, ?it/s]"
      ]
     },
     "metadata": {},
     "output_type": "display_data"
    },
    {
     "data": {
      "application/vnd.jupyter.widget-view+json": {
       "model_id": "972b05a40905497a9b2e64b7ceb69f32",
       "version_major": 2,
       "version_minor": 0
      },
      "text/plain": [
       "params grid:   0%|          | 0/10 [00:00<?, ?it/s]"
      ]
     },
     "metadata": {},
     "output_type": "display_data"
    },
    {
     "name": "stdout",
     "output_type": "stream",
     "text": [
      "`Forecaster` refitted using the best-found lags and parameters, and the whole data set: \n",
      "  Lags: [ 1  2  3  4  5  6  7  8  9 10 11 12 13 14 15 16 17 18 19 20] \n",
      "  Parameters: {'alpha': 46.41588833612782}\n",
      "  Backtesting metric: 15783.603213890854\n",
      "('Canada', 'Stickers for Less', 'Kaggle')\n",
      "Test error (RMSE): 285.55\n",
      "Test error (MAPE): 20.23%\n",
      "[LightGBM] [Info] Auto-choosing col-wise multi-threading, the overhead of testing was 0.000130 seconds.\n",
      "You can set `force_col_wise=true` to remove the overhead.\n",
      "[LightGBM] [Info] Total Bins 1530\n",
      "[LightGBM] [Info] Number of data points in the train set: 1989, number of used features: 6\n",
      "[LightGBM] [Info] Start training from score 1228.232780\n"
     ]
    },
    {
     "data": {
      "application/vnd.jupyter.widget-view+json": {
       "model_id": "60ce1cf6da3949c3804ba7310778814d",
       "version_major": 2,
       "version_minor": 0
      },
      "text/plain": [
       "lags grid:   0%|          | 0/3 [00:00<?, ?it/s]"
      ]
     },
     "metadata": {},
     "output_type": "display_data"
    },
    {
     "data": {
      "application/vnd.jupyter.widget-view+json": {
       "model_id": "dbb1c44e198a4541a8351a3aeddc5f50",
       "version_major": 2,
       "version_minor": 0
      },
      "text/plain": [
       "params grid:   0%|          | 0/10 [00:00<?, ?it/s]"
      ]
     },
     "metadata": {},
     "output_type": "display_data"
    },
    {
     "name": "stdout",
     "output_type": "stream",
     "text": [
      "`Forecaster` refitted using the best-found lags and parameters, and the whole data set: \n",
      "  Lags: [ 1  2  3  4  5  6  7  8  9 10 11 12 13 14 15 16 17 18 19 20] \n",
      "  Parameters: {'alpha': 3.593813663804626}\n",
      "  Backtesting metric: 10682.333210804505\n",
      "('Canada', 'Stickers for Less', 'Kaggle Tiers')\n",
      "Test error (RMSE): 245.1\n",
      "Test error (MAPE): 19.79%\n",
      "[LightGBM] [Info] Auto-choosing col-wise multi-threading, the overhead of testing was 0.000158 seconds.\n",
      "You can set `force_col_wise=true` to remove the overhead.\n",
      "[LightGBM] [Info] Total Bins 1530\n",
      "[LightGBM] [Info] Number of data points in the train set: 1989, number of used features: 6\n",
      "[LightGBM] [Info] Start training from score 667.811966\n"
     ]
    },
    {
     "data": {
      "application/vnd.jupyter.widget-view+json": {
       "model_id": "e4c8e2bfe6cf444ba21c77f3486adf2b",
       "version_major": 2,
       "version_minor": 0
      },
      "text/plain": [
       "lags grid:   0%|          | 0/3 [00:00<?, ?it/s]"
      ]
     },
     "metadata": {},
     "output_type": "display_data"
    },
    {
     "data": {
      "application/vnd.jupyter.widget-view+json": {
       "model_id": "0b0b1a583bb84e3e9e0d0c0ae71058ab",
       "version_major": 2,
       "version_minor": 0
      },
      "text/plain": [
       "params grid:   0%|          | 0/10 [00:00<?, ?it/s]"
      ]
     },
     "metadata": {},
     "output_type": "display_data"
    },
    {
     "name": "stdout",
     "output_type": "stream",
     "text": [
      "`Forecaster` refitted using the best-found lags and parameters, and the whole data set: \n",
      "  Lags: [ 1  2  3  4  5  6  7  8  9 10 11 12 13 14 15 16 17 18 19 20] \n",
      "  Parameters: {'alpha': 46.41588833612782}\n",
      "  Backtesting metric: 4643.847101953923\n",
      "('Canada', 'Stickers for Less', 'Kerneler')\n",
      "Test error (RMSE): 120.92\n",
      "Test error (MAPE): 17.72%\n",
      "[LightGBM] [Info] Auto-choosing col-wise multi-threading, the overhead of testing was 0.000133 seconds.\n",
      "You can set `force_col_wise=true` to remove the overhead.\n",
      "[LightGBM] [Info] Total Bins 1530\n",
      "[LightGBM] [Info] Number of data points in the train set: 1989, number of used features: 6\n",
      "[LightGBM] [Info] Start training from score 792.028658\n"
     ]
    },
    {
     "data": {
      "application/vnd.jupyter.widget-view+json": {
       "model_id": "2d692bc93a1f4c358cb6cd0507fd27bc",
       "version_major": 2,
       "version_minor": 0
      },
      "text/plain": [
       "lags grid:   0%|          | 0/3 [00:00<?, ?it/s]"
      ]
     },
     "metadata": {},
     "output_type": "display_data"
    },
    {
     "data": {
      "application/vnd.jupyter.widget-view+json": {
       "model_id": "f641dbbf53d6453ea525d1540e4de5e0",
       "version_major": 2,
       "version_minor": 0
      },
      "text/plain": [
       "params grid:   0%|          | 0/10 [00:00<?, ?it/s]"
      ]
     },
     "metadata": {},
     "output_type": "display_data"
    },
    {
     "name": "stdout",
     "output_type": "stream",
     "text": [
      "`Forecaster` refitted using the best-found lags and parameters, and the whole data set: \n",
      "  Lags: [ 1  2  3  4  5  6  7  8  9 10 11 12 13 14 15 16 17 18 19 20] \n",
      "  Parameters: {'alpha': 46.41588833612782}\n",
      "  Backtesting metric: 6200.1694038791775\n",
      "('Canada', 'Stickers for Less', 'Kerneler Dark Mode')\n",
      "Test error (RMSE): 166.04\n",
      "Test error (MAPE): 24.17%\n",
      "[LightGBM] [Info] Auto-choosing col-wise multi-threading, the overhead of testing was 0.000112 seconds.\n",
      "You can set `force_col_wise=true` to remove the overhead.\n",
      "[LightGBM] [Info] Total Bins 483\n",
      "[LightGBM] [Info] Number of data points in the train set: 1989, number of used features: 6\n",
      "[LightGBM] [Info] Start training from score 99.614379\n"
     ]
    },
    {
     "data": {
      "application/vnd.jupyter.widget-view+json": {
       "model_id": "48e6fc506fd34b329ff9eee71d031426",
       "version_major": 2,
       "version_minor": 0
      },
      "text/plain": [
       "lags grid:   0%|          | 0/3 [00:00<?, ?it/s]"
      ]
     },
     "metadata": {},
     "output_type": "display_data"
    },
    {
     "data": {
      "application/vnd.jupyter.widget-view+json": {
       "model_id": "5498e361b08e4baead16f8614bf91ccb",
       "version_major": 2,
       "version_minor": 0
      },
      "text/plain": [
       "params grid:   0%|          | 0/10 [00:00<?, ?it/s]"
      ]
     },
     "metadata": {},
     "output_type": "display_data"
    },
    {
     "name": "stdout",
     "output_type": "stream",
     "text": [
      "`Forecaster` refitted using the best-found lags and parameters, and the whole data set: \n",
      "  Lags: [ 1  2  3  4  5  6  7  8  9 10 11 12 13 14 15 16 17 18 19 20] \n",
      "  Parameters: {'alpha': 46.41588833612782}\n",
      "  Backtesting metric: 150.12893218116818\n",
      "('Finland', 'Discount Stickers', 'Holographic Goose')\n",
      "Test error (RMSE): 12.62\n",
      "Test error (MAPE): 12.14%\n",
      "[LightGBM] [Info] Auto-choosing col-wise multi-threading, the overhead of testing was 0.000145 seconds.\n",
      "You can set `force_col_wise=true` to remove the overhead.\n",
      "[LightGBM] [Info] Total Bins 1530\n",
      "[LightGBM] [Info] Number of data points in the train set: 1989, number of used features: 6\n",
      "[LightGBM] [Info] Start training from score 716.876823\n"
     ]
    },
    {
     "data": {
      "application/vnd.jupyter.widget-view+json": {
       "model_id": "f21d651c0bc64c1e9930abbc17f1f826",
       "version_major": 2,
       "version_minor": 0
      },
      "text/plain": [
       "lags grid:   0%|          | 0/3 [00:00<?, ?it/s]"
      ]
     },
     "metadata": {},
     "output_type": "display_data"
    },
    {
     "data": {
      "application/vnd.jupyter.widget-view+json": {
       "model_id": "ac75e5639deb46f3a1567944bf1a55c4",
       "version_major": 2,
       "version_minor": 0
      },
      "text/plain": [
       "params grid:   0%|          | 0/10 [00:00<?, ?it/s]"
      ]
     },
     "metadata": {},
     "output_type": "display_data"
    },
    {
     "name": "stdout",
     "output_type": "stream",
     "text": [
      "`Forecaster` refitted using the best-found lags and parameters, and the whole data set: \n",
      "  Lags: [ 1  2  3  4  5  6  7  8  9 10 11 12 13 14 15 16 17 18 19 20] \n",
      "  Parameters: {'alpha': 46.41588833612782}\n",
      "  Backtesting metric: 4886.291489822008\n",
      "('Finland', 'Discount Stickers', 'Kaggle')\n",
      "Test error (RMSE): 99.07\n",
      "Test error (MAPE): 13.67%\n",
      "[LightGBM] [Info] Auto-choosing col-wise multi-threading, the overhead of testing was 0.000143 seconds.\n",
      "You can set `force_col_wise=true` to remove the overhead.\n",
      "[LightGBM] [Info] Total Bins 1530\n",
      "[LightGBM] [Info] Number of data points in the train set: 1989, number of used features: 6\n",
      "[LightGBM] [Info] Start training from score 588.929613\n"
     ]
    },
    {
     "data": {
      "application/vnd.jupyter.widget-view+json": {
       "model_id": "34f65636b0934aeb9a50f3397cea56eb",
       "version_major": 2,
       "version_minor": 0
      },
      "text/plain": [
       "lags grid:   0%|          | 0/3 [00:00<?, ?it/s]"
      ]
     },
     "metadata": {},
     "output_type": "display_data"
    },
    {
     "data": {
      "application/vnd.jupyter.widget-view+json": {
       "model_id": "3c8bb663f80f4b47a936811d80c42d0c",
       "version_major": 2,
       "version_minor": 0
      },
      "text/plain": [
       "params grid:   0%|          | 0/10 [00:00<?, ?it/s]"
      ]
     },
     "metadata": {},
     "output_type": "display_data"
    },
    {
     "name": "stdout",
     "output_type": "stream",
     "text": [
      "`Forecaster` refitted using the best-found lags and parameters, and the whole data set: \n",
      "  Lags: [ 1  2  3  4  5  6  7  8  9 10 11 12 13 14 15 16 17 18 19 20] \n",
      "  Parameters: {'alpha': 46.41588833612782}\n",
      "  Backtesting metric: 3425.5447977890312\n",
      "('Finland', 'Discount Stickers', 'Kaggle Tiers')\n",
      "Test error (RMSE): 83.74\n",
      "Test error (MAPE): 12.92%\n",
      "[LightGBM] [Info] Auto-choosing col-wise multi-threading, the overhead of testing was 0.000125 seconds.\n",
      "You can set `force_col_wise=true` to remove the overhead.\n",
      "[LightGBM] [Info] Total Bins 1432\n",
      "[LightGBM] [Info] Number of data points in the train set: 1989, number of used features: 6\n",
      "[LightGBM] [Info] Start training from score 319.528909\n"
     ]
    },
    {
     "data": {
      "application/vnd.jupyter.widget-view+json": {
       "model_id": "42f1a107e7f34d71a3707b9cdd654d80",
       "version_major": 2,
       "version_minor": 0
      },
      "text/plain": [
       "lags grid:   0%|          | 0/3 [00:00<?, ?it/s]"
      ]
     },
     "metadata": {},
     "output_type": "display_data"
    },
    {
     "data": {
      "application/vnd.jupyter.widget-view+json": {
       "model_id": "7bf564e796784609a3ccd8a67ac410c1",
       "version_major": 2,
       "version_minor": 0
      },
      "text/plain": [
       "params grid:   0%|          | 0/10 [00:00<?, ?it/s]"
      ]
     },
     "metadata": {},
     "output_type": "display_data"
    },
    {
     "name": "stdout",
     "output_type": "stream",
     "text": [
      "`Forecaster` refitted using the best-found lags and parameters, and the whole data set: \n",
      "  Lags: [ 1  2  3  4  5  6  7  8  9 10 11 12 13 14 15 16 17 18 19 20] \n",
      "  Parameters: {'alpha': 46.41588833612782}\n",
      "  Backtesting metric: 1446.1909437313232\n",
      "('Finland', 'Discount Stickers', 'Kerneler')\n",
      "Test error (RMSE): 42.16\n",
      "Test error (MAPE): 11.61%\n",
      "[LightGBM] [Info] Auto-choosing col-wise multi-threading, the overhead of testing was 0.000171 seconds.\n",
      "You can set `force_col_wise=true` to remove the overhead.\n",
      "[LightGBM] [Info] Total Bins 1530\n",
      "[LightGBM] [Info] Number of data points in the train set: 1989, number of used features: 6\n",
      "[LightGBM] [Info] Start training from score 382.330820\n"
     ]
    },
    {
     "data": {
      "application/vnd.jupyter.widget-view+json": {
       "model_id": "858ffe309d5747478087e939a4eae316",
       "version_major": 2,
       "version_minor": 0
      },
      "text/plain": [
       "lags grid:   0%|          | 0/3 [00:00<?, ?it/s]"
      ]
     },
     "metadata": {},
     "output_type": "display_data"
    },
    {
     "data": {
      "application/vnd.jupyter.widget-view+json": {
       "model_id": "5b985beff67744938cfac825f87b4f8e",
       "version_major": 2,
       "version_minor": 0
      },
      "text/plain": [
       "params grid:   0%|          | 0/10 [00:00<?, ?it/s]"
      ]
     },
     "metadata": {},
     "output_type": "display_data"
    },
    {
     "name": "stdout",
     "output_type": "stream",
     "text": [
      "`Forecaster` refitted using the best-found lags and parameters, and the whole data set: \n",
      "  Lags: [ 1  2  3  4  5  6  7  8  9 10 11 12 13 14 15 16 17 18 19 20] \n",
      "  Parameters: {'alpha': 46.41588833612782}\n",
      "  Backtesting metric: 2252.0778616488324\n",
      "('Finland', 'Discount Stickers', 'Kerneler Dark Mode')\n",
      "Test error (RMSE): 64.41\n",
      "Test error (MAPE): 18.33%\n",
      "[LightGBM] [Info] Auto-choosing col-wise multi-threading, the overhead of testing was 0.000092 seconds.\n",
      "You can set `force_col_wise=true` to remove the overhead.\n",
      "[LightGBM] [Info] Total Bins 958\n",
      "[LightGBM] [Info] Number of data points in the train set: 1989, number of used features: 6\n",
      "[LightGBM] [Info] Start training from score 239.100050\n"
     ]
    },
    {
     "data": {
      "application/vnd.jupyter.widget-view+json": {
       "model_id": "aa65dd2d17014032bd6ac8bf1dcb3ad6",
       "version_major": 2,
       "version_minor": 0
      },
      "text/plain": [
       "lags grid:   0%|          | 0/3 [00:00<?, ?it/s]"
      ]
     },
     "metadata": {},
     "output_type": "display_data"
    },
    {
     "data": {
      "application/vnd.jupyter.widget-view+json": {
       "model_id": "3e7f126d619f4e75a36829851a269b85",
       "version_major": 2,
       "version_minor": 0
      },
      "text/plain": [
       "params grid:   0%|          | 0/10 [00:00<?, ?it/s]"
      ]
     },
     "metadata": {},
     "output_type": "display_data"
    },
    {
     "name": "stdout",
     "output_type": "stream",
     "text": [
      "`Forecaster` refitted using the best-found lags and parameters, and the whole data set: \n",
      "  Lags: [ 1  2  3  4  5  6  7  8  9 10 11 12 13 14 15 16 17 18 19 20] \n",
      "  Parameters: {'alpha': 599.4842503189421}\n",
      "  Backtesting metric: 928.7091022130072\n",
      "('Finland', 'Premium Sticker Mart', 'Holographic Goose')\n",
      "Test error (RMSE): 32.49\n",
      "Test error (MAPE): 13.45%\n",
      "[LightGBM] [Info] Auto-choosing col-wise multi-threading, the overhead of testing was 0.000123 seconds.\n",
      "You can set `force_col_wise=true` to remove the overhead.\n",
      "[LightGBM] [Info] Total Bins 1530\n",
      "[LightGBM] [Info] Number of data points in the train set: 1989, number of used features: 6\n",
      "[LightGBM] [Info] Start training from score 1714.242836\n"
     ]
    },
    {
     "data": {
      "application/vnd.jupyter.widget-view+json": {
       "model_id": "453e420f38fa487eb8d66a862a932350",
       "version_major": 2,
       "version_minor": 0
      },
      "text/plain": [
       "lags grid:   0%|          | 0/3 [00:00<?, ?it/s]"
      ]
     },
     "metadata": {},
     "output_type": "display_data"
    },
    {
     "data": {
      "application/vnd.jupyter.widget-view+json": {
       "model_id": "dd19acdd44d8420f9860aa5f705035a9",
       "version_major": 2,
       "version_minor": 0
      },
      "text/plain": [
       "params grid:   0%|          | 0/10 [00:00<?, ?it/s]"
      ]
     },
     "metadata": {},
     "output_type": "display_data"
    },
    {
     "name": "stdout",
     "output_type": "stream",
     "text": [
      "`Forecaster` refitted using the best-found lags and parameters, and the whole data set: \n",
      "  Lags: [ 1  2  3  4  5  6  7  8  9 10 11 12 13 14 15 16 17 18 19 20] \n",
      "  Parameters: {'alpha': 46.41588833612782}\n",
      "  Backtesting metric: 29871.743399218427\n",
      "('Finland', 'Premium Sticker Mart', 'Kaggle')\n",
      "Test error (RMSE): 238.86\n",
      "Test error (MAPE): 13.5%\n",
      "[LightGBM] [Info] Auto-choosing col-wise multi-threading, the overhead of testing was 0.000217 seconds.\n",
      "You can set `force_col_wise=true` to remove the overhead.\n",
      "[LightGBM] [Info] Total Bins 1530\n",
      "[LightGBM] [Info] Number of data points in the train set: 1989, number of used features: 6\n",
      "[LightGBM] [Info] Start training from score 1408.243338\n"
     ]
    },
    {
     "data": {
      "application/vnd.jupyter.widget-view+json": {
       "model_id": "503381b107624ee8915e50a309c671ea",
       "version_major": 2,
       "version_minor": 0
      },
      "text/plain": [
       "lags grid:   0%|          | 0/3 [00:00<?, ?it/s]"
      ]
     },
     "metadata": {},
     "output_type": "display_data"
    },
    {
     "data": {
      "application/vnd.jupyter.widget-view+json": {
       "model_id": "ddc0364a301f41e780eee0a7ae611871",
       "version_major": 2,
       "version_minor": 0
      },
      "text/plain": [
       "params grid:   0%|          | 0/10 [00:00<?, ?it/s]"
      ]
     },
     "metadata": {},
     "output_type": "display_data"
    },
    {
     "name": "stdout",
     "output_type": "stream",
     "text": [
      "`Forecaster` refitted using the best-found lags and parameters, and the whole data set: \n",
      "  Lags: [ 1  2  3  4  5  6  7  8  9 10 11 12 13 14 15 16 17 18 19 20] \n",
      "  Parameters: {'alpha': 46.41588833612782}\n",
      "  Backtesting metric: 18024.69770393769\n",
      "('Finland', 'Premium Sticker Mart', 'Kaggle Tiers')\n",
      "Test error (RMSE): 220.0\n",
      "Test error (MAPE): 14.19%\n",
      "[LightGBM] [Info] Auto-choosing col-wise multi-threading, the overhead of testing was 0.000109 seconds.\n",
      "You can set `force_col_wise=true` to remove the overhead.\n",
      "[LightGBM] [Info] Total Bins 1530\n",
      "[LightGBM] [Info] Number of data points in the train set: 1989, number of used features: 6\n",
      "[LightGBM] [Info] Start training from score 764.436400\n"
     ]
    },
    {
     "data": {
      "application/vnd.jupyter.widget-view+json": {
       "model_id": "673defed128b4db1afc531a6d1d9985a",
       "version_major": 2,
       "version_minor": 0
      },
      "text/plain": [
       "lags grid:   0%|          | 0/3 [00:00<?, ?it/s]"
      ]
     },
     "metadata": {},
     "output_type": "display_data"
    },
    {
     "data": {
      "application/vnd.jupyter.widget-view+json": {
       "model_id": "edbfd7d8eb1848eba28b8b4856f5d737",
       "version_major": 2,
       "version_minor": 0
      },
      "text/plain": [
       "params grid:   0%|          | 0/10 [00:00<?, ?it/s]"
      ]
     },
     "metadata": {},
     "output_type": "display_data"
    },
    {
     "name": "stdout",
     "output_type": "stream",
     "text": [
      "`Forecaster` refitted using the best-found lags and parameters, and the whole data set: \n",
      "  Lags: [ 1  2  3  4  5  6  7  8  9 10 11 12 13 14 15 16 17 18 19 20] \n",
      "  Parameters: {'alpha': 599.4842503189421}\n",
      "  Backtesting metric: 8974.14268079444\n",
      "('Finland', 'Premium Sticker Mart', 'Kerneler')\n",
      "Test error (RMSE): 109.62\n",
      "Test error (MAPE): 12.66%\n",
      "[LightGBM] [Info] Auto-choosing col-wise multi-threading, the overhead of testing was 0.000104 seconds.\n",
      "You can set `force_col_wise=true` to remove the overhead.\n",
      "[LightGBM] [Info] Total Bins 1530\n",
      "[LightGBM] [Info] Number of data points in the train set: 1989, number of used features: 6\n",
      "[LightGBM] [Info] Start training from score 915.645551\n"
     ]
    },
    {
     "data": {
      "application/vnd.jupyter.widget-view+json": {
       "model_id": "f34e597711d74d37b39abeba1c0f28de",
       "version_major": 2,
       "version_minor": 0
      },
      "text/plain": [
       "lags grid:   0%|          | 0/3 [00:00<?, ?it/s]"
      ]
     },
     "metadata": {},
     "output_type": "display_data"
    },
    {
     "data": {
      "application/vnd.jupyter.widget-view+json": {
       "model_id": "acf982d3def34e4785cf10cd1c369459",
       "version_major": 2,
       "version_minor": 0
      },
      "text/plain": [
       "params grid:   0%|          | 0/10 [00:00<?, ?it/s]"
      ]
     },
     "metadata": {},
     "output_type": "display_data"
    },
    {
     "name": "stdout",
     "output_type": "stream",
     "text": [
      "`Forecaster` refitted using the best-found lags and parameters, and the whole data set: \n",
      "  Lags: [ 1  2  3  4  5  6  7  8  9 10 11 12 13 14 15 16 17 18 19 20] \n",
      "  Parameters: {'alpha': 46.41588833612782}\n",
      "  Backtesting metric: 12739.592211060812\n",
      "('Finland', 'Premium Sticker Mart', 'Kerneler Dark Mode')\n",
      "Test error (RMSE): 165.84\n",
      "Test error (MAPE): 19.46%\n",
      "[LightGBM] [Info] Auto-choosing col-wise multi-threading, the overhead of testing was 0.000193 seconds.\n",
      "You can set `force_col_wise=true` to remove the overhead.\n",
      "[LightGBM] [Info] Total Bins 837\n",
      "[LightGBM] [Info] Number of data points in the train set: 1989, number of used features: 6\n",
      "[LightGBM] [Info] Start training from score 202.085470\n"
     ]
    },
    {
     "data": {
      "application/vnd.jupyter.widget-view+json": {
       "model_id": "a4ec67ca4322458bb6499c58af53b14a",
       "version_major": 2,
       "version_minor": 0
      },
      "text/plain": [
       "lags grid:   0%|          | 0/3 [00:00<?, ?it/s]"
      ]
     },
     "metadata": {},
     "output_type": "display_data"
    },
    {
     "data": {
      "application/vnd.jupyter.widget-view+json": {
       "model_id": "cc6955b8470a4e75a6bdcb3f7d057eba",
       "version_major": 2,
       "version_minor": 0
      },
      "text/plain": [
       "params grid:   0%|          | 0/10 [00:00<?, ?it/s]"
      ]
     },
     "metadata": {},
     "output_type": "display_data"
    },
    {
     "name": "stdout",
     "output_type": "stream",
     "text": [
      "`Forecaster` refitted using the best-found lags and parameters, and the whole data set: \n",
      "  Lags: [ 1  2  3  4  5  6  7  8  9 10 11 12 13 14 15 16 17 18 19 20] \n",
      "  Parameters: {'alpha': 46.41588833612782}\n",
      "  Backtesting metric: 563.5613464228841\n",
      "('Finland', 'Stickers for Less', 'Holographic Goose')\n",
      "Test error (RMSE): 27.7\n",
      "Test error (MAPE): 13.13%\n",
      "[LightGBM] [Info] Auto-choosing col-wise multi-threading, the overhead of testing was 0.000156 seconds.\n",
      "You can set `force_col_wise=true` to remove the overhead.\n",
      "[LightGBM] [Info] Total Bins 1530\n",
      "[LightGBM] [Info] Number of data points in the train set: 1989, number of used features: 6\n",
      "[LightGBM] [Info] Start training from score 1451.672700\n"
     ]
    },
    {
     "data": {
      "application/vnd.jupyter.widget-view+json": {
       "model_id": "aa21c1fd193644d6a8d18bea9e59f2ba",
       "version_major": 2,
       "version_minor": 0
      },
      "text/plain": [
       "lags grid:   0%|          | 0/3 [00:00<?, ?it/s]"
      ]
     },
     "metadata": {},
     "output_type": "display_data"
    },
    {
     "data": {
      "application/vnd.jupyter.widget-view+json": {
       "model_id": "713e9c0bc42c4a38b09c79416442a90f",
       "version_major": 2,
       "version_minor": 0
      },
      "text/plain": [
       "params grid:   0%|          | 0/10 [00:00<?, ?it/s]"
      ]
     },
     "metadata": {},
     "output_type": "display_data"
    },
    {
     "name": "stdout",
     "output_type": "stream",
     "text": [
      "`Forecaster` refitted using the best-found lags and parameters, and the whole data set: \n",
      "  Lags: [ 1  2  3  4  5  6  7  8  9 10 11 12 13 14 15 16 17 18 19 20] \n",
      "  Parameters: {'alpha': 46.41588833612782}\n",
      "  Backtesting metric: 21760.855414582475\n",
      "('Finland', 'Stickers for Less', 'Kaggle')\n",
      "Test error (RMSE): 206.51\n",
      "Test error (MAPE): 14.06%\n",
      "[LightGBM] [Info] Auto-choosing col-wise multi-threading, the overhead of testing was 0.000190 seconds.\n",
      "You can set `force_col_wise=true` to remove the overhead.\n",
      "[LightGBM] [Info] Total Bins 1530\n",
      "[LightGBM] [Info] Number of data points in the train set: 1989, number of used features: 6\n",
      "[LightGBM] [Info] Start training from score 1190.257919\n"
     ]
    },
    {
     "data": {
      "application/vnd.jupyter.widget-view+json": {
       "model_id": "5d8dea75b8c54b98b2eca449ef8f8511",
       "version_major": 2,
       "version_minor": 0
      },
      "text/plain": [
       "lags grid:   0%|          | 0/3 [00:00<?, ?it/s]"
      ]
     },
     "metadata": {},
     "output_type": "display_data"
    },
    {
     "data": {
      "application/vnd.jupyter.widget-view+json": {
       "model_id": "c8b713312eeb4a6e97a520204e83cb9e",
       "version_major": 2,
       "version_minor": 0
      },
      "text/plain": [
       "params grid:   0%|          | 0/10 [00:00<?, ?it/s]"
      ]
     },
     "metadata": {},
     "output_type": "display_data"
    },
    {
     "name": "stdout",
     "output_type": "stream",
     "text": [
      "`Forecaster` refitted using the best-found lags and parameters, and the whole data set: \n",
      "  Lags: [ 1  2  3  4  5  6  7  8  9 10 11 12 13 14 15 16 17 18 19 20] \n",
      "  Parameters: {'alpha': 46.41588833612782}\n",
      "  Backtesting metric: 14238.410073537763\n",
      "('Finland', 'Stickers for Less', 'Kaggle Tiers')\n",
      "Test error (RMSE): 173.45\n",
      "Test error (MAPE): 13.23%\n",
      "[LightGBM] [Info] Auto-choosing col-wise multi-threading, the overhead of testing was 0.000121 seconds.\n",
      "You can set `force_col_wise=true` to remove the overhead.\n",
      "[LightGBM] [Info] Total Bins 1530\n",
      "[LightGBM] [Info] Number of data points in the train set: 1989, number of used features: 6\n",
      "[LightGBM] [Info] Start training from score 646.793866\n"
     ]
    },
    {
     "data": {
      "application/vnd.jupyter.widget-view+json": {
       "model_id": "3c7e7f31f7d546fe8d8fa475a04541fd",
       "version_major": 2,
       "version_minor": 0
      },
      "text/plain": [
       "lags grid:   0%|          | 0/3 [00:00<?, ?it/s]"
      ]
     },
     "metadata": {},
     "output_type": "display_data"
    },
    {
     "data": {
      "application/vnd.jupyter.widget-view+json": {
       "model_id": "f60131dd0e974c67aff60192e0cbbb6d",
       "version_major": 2,
       "version_minor": 0
      },
      "text/plain": [
       "params grid:   0%|          | 0/10 [00:00<?, ?it/s]"
      ]
     },
     "metadata": {},
     "output_type": "display_data"
    },
    {
     "name": "stdout",
     "output_type": "stream",
     "text": [
      "`Forecaster` refitted using the best-found lags and parameters, and the whole data set: \n",
      "  Lags: [ 1  2  3  4  5  6  7  8  9 10 11 12 13 14 15 16 17 18 19 20] \n",
      "  Parameters: {'alpha': 46.41588833612782}\n",
      "  Backtesting metric: 5774.6267742456\n",
      "('Finland', 'Stickers for Less', 'Kerneler')\n",
      "Test error (RMSE): 87.98\n",
      "Test error (MAPE): 12.18%\n",
      "[LightGBM] [Info] Auto-choosing col-wise multi-threading, the overhead of testing was 0.000292 seconds.\n",
      "You can set `force_col_wise=true` to remove the overhead.\n",
      "[LightGBM] [Info] Total Bins 1530\n",
      "[LightGBM] [Info] Number of data points in the train set: 1989, number of used features: 6\n",
      "[LightGBM] [Info] Start training from score 772.582202\n"
     ]
    },
    {
     "data": {
      "application/vnd.jupyter.widget-view+json": {
       "model_id": "5f61bc6dec3f4370849908491ecfe89a",
       "version_major": 2,
       "version_minor": 0
      },
      "text/plain": [
       "lags grid:   0%|          | 0/3 [00:00<?, ?it/s]"
      ]
     },
     "metadata": {},
     "output_type": "display_data"
    },
    {
     "data": {
      "application/vnd.jupyter.widget-view+json": {
       "model_id": "acb743429b3749f59f9afde183b95448",
       "version_major": 2,
       "version_minor": 0
      },
      "text/plain": [
       "params grid:   0%|          | 0/10 [00:00<?, ?it/s]"
      ]
     },
     "metadata": {},
     "output_type": "display_data"
    },
    {
     "name": "stdout",
     "output_type": "stream",
     "text": [
      "`Forecaster` refitted using the best-found lags and parameters, and the whole data set: \n",
      "  Lags: [ 1  2  3  4  5  6  7  8  9 10 11 12 13 14 15 16 17 18 19 20] \n",
      "  Parameters: {'alpha': 46.41588833612782}\n",
      "  Backtesting metric: 8007.403829835109\n",
      "('Finland', 'Stickers for Less', 'Kerneler Dark Mode')\n",
      "Test error (RMSE): 118.38\n",
      "Test error (MAPE): 16.32%\n",
      "[LightGBM] [Info] Auto-choosing col-wise multi-threading, the overhead of testing was 0.000083 seconds.\n",
      "You can set `force_col_wise=true` to remove the overhead.\n",
      "[LightGBM] [Info] Total Bins 375\n",
      "[LightGBM] [Info] Number of data points in the train set: 1989, number of used features: 6\n",
      "[LightGBM] [Info] Start training from score 72.616390\n"
     ]
    },
    {
     "data": {
      "application/vnd.jupyter.widget-view+json": {
       "model_id": "d82dcef103d14c2d8c82968df16e99ec",
       "version_major": 2,
       "version_minor": 0
      },
      "text/plain": [
       "lags grid:   0%|          | 0/3 [00:00<?, ?it/s]"
      ]
     },
     "metadata": {},
     "output_type": "display_data"
    },
    {
     "data": {
      "application/vnd.jupyter.widget-view+json": {
       "model_id": "d6b5bcc1358845c3a152d91942322b12",
       "version_major": 2,
       "version_minor": 0
      },
      "text/plain": [
       "params grid:   0%|          | 0/10 [00:00<?, ?it/s]"
      ]
     },
     "metadata": {},
     "output_type": "display_data"
    },
    {
     "name": "stdout",
     "output_type": "stream",
     "text": [
      "`Forecaster` refitted using the best-found lags and parameters, and the whole data set: \n",
      "  Lags: [ 1  2  3  4  5  6  7  8  9 10 11 12 13 14 15 16 17 18 19 20] \n",
      "  Parameters: {'alpha': 46.41588833612782}\n",
      "  Backtesting metric: 61.97065272087726\n",
      "('Italy', 'Discount Stickers', 'Holographic Goose')\n",
      "Test error (RMSE): 10.94\n",
      "Test error (MAPE): 15.55%\n",
      "[LightGBM] [Info] Auto-choosing col-wise multi-threading, the overhead of testing was 0.000173 seconds.\n",
      "You can set `force_col_wise=true` to remove the overhead.\n",
      "[LightGBM] [Info] Total Bins 1512\n",
      "[LightGBM] [Info] Number of data points in the train set: 1989, number of used features: 6\n",
      "[LightGBM] [Info] Start training from score 523.190045\n"
     ]
    },
    {
     "data": {
      "application/vnd.jupyter.widget-view+json": {
       "model_id": "f1c001c3b24e48c1b2d3385ce5bd46c2",
       "version_major": 2,
       "version_minor": 0
      },
      "text/plain": [
       "lags grid:   0%|          | 0/3 [00:00<?, ?it/s]"
      ]
     },
     "metadata": {},
     "output_type": "display_data"
    },
    {
     "data": {
      "application/vnd.jupyter.widget-view+json": {
       "model_id": "1cf471be02f24a75a82267d7fff9acbf",
       "version_major": 2,
       "version_minor": 0
      },
      "text/plain": [
       "params grid:   0%|          | 0/10 [00:00<?, ?it/s]"
      ]
     },
     "metadata": {},
     "output_type": "display_data"
    },
    {
     "name": "stdout",
     "output_type": "stream",
     "text": [
      "`Forecaster` refitted using the best-found lags and parameters, and the whole data set: \n",
      "  Lags: [ 1  2  3  4  5  6  7  8  9 10 11 12 13 14 15 16 17 18 19 20] \n",
      "  Parameters: {'alpha': 46.41588833612782}\n",
      "  Backtesting metric: 2121.459281483851\n",
      "('Italy', 'Discount Stickers', 'Kaggle')\n",
      "Test error (RMSE): 86.22\n",
      "Test error (MAPE): 16.85%\n",
      "[LightGBM] [Info] Auto-choosing col-wise multi-threading, the overhead of testing was 0.000096 seconds.\n",
      "You can set `force_col_wise=true` to remove the overhead.\n",
      "[LightGBM] [Info] Total Bins 1486\n",
      "[LightGBM] [Info] Number of data points in the train set: 1989, number of used features: 6\n",
      "[LightGBM] [Info] Start training from score 430.483660\n"
     ]
    },
    {
     "data": {
      "application/vnd.jupyter.widget-view+json": {
       "model_id": "4c671277b07f41feae4c0ff35a37c5f7",
       "version_major": 2,
       "version_minor": 0
      },
      "text/plain": [
       "lags grid:   0%|          | 0/3 [00:00<?, ?it/s]"
      ]
     },
     "metadata": {},
     "output_type": "display_data"
    },
    {
     "data": {
      "application/vnd.jupyter.widget-view+json": {
       "model_id": "4f1bdc8357c5454c9b4741f92f1dc108",
       "version_major": 2,
       "version_minor": 0
      },
      "text/plain": [
       "params grid:   0%|          | 0/10 [00:00<?, ?it/s]"
      ]
     },
     "metadata": {},
     "output_type": "display_data"
    },
    {
     "name": "stdout",
     "output_type": "stream",
     "text": [
      "`Forecaster` refitted using the best-found lags and parameters, and the whole data set: \n",
      "  Lags: [ 1  2  3  4  5  6  7  8  9 10 11 12 13 14 15 16 17 18 19 20] \n",
      "  Parameters: {'alpha': 46.41588833612782}\n",
      "  Backtesting metric: 1542.3115949282924\n",
      "('Italy', 'Discount Stickers', 'Kaggle Tiers')\n",
      "Test error (RMSE): 67.05\n",
      "Test error (MAPE): 15.13%\n",
      "[LightGBM] [Info] Auto-choosing col-wise multi-threading, the overhead of testing was 0.000128 seconds.\n",
      "You can set `force_col_wise=true` to remove the overhead.\n",
      "[LightGBM] [Info] Total Bins 1051\n",
      "[LightGBM] [Info] Number of data points in the train set: 1989, number of used features: 6\n",
      "[LightGBM] [Info] Start training from score 233.510307\n"
     ]
    },
    {
     "data": {
      "application/vnd.jupyter.widget-view+json": {
       "model_id": "152c51ce5dee4a62816318d812854aff",
       "version_major": 2,
       "version_minor": 0
      },
      "text/plain": [
       "lags grid:   0%|          | 0/3 [00:00<?, ?it/s]"
      ]
     },
     "metadata": {},
     "output_type": "display_data"
    },
    {
     "data": {
      "application/vnd.jupyter.widget-view+json": {
       "model_id": "36d57db203fb4890900e4d233176750f",
       "version_major": 2,
       "version_minor": 0
      },
      "text/plain": [
       "params grid:   0%|          | 0/10 [00:00<?, ?it/s]"
      ]
     },
     "metadata": {},
     "output_type": "display_data"
    },
    {
     "name": "stdout",
     "output_type": "stream",
     "text": [
      "`Forecaster` refitted using the best-found lags and parameters, and the whole data set: \n",
      "  Lags: [ 1  2  3  4  5  6  7  8  9 10 11 12 13 14 15 16 17 18 19 20] \n",
      "  Parameters: {'alpha': 46.41588833612782}\n",
      "  Backtesting metric: 685.9193375466272\n",
      "('Italy', 'Discount Stickers', 'Kerneler')\n",
      "Test error (RMSE): 35.9\n",
      "Test error (MAPE): 14.25%\n",
      "[LightGBM] [Info] Auto-choosing col-wise multi-threading, the overhead of testing was 0.000253 seconds.\n",
      "You can set `force_col_wise=true` to remove the overhead.\n",
      "[LightGBM] [Info] Total Bins 1245\n",
      "[LightGBM] [Info] Number of data points in the train set: 1989, number of used features: 6\n",
      "[LightGBM] [Info] Start training from score 278.106586\n"
     ]
    },
    {
     "data": {
      "application/vnd.jupyter.widget-view+json": {
       "model_id": "20c9f4a328114e5cab92ed1e041367c0",
       "version_major": 2,
       "version_minor": 0
      },
      "text/plain": [
       "lags grid:   0%|          | 0/3 [00:00<?, ?it/s]"
      ]
     },
     "metadata": {},
     "output_type": "display_data"
    },
    {
     "data": {
      "application/vnd.jupyter.widget-view+json": {
       "model_id": "7d1b7ed04f514e949c5b00c5e7cbb0cf",
       "version_major": 2,
       "version_minor": 0
      },
      "text/plain": [
       "params grid:   0%|          | 0/10 [00:00<?, ?it/s]"
      ]
     },
     "metadata": {},
     "output_type": "display_data"
    },
    {
     "name": "stdout",
     "output_type": "stream",
     "text": [
      "`Forecaster` refitted using the best-found lags and parameters, and the whole data set: \n",
      "  Lags: [ 1  2  3  4  5  6  7  8  9 10 11 12 13 14 15 16 17 18 19 20] \n",
      "  Parameters: {'alpha': 46.41588833612782}\n",
      "  Backtesting metric: 966.7574920239009\n",
      "('Italy', 'Discount Stickers', 'Kerneler Dark Mode')\n",
      "Test error (RMSE): 59.47\n",
      "Test error (MAPE): 24.14%\n",
      "[LightGBM] [Info] Auto-choosing col-wise multi-threading, the overhead of testing was 0.000175 seconds.\n",
      "You can set `force_col_wise=true` to remove the overhead.\n",
      "[LightGBM] [Info] Total Bins 763\n",
      "[LightGBM] [Info] Number of data points in the train set: 1989, number of used features: 6\n",
      "[LightGBM] [Info] Start training from score 174.665661\n"
     ]
    },
    {
     "data": {
      "application/vnd.jupyter.widget-view+json": {
       "model_id": "173ae28c5d4843eebcf07c8b9c36649b",
       "version_major": 2,
       "version_minor": 0
      },
      "text/plain": [
       "lags grid:   0%|          | 0/3 [00:00<?, ?it/s]"
      ]
     },
     "metadata": {},
     "output_type": "display_data"
    },
    {
     "data": {
      "application/vnd.jupyter.widget-view+json": {
       "model_id": "3ae0bfa7e7394d2f8095d7d48efbcf79",
       "version_major": 2,
       "version_minor": 0
      },
      "text/plain": [
       "params grid:   0%|          | 0/10 [00:00<?, ?it/s]"
      ]
     },
     "metadata": {},
     "output_type": "display_data"
    },
    {
     "name": "stdout",
     "output_type": "stream",
     "text": [
      "`Forecaster` refitted using the best-found lags and parameters, and the whole data set: \n",
      "  Lags: [ 1  2  3  4  5  6  7  8  9 10 11 12 13 14 15 16 17 18 19 20] \n",
      "  Parameters: {'alpha': 46.41588833612782}\n",
      "  Backtesting metric: 381.54102922156943\n",
      "('Italy', 'Premium Sticker Mart', 'Holographic Goose')\n",
      "Test error (RMSE): 27.56\n",
      "Test error (MAPE): 15.95%\n",
      "[LightGBM] [Info] Auto-choosing col-wise multi-threading, the overhead of testing was 0.000125 seconds.\n",
      "You can set `force_col_wise=true` to remove the overhead.\n",
      "[LightGBM] [Info] Total Bins 1530\n",
      "[LightGBM] [Info] Number of data points in the train set: 1989, number of used features: 6\n",
      "[LightGBM] [Info] Start training from score 1251.325289\n"
     ]
    },
    {
     "data": {
      "application/vnd.jupyter.widget-view+json": {
       "model_id": "ca11cfd8bb3e4b0e9acbbaffa516566e",
       "version_major": 2,
       "version_minor": 0
      },
      "text/plain": [
       "lags grid:   0%|          | 0/3 [00:00<?, ?it/s]"
      ]
     },
     "metadata": {},
     "output_type": "display_data"
    },
    {
     "data": {
      "application/vnd.jupyter.widget-view+json": {
       "model_id": "89e3200c17e444238848a6eb927a0586",
       "version_major": 2,
       "version_minor": 0
      },
      "text/plain": [
       "params grid:   0%|          | 0/10 [00:00<?, ?it/s]"
      ]
     },
     "metadata": {},
     "output_type": "display_data"
    },
    {
     "name": "stdout",
     "output_type": "stream",
     "text": [
      "`Forecaster` refitted using the best-found lags and parameters, and the whole data set: \n",
      "  Lags: [ 1  2  3  4  5  6  7  8  9 10 11 12 13 14 15 16 17 18 19 20] \n",
      "  Parameters: {'alpha': 46.41588833612782}\n",
      "  Backtesting metric: 12046.611527594294\n",
      "('Italy', 'Premium Sticker Mart', 'Kaggle')\n",
      "Test error (RMSE): 210.54\n",
      "Test error (MAPE): 17.28%\n",
      "[LightGBM] [Info] Auto-choosing col-wise multi-threading, the overhead of testing was 0.000147 seconds.\n",
      "You can set `force_col_wise=true` to remove the overhead.\n",
      "[LightGBM] [Info] Total Bins 1530\n",
      "[LightGBM] [Info] Number of data points in the train set: 1989, number of used features: 6\n",
      "[LightGBM] [Info] Start training from score 1028.998492\n"
     ]
    },
    {
     "data": {
      "application/vnd.jupyter.widget-view+json": {
       "model_id": "660eba75c5ee4b1c95bbd3afe4f177f4",
       "version_major": 2,
       "version_minor": 0
      },
      "text/plain": [
       "lags grid:   0%|          | 0/3 [00:00<?, ?it/s]"
      ]
     },
     "metadata": {},
     "output_type": "display_data"
    },
    {
     "data": {
      "application/vnd.jupyter.widget-view+json": {
       "model_id": "b29418fb9eaa4e27ab75e629a8186180",
       "version_major": 2,
       "version_minor": 0
      },
      "text/plain": [
       "params grid:   0%|          | 0/10 [00:00<?, ?it/s]"
      ]
     },
     "metadata": {},
     "output_type": "display_data"
    },
    {
     "name": "stdout",
     "output_type": "stream",
     "text": [
      "`Forecaster` refitted using the best-found lags and parameters, and the whole data set: \n",
      "  Lags: [ 1  2  3  4  5  6  7  8  9 10 11 12 13 14 15 16 17 18 19 20] \n",
      "  Parameters: {'alpha': 3.593813663804626}\n",
      "  Backtesting metric: 9338.733047654341\n",
      "('Italy', 'Premium Sticker Mart', 'Kaggle Tiers')\n",
      "Test error (RMSE): 165.35\n",
      "Test error (MAPE): 15.49%\n",
      "[LightGBM] [Info] Auto-choosing col-wise multi-threading, the overhead of testing was 0.000152 seconds.\n",
      "You can set `force_col_wise=true` to remove the overhead.\n",
      "[LightGBM] [Info] Total Bins 1530\n",
      "[LightGBM] [Info] Number of data points in the train set: 1989, number of used features: 6\n",
      "[LightGBM] [Info] Start training from score 558.840121\n"
     ]
    },
    {
     "data": {
      "application/vnd.jupyter.widget-view+json": {
       "model_id": "4323e922d9d141e1a3f98d0cf1b19a5a",
       "version_major": 2,
       "version_minor": 0
      },
      "text/plain": [
       "lags grid:   0%|          | 0/3 [00:00<?, ?it/s]"
      ]
     },
     "metadata": {},
     "output_type": "display_data"
    },
    {
     "data": {
      "application/vnd.jupyter.widget-view+json": {
       "model_id": "b2508acf55204ec28e0f8167bd867070",
       "version_major": 2,
       "version_minor": 0
      },
      "text/plain": [
       "params grid:   0%|          | 0/10 [00:00<?, ?it/s]"
      ]
     },
     "metadata": {},
     "output_type": "display_data"
    },
    {
     "name": "stdout",
     "output_type": "stream",
     "text": [
      "`Forecaster` refitted using the best-found lags and parameters, and the whole data set: \n",
      "  Lags: [ 1  2  3  4  5  6  7  8  9 10 11 12 13 14 15 16 17 18 19 20] \n",
      "  Parameters: {'alpha': 46.41588833612782}\n",
      "  Backtesting metric: 3594.0697101979003\n",
      "('Italy', 'Premium Sticker Mart', 'Kerneler')\n",
      "Test error (RMSE): 84.05\n",
      "Test error (MAPE): 14.05%\n",
      "[LightGBM] [Info] Auto-choosing col-wise multi-threading, the overhead of testing was 0.000108 seconds.\n",
      "You can set `force_col_wise=true` to remove the overhead.\n",
      "[LightGBM] [Info] Total Bins 1530\n",
      "[LightGBM] [Info] Number of data points in the train set: 1989, number of used features: 6\n",
      "[LightGBM] [Info] Start training from score 666.510809\n"
     ]
    },
    {
     "data": {
      "application/vnd.jupyter.widget-view+json": {
       "model_id": "72739d505c5a40bb9b3e53c409750091",
       "version_major": 2,
       "version_minor": 0
      },
      "text/plain": [
       "lags grid:   0%|          | 0/3 [00:00<?, ?it/s]"
      ]
     },
     "metadata": {},
     "output_type": "display_data"
    },
    {
     "data": {
      "application/vnd.jupyter.widget-view+json": {
       "model_id": "2ba43dae22c84c9389b5f98147dd8c35",
       "version_major": 2,
       "version_minor": 0
      },
      "text/plain": [
       "params grid:   0%|          | 0/10 [00:00<?, ?it/s]"
      ]
     },
     "metadata": {},
     "output_type": "display_data"
    },
    {
     "name": "stdout",
     "output_type": "stream",
     "text": [
      "`Forecaster` refitted using the best-found lags and parameters, and the whole data set: \n",
      "  Lags: [ 1  2  3  4  5  6  7  8  9 10 11 12 13 14 15 16 17 18 19 20] \n",
      "  Parameters: {'alpha': 46.41588833612782}\n",
      "  Backtesting metric: 5097.137438349971\n",
      "('Italy', 'Premium Sticker Mart', 'Kerneler Dark Mode')\n",
      "Test error (RMSE): 115.65\n",
      "Test error (MAPE): 19.1%\n",
      "[LightGBM] [Info] Auto-choosing col-wise multi-threading, the overhead of testing was 0.000093 seconds.\n",
      "You can set `force_col_wise=true` to remove the overhead.\n",
      "[LightGBM] [Info] Total Bins 655\n",
      "[LightGBM] [Info] Number of data points in the train set: 1989, number of used features: 6\n",
      "[LightGBM] [Info] Start training from score 147.456008\n"
     ]
    },
    {
     "data": {
      "application/vnd.jupyter.widget-view+json": {
       "model_id": "dd30cb7f3491441ea12ff440905c5fba",
       "version_major": 2,
       "version_minor": 0
      },
      "text/plain": [
       "lags grid:   0%|          | 0/3 [00:00<?, ?it/s]"
      ]
     },
     "metadata": {},
     "output_type": "display_data"
    },
    {
     "data": {
      "application/vnd.jupyter.widget-view+json": {
       "model_id": "1ec6c11a30fe4222b19bbc8fe9886da4",
       "version_major": 2,
       "version_minor": 0
      },
      "text/plain": [
       "params grid:   0%|          | 0/10 [00:00<?, ?it/s]"
      ]
     },
     "metadata": {},
     "output_type": "display_data"
    },
    {
     "name": "stdout",
     "output_type": "stream",
     "text": [
      "`Forecaster` refitted using the best-found lags and parameters, and the whole data set: \n",
      "  Lags: [ 1  2  3  4  5  6  7  8  9 10 11 12 13 14 15 16 17 18 19 20] \n",
      "  Parameters: {'alpha': 46.41588833612782}\n",
      "  Backtesting metric: 235.44979920108872\n",
      "('Italy', 'Stickers for Less', 'Holographic Goose')\n",
      "Test error (RMSE): 21.78\n",
      "Test error (MAPE): 15.09%\n",
      "[LightGBM] [Info] Auto-choosing col-wise multi-threading, the overhead of testing was 0.000087 seconds.\n",
      "You can set `force_col_wise=true` to remove the overhead.\n",
      "[LightGBM] [Info] Total Bins 1530\n",
      "[LightGBM] [Info] Number of data points in the train set: 1989, number of used features: 6\n",
      "[LightGBM] [Info] Start training from score 1058.221719\n"
     ]
    },
    {
     "data": {
      "application/vnd.jupyter.widget-view+json": {
       "model_id": "5fb774c17ff44f0e8cb38cdbe6b44893",
       "version_major": 2,
       "version_minor": 0
      },
      "text/plain": [
       "lags grid:   0%|          | 0/3 [00:00<?, ?it/s]"
      ]
     },
     "metadata": {},
     "output_type": "display_data"
    },
    {
     "data": {
      "application/vnd.jupyter.widget-view+json": {
       "model_id": "6a81158ebaae41c288c68954eb402826",
       "version_major": 2,
       "version_minor": 0
      },
      "text/plain": [
       "params grid:   0%|          | 0/10 [00:00<?, ?it/s]"
      ]
     },
     "metadata": {},
     "output_type": "display_data"
    },
    {
     "name": "stdout",
     "output_type": "stream",
     "text": [
      "`Forecaster` refitted using the best-found lags and parameters, and the whole data set: \n",
      "  Lags: [ 1  2  3  4  5  6  7  8  9 10 11 12 13 14 15 16 17 18 19 20] \n",
      "  Parameters: {'alpha': 46.41588833612782}\n",
      "  Backtesting metric: 8232.673893802938\n",
      "('Italy', 'Stickers for Less', 'Kaggle')\n",
      "Test error (RMSE): 169.95\n",
      "Test error (MAPE): 16.84%\n",
      "[LightGBM] [Info] Auto-choosing col-wise multi-threading, the overhead of testing was 0.000172 seconds.\n",
      "You can set `force_col_wise=true` to remove the overhead.\n",
      "[LightGBM] [Info] Total Bins 1530\n",
      "[LightGBM] [Info] Number of data points in the train set: 1989, number of used features: 6\n",
      "[LightGBM] [Info] Start training from score 870.520362\n"
     ]
    },
    {
     "data": {
      "application/vnd.jupyter.widget-view+json": {
       "model_id": "b526c4c3e4414516bb55a8e465301cb4",
       "version_major": 2,
       "version_minor": 0
      },
      "text/plain": [
       "lags grid:   0%|          | 0/3 [00:00<?, ?it/s]"
      ]
     },
     "metadata": {},
     "output_type": "display_data"
    },
    {
     "data": {
      "application/vnd.jupyter.widget-view+json": {
       "model_id": "a1dcf6f128074183ba0455983feb7176",
       "version_major": 2,
       "version_minor": 0
      },
      "text/plain": [
       "params grid:   0%|          | 0/10 [00:00<?, ?it/s]"
      ]
     },
     "metadata": {},
     "output_type": "display_data"
    },
    {
     "name": "stdout",
     "output_type": "stream",
     "text": [
      "`Forecaster` refitted using the best-found lags and parameters, and the whole data set: \n",
      "  Lags: [ 1  2  3  4  5  6  7  8  9 10 11 12 13 14 15 16 17 18 19 20] \n",
      "  Parameters: {'alpha': 3.593813663804626}\n",
      "  Backtesting metric: 6598.030493647289\n",
      "('Italy', 'Stickers for Less', 'Kaggle Tiers')\n",
      "Test error (RMSE): 144.69\n",
      "Test error (MAPE): 16.15%\n",
      "[LightGBM] [Info] Auto-choosing col-wise multi-threading, the overhead of testing was 0.000164 seconds.\n",
      "You can set `force_col_wise=true` to remove the overhead.\n",
      "[LightGBM] [Info] Total Bins 1530\n",
      "[LightGBM] [Info] Number of data points in the train set: 1989, number of used features: 6\n",
      "[LightGBM] [Info] Start training from score 472.983409\n"
     ]
    },
    {
     "data": {
      "application/vnd.jupyter.widget-view+json": {
       "model_id": "8b1ae2ef221e4595aaad55de247b5746",
       "version_major": 2,
       "version_minor": 0
      },
      "text/plain": [
       "lags grid:   0%|          | 0/3 [00:00<?, ?it/s]"
      ]
     },
     "metadata": {},
     "output_type": "display_data"
    },
    {
     "data": {
      "application/vnd.jupyter.widget-view+json": {
       "model_id": "f82cd820ffc24cf886f232cb5afe43f0",
       "version_major": 2,
       "version_minor": 0
      },
      "text/plain": [
       "params grid:   0%|          | 0/10 [00:00<?, ?it/s]"
      ]
     },
     "metadata": {},
     "output_type": "display_data"
    },
    {
     "name": "stdout",
     "output_type": "stream",
     "text": [
      "`Forecaster` refitted using the best-found lags and parameters, and the whole data set: \n",
      "  Lags: [ 1  2  3  4  5  6  7  8  9 10 11 12 13 14 15 16 17 18 19 20] \n",
      "  Parameters: {'alpha': 46.41588833612782}\n",
      "  Backtesting metric: 2561.9566781840713\n",
      "('Italy', 'Stickers for Less', 'Kerneler')\n",
      "Test error (RMSE): 77.87\n",
      "Test error (MAPE): 15.15%\n",
      "[LightGBM] [Info] Auto-choosing col-wise multi-threading, the overhead of testing was 0.000173 seconds.\n",
      "You can set `force_col_wise=true` to remove the overhead.\n",
      "[LightGBM] [Info] Total Bins 1530\n",
      "[LightGBM] [Info] Number of data points in the train set: 1989, number of used features: 6\n",
      "[LightGBM] [Info] Start training from score 563.155857\n"
     ]
    },
    {
     "data": {
      "application/vnd.jupyter.widget-view+json": {
       "model_id": "82f93f6565114e85937e1d9660e1d04b",
       "version_major": 2,
       "version_minor": 0
      },
      "text/plain": [
       "lags grid:   0%|          | 0/3 [00:00<?, ?it/s]"
      ]
     },
     "metadata": {},
     "output_type": "display_data"
    },
    {
     "data": {
      "application/vnd.jupyter.widget-view+json": {
       "model_id": "e5b748ac360a41ca98bc8a8e6c87710e",
       "version_major": 2,
       "version_minor": 0
      },
      "text/plain": [
       "params grid:   0%|          | 0/10 [00:00<?, ?it/s]"
      ]
     },
     "metadata": {},
     "output_type": "display_data"
    },
    {
     "name": "stdout",
     "output_type": "stream",
     "text": [
      "`Forecaster` refitted using the best-found lags and parameters, and the whole data set: \n",
      "  Lags: [ 1  2  3  4  5  6  7  8  9 10 11 12 13 14 15 16 17 18 19 20] \n",
      "  Parameters: {'alpha': 46.41588833612782}\n",
      "  Backtesting metric: 3494.8119750868277\n",
      "('Italy', 'Stickers for Less', 'Kerneler Dark Mode')\n",
      "Test error (RMSE): 105.79\n",
      "Test error (MAPE): 20.82%\n",
      "[LightGBM] [Warning] There are no meaningful features which satisfy the provided configuration. Decreasing Dataset parameters min_data_in_bin or min_data_in_leaf and re-constructing Dataset might resolve this warning.\n",
      "[LightGBM] [Info] Total Bins 0\n",
      "[LightGBM] [Info] Number of data points in the train set: 1989, number of used features: 0\n",
      "[LightGBM] [Warning] Stopped training because there are no more leaves that meet the split requirements\n",
      "[LightGBM] [Warning] Stopped training because there are no more leaves that meet the split requirements\n",
      "[LightGBM] [Warning] Stopped training because there are no more leaves that meet the split requirements\n",
      "[LightGBM] [Warning] Stopped training because there are no more leaves that meet the split requirements\n",
      "[LightGBM] [Warning] Stopped training because there are no more leaves that meet the split requirements\n",
      "[LightGBM] [Warning] Stopped training because there are no more leaves that meet the split requirements\n",
      "[LightGBM] [Warning] Stopped training because there are no more leaves that meet the split requirements\n",
      "[LightGBM] [Warning] Stopped training because there are no more leaves that meet the split requirements\n",
      "[LightGBM] [Warning] Stopped training because there are no more leaves that meet the split requirements\n",
      "[LightGBM] [Warning] Stopped training because there are no more leaves that meet the split requirements\n",
      "[LightGBM] [Warning] Stopped training because there are no more leaves that meet the split requirements\n",
      "[LightGBM] [Warning] Stopped training because there are no more leaves that meet the split requirements\n",
      "[LightGBM] [Warning] Stopped training because there are no more leaves that meet the split requirements\n",
      "[LightGBM] [Warning] Stopped training because there are no more leaves that meet the split requirements\n",
      "[LightGBM] [Warning] Stopped training because there are no more leaves that meet the split requirements\n",
      "[LightGBM] [Warning] Stopped training because there are no more leaves that meet the split requirements\n",
      "[LightGBM] [Warning] Stopped training because there are no more leaves that meet the split requirements\n",
      "[LightGBM] [Warning] Stopped training because there are no more leaves that meet the split requirements\n",
      "[LightGBM] [Warning] Stopped training because there are no more leaves that meet the split requirements\n",
      "[LightGBM] [Warning] Stopped training because there are no more leaves that meet the split requirements\n",
      "[LightGBM] [Warning] Stopped training because there are no more leaves that meet the split requirements\n",
      "[LightGBM] [Warning] Stopped training because there are no more leaves that meet the split requirements\n",
      "[LightGBM] [Warning] Stopped training because there are no more leaves that meet the split requirements\n",
      "[LightGBM] [Warning] Stopped training because there are no more leaves that meet the split requirements\n",
      "[LightGBM] [Warning] Stopped training because there are no more leaves that meet the split requirements\n",
      "[LightGBM] [Warning] Stopped training because there are no more leaves that meet the split requirements\n",
      "[LightGBM] [Warning] Stopped training because there are no more leaves that meet the split requirements\n",
      "[LightGBM] [Warning] Stopped training because there are no more leaves that meet the split requirements\n",
      "[LightGBM] [Warning] Stopped training because there are no more leaves that meet the split requirements\n",
      "[LightGBM] [Warning] Stopped training because there are no more leaves that meet the split requirements\n",
      "[LightGBM] [Warning] Stopped training because there are no more leaves that meet the split requirements\n",
      "[LightGBM] [Warning] Stopped training because there are no more leaves that meet the split requirements\n",
      "[LightGBM] [Warning] Stopped training because there are no more leaves that meet the split requirements\n",
      "[LightGBM] [Warning] Stopped training because there are no more leaves that meet the split requirements\n",
      "[LightGBM] [Warning] Stopped training because there are no more leaves that meet the split requirements\n",
      "[LightGBM] [Warning] Stopped training because there are no more leaves that meet the split requirements\n",
      "[LightGBM] [Warning] Stopped training because there are no more leaves that meet the split requirements\n",
      "[LightGBM] [Warning] Stopped training because there are no more leaves that meet the split requirements\n",
      "[LightGBM] [Warning] Stopped training because there are no more leaves that meet the split requirements\n",
      "[LightGBM] [Warning] Stopped training because there are no more leaves that meet the split requirements\n",
      "[LightGBM] [Warning] Stopped training because there are no more leaves that meet the split requirements\n",
      "[LightGBM] [Warning] Stopped training because there are no more leaves that meet the split requirements\n",
      "[LightGBM] [Warning] Stopped training because there are no more leaves that meet the split requirements\n",
      "[LightGBM] [Warning] Stopped training because there are no more leaves that meet the split requirements\n",
      "[LightGBM] [Warning] Stopped training because there are no more leaves that meet the split requirements\n",
      "[LightGBM] [Warning] Stopped training because there are no more leaves that meet the split requirements\n",
      "[LightGBM] [Warning] Stopped training because there are no more leaves that meet the split requirements\n",
      "[LightGBM] [Warning] Stopped training because there are no more leaves that meet the split requirements\n",
      "[LightGBM] [Warning] Stopped training because there are no more leaves that meet the split requirements\n",
      "[LightGBM] [Warning] Stopped training because there are no more leaves that meet the split requirements\n",
      "[LightGBM] [Warning] Stopped training because there are no more leaves that meet the split requirements\n",
      "[LightGBM] [Warning] Stopped training because there are no more leaves that meet the split requirements\n",
      "[LightGBM] [Warning] Stopped training because there are no more leaves that meet the split requirements\n",
      "[LightGBM] [Warning] Stopped training because there are no more leaves that meet the split requirements\n",
      "[LightGBM] [Warning] Stopped training because there are no more leaves that meet the split requirements\n",
      "[LightGBM] [Warning] Stopped training because there are no more leaves that meet the split requirements\n",
      "[LightGBM] [Warning] Stopped training because there are no more leaves that meet the split requirements\n",
      "[LightGBM] [Warning] Stopped training because there are no more leaves that meet the split requirements\n",
      "[LightGBM] [Warning] Stopped training because there are no more leaves that meet the split requirements\n",
      "[LightGBM] [Warning] Stopped training because there are no more leaves that meet the split requirements\n",
      "[LightGBM] [Warning] Stopped training because there are no more leaves that meet the split requirements\n",
      "[LightGBM] [Warning] Stopped training because there are no more leaves that meet the split requirements\n",
      "[LightGBM] [Warning] Stopped training because there are no more leaves that meet the split requirements\n",
      "[LightGBM] [Warning] Stopped training because there are no more leaves that meet the split requirements\n",
      "[LightGBM] [Warning] Stopped training because there are no more leaves that meet the split requirements\n",
      "[LightGBM] [Warning] Stopped training because there are no more leaves that meet the split requirements\n",
      "[LightGBM] [Warning] Stopped training because there are no more leaves that meet the split requirements\n",
      "[LightGBM] [Warning] Stopped training because there are no more leaves that meet the split requirements\n",
      "[LightGBM] [Warning] Stopped training because there are no more leaves that meet the split requirements\n",
      "[LightGBM] [Warning] Stopped training because there are no more leaves that meet the split requirements\n",
      "[LightGBM] [Warning] Stopped training because there are no more leaves that meet the split requirements\n",
      "[LightGBM] [Warning] Stopped training because there are no more leaves that meet the split requirements\n",
      "[LightGBM] [Warning] Stopped training because there are no more leaves that meet the split requirements\n",
      "[LightGBM] [Warning] Stopped training because there are no more leaves that meet the split requirements\n",
      "[LightGBM] [Warning] Stopped training because there are no more leaves that meet the split requirements\n",
      "[LightGBM] [Warning] Stopped training because there are no more leaves that meet the split requirements\n",
      "[LightGBM] [Warning] Stopped training because there are no more leaves that meet the split requirements\n",
      "[LightGBM] [Warning] Stopped training because there are no more leaves that meet the split requirements\n",
      "[LightGBM] [Warning] Stopped training because there are no more leaves that meet the split requirements\n",
      "[LightGBM] [Warning] Stopped training because there are no more leaves that meet the split requirements\n",
      "[LightGBM] [Warning] Stopped training because there are no more leaves that meet the split requirements\n",
      "[LightGBM] [Warning] Stopped training because there are no more leaves that meet the split requirements\n",
      "[LightGBM] [Warning] Stopped training because there are no more leaves that meet the split requirements\n",
      "[LightGBM] [Warning] Stopped training because there are no more leaves that meet the split requirements\n",
      "[LightGBM] [Warning] Stopped training because there are no more leaves that meet the split requirements\n",
      "[LightGBM] [Warning] Stopped training because there are no more leaves that meet the split requirements\n",
      "[LightGBM] [Warning] Stopped training because there are no more leaves that meet the split requirements\n",
      "[LightGBM] [Warning] Stopped training because there are no more leaves that meet the split requirements\n",
      "[LightGBM] [Warning] Stopped training because there are no more leaves that meet the split requirements\n",
      "[LightGBM] [Warning] Stopped training because there are no more leaves that meet the split requirements\n",
      "[LightGBM] [Warning] Stopped training because there are no more leaves that meet the split requirements\n",
      "[LightGBM] [Warning] Stopped training because there are no more leaves that meet the split requirements\n",
      "[LightGBM] [Warning] Stopped training because there are no more leaves that meet the split requirements\n",
      "[LightGBM] [Warning] Stopped training because there are no more leaves that meet the split requirements\n",
      "[LightGBM] [Warning] Stopped training because there are no more leaves that meet the split requirements\n",
      "[LightGBM] [Warning] Stopped training because there are no more leaves that meet the split requirements\n",
      "[LightGBM] [Warning] Stopped training because there are no more leaves that meet the split requirements\n",
      "[LightGBM] [Warning] Stopped training because there are no more leaves that meet the split requirements\n",
      "[LightGBM] [Warning] Stopped training because there are no more leaves that meet the split requirements\n",
      "[LightGBM] [Warning] Stopped training because there are no more leaves that meet the split requirements\n"
     ]
    },
    {
     "data": {
      "application/vnd.jupyter.widget-view+json": {
       "model_id": "06bb0a96f20347af8691602f39da7d92",
       "version_major": 2,
       "version_minor": 0
      },
      "text/plain": [
       "lags grid:   0%|          | 0/3 [00:00<?, ?it/s]"
      ]
     },
     "metadata": {},
     "output_type": "display_data"
    },
    {
     "data": {
      "application/vnd.jupyter.widget-view+json": {
       "model_id": "82b0f4c0f57a4cdfb3855aea4209e0d3",
       "version_major": 2,
       "version_minor": 0
      },
      "text/plain": [
       "params grid:   0%|          | 0/10 [00:00<?, ?it/s]"
      ]
     },
     "metadata": {},
     "output_type": "display_data"
    },
    {
     "name": "stdout",
     "output_type": "stream",
     "text": [
      "`Forecaster` refitted using the best-found lags and parameters, and the whole data set: \n",
      "  Lags: [1 2 3 4 5] \n",
      "  Parameters: {'alpha': 1e-05}\n",
      "  Backtesting metric: 0.0\n",
      "('Kenya', 'Discount Stickers', 'Holographic Goose')\n",
      "Test error (RMSE): 0.0\n",
      "Test error (MAPE): 0.0%\n",
      "[LightGBM] [Info] Auto-choosing col-wise multi-threading, the overhead of testing was 0.000071 seconds.\n",
      "You can set `force_col_wise=true` to remove the overhead.\n",
      "[LightGBM] [Info] Total Bins 108\n",
      "[LightGBM] [Info] Number of data points in the train set: 1989, number of used features: 6\n",
      "[LightGBM] [Info] Start training from score 16.239819\n"
     ]
    },
    {
     "data": {
      "application/vnd.jupyter.widget-view+json": {
       "model_id": "800939b11b944a7ab35fd34fea260f21",
       "version_major": 2,
       "version_minor": 0
      },
      "text/plain": [
       "lags grid:   0%|          | 0/3 [00:00<?, ?it/s]"
      ]
     },
     "metadata": {},
     "output_type": "display_data"
    },
    {
     "data": {
      "application/vnd.jupyter.widget-view+json": {
       "model_id": "ba858681582b4ea58e1d554001ddb636",
       "version_major": 2,
       "version_minor": 0
      },
      "text/plain": [
       "params grid:   0%|          | 0/10 [00:00<?, ?it/s]"
      ]
     },
     "metadata": {},
     "output_type": "display_data"
    },
    {
     "name": "stdout",
     "output_type": "stream",
     "text": [
      "`Forecaster` refitted using the best-found lags and parameters, and the whole data set: \n",
      "  Lags: [ 1  2  3  4  5  6  7  8  9 10 11 12 13 14 15 16 17 18 19 20] \n",
      "  Parameters: {'alpha': 1e-05}\n",
      "  Backtesting metric: 3.7050474436816807\n",
      "('Kenya', 'Discount Stickers', 'Kaggle')\n",
      "Test error (RMSE): 1.75\n",
      "Test error (MAPE): 6.37%\n",
      "[LightGBM] [Info] Auto-choosing row-wise multi-threading, the overhead of testing was 0.002990 seconds.\n",
      "You can set `force_row_wise=true` to remove the overhead.\n",
      "And if memory is not enough, you can set `force_col_wise=true`.\n",
      "[LightGBM] [Info] Total Bins 90\n",
      "[LightGBM] [Info] Number of data points in the train set: 1989, number of used features: 6\n",
      "[LightGBM] [Info] Start training from score 13.270488\n"
     ]
    },
    {
     "data": {
      "application/vnd.jupyter.widget-view+json": {
       "model_id": "6dbe7e3b32e9435e8c8f23a58763bbcc",
       "version_major": 2,
       "version_minor": 0
      },
      "text/plain": [
       "lags grid:   0%|          | 0/3 [00:00<?, ?it/s]"
      ]
     },
     "metadata": {},
     "output_type": "display_data"
    },
    {
     "data": {
      "application/vnd.jupyter.widget-view+json": {
       "model_id": "8815247d351f4d109f866a2f1455dc0b",
       "version_major": 2,
       "version_minor": 0
      },
      "text/plain": [
       "params grid:   0%|          | 0/10 [00:00<?, ?it/s]"
      ]
     },
     "metadata": {},
     "output_type": "display_data"
    },
    {
     "name": "stdout",
     "output_type": "stream",
     "text": [
      "`Forecaster` refitted using the best-found lags and parameters, and the whole data set: \n",
      "  Lags: [ 1  2  3  4  5  6  7  8  9 10 11 12] \n",
      "  Parameters: {'alpha': 1e-05}\n",
      "  Backtesting metric: 13.613781521206805\n",
      "('Kenya', 'Discount Stickers', 'Kaggle Tiers')\n",
      "Test error (RMSE): 2.03\n",
      "Test error (MAPE): 9.08%\n",
      "[LightGBM] [Info] Auto-choosing col-wise multi-threading, the overhead of testing was 0.000445 seconds.\n",
      "You can set `force_col_wise=true` to remove the overhead.\n",
      "[LightGBM] [Info] Total Bins 60\n",
      "[LightGBM] [Info] Number of data points in the train set: 1989, number of used features: 6\n",
      "[LightGBM] [Info] Start training from score 6.999246\n"
     ]
    },
    {
     "data": {
      "application/vnd.jupyter.widget-view+json": {
       "model_id": "a5cab6a3a6464063bcf84897274f9bcc",
       "version_major": 2,
       "version_minor": 0
      },
      "text/plain": [
       "lags grid:   0%|          | 0/3 [00:00<?, ?it/s]"
      ]
     },
     "metadata": {},
     "output_type": "display_data"
    },
    {
     "data": {
      "application/vnd.jupyter.widget-view+json": {
       "model_id": "5e840afac42844e89c9753761d47d363",
       "version_major": 2,
       "version_minor": 0
      },
      "text/plain": [
       "params grid:   0%|          | 0/10 [00:00<?, ?it/s]"
      ]
     },
     "metadata": {},
     "output_type": "display_data"
    },
    {
     "name": "stdout",
     "output_type": "stream",
     "text": [
      "`Forecaster` refitted using the best-found lags and parameters, and the whole data set: \n",
      "  Lags: [ 1  2  3  4  5  6  7  8  9 10 11 12 13 14 15 16 17 18 19 20] \n",
      "  Parameters: {'alpha': 3.593813663804626}\n",
      "  Backtesting metric: 0.9681456345913831\n",
      "('Kenya', 'Discount Stickers', 'Kerneler')\n",
      "Test error (RMSE): 2.21\n",
      "Test error (MAPE): 18.45%\n",
      "[LightGBM] [Info] Auto-choosing col-wise multi-threading, the overhead of testing was 0.000084 seconds.\n",
      "You can set `force_col_wise=true` to remove the overhead.\n",
      "[LightGBM] [Info] Total Bins 78\n",
      "[LightGBM] [Info] Number of data points in the train set: 1989, number of used features: 6\n",
      "[LightGBM] [Info] Start training from score 8.441931\n"
     ]
    },
    {
     "data": {
      "application/vnd.jupyter.widget-view+json": {
       "model_id": "c2d1ca48061b4b4880450875bdf6d048",
       "version_major": 2,
       "version_minor": 0
      },
      "text/plain": [
       "lags grid:   0%|          | 0/3 [00:00<?, ?it/s]"
      ]
     },
     "metadata": {},
     "output_type": "display_data"
    },
    {
     "data": {
      "application/vnd.jupyter.widget-view+json": {
       "model_id": "5a82701318ef459d81ad953636b9ccd0",
       "version_major": 2,
       "version_minor": 0
      },
      "text/plain": [
       "params grid:   0%|          | 0/10 [00:00<?, ?it/s]"
      ]
     },
     "metadata": {},
     "output_type": "display_data"
    },
    {
     "ename": "KeyboardInterrupt",
     "evalue": "",
     "output_type": "error",
     "traceback": [
      "\u001b[1;31m---------------------------------------------------------------------------\u001b[0m",
      "\u001b[1;31mKeyboardInterrupt\u001b[0m                         Traceback (most recent call last)",
      "Cell \u001b[1;32mIn[60], line 33\u001b[0m\n\u001b[0;32m     29\u001b[0m param_grid \u001b[38;5;241m=\u001b[39m {\u001b[38;5;124m'\u001b[39m\u001b[38;5;124malpha\u001b[39m\u001b[38;5;124m'\u001b[39m: np\u001b[38;5;241m.\u001b[39mlogspace(\u001b[38;5;241m-\u001b[39m\u001b[38;5;241m5\u001b[39m, \u001b[38;5;241m5\u001b[39m, \u001b[38;5;241m10\u001b[39m)}\n\u001b[0;32m     31\u001b[0m lags_grid \u001b[38;5;241m=\u001b[39m [\u001b[38;5;241m5\u001b[39m, \u001b[38;5;241m12\u001b[39m, \u001b[38;5;241m20\u001b[39m]\n\u001b[1;32m---> 33\u001b[0m results_grid \u001b[38;5;241m=\u001b[39m \u001b[43mgrid_search_forecaster\u001b[49m\u001b[43m(\u001b[49m\n\u001b[0;32m     34\u001b[0m \u001b[43m                    \u001b[49m\u001b[43mforecaster\u001b[49m\u001b[43m         \u001b[49m\u001b[38;5;241;43m=\u001b[39;49m\u001b[43m \u001b[49m\u001b[43mforecaster\u001b[49m\u001b[43m,\u001b[49m\n\u001b[0;32m     35\u001b[0m \u001b[43m                    \u001b[49m\u001b[43my\u001b[49m\u001b[43m                  \u001b[49m\u001b[38;5;241;43m=\u001b[39;49m\u001b[43m \u001b[49m\u001b[43mdata_train\u001b[49m\u001b[43m[\u001b[49m\u001b[38;5;124;43m'\u001b[39;49m\u001b[38;5;124;43mnum_sold\u001b[39;49m\u001b[38;5;124;43m'\u001b[39;49m\u001b[43m]\u001b[49m\u001b[43m,\u001b[49m\n\u001b[0;32m     36\u001b[0m \u001b[43m                    \u001b[49m\u001b[43mcv\u001b[49m\u001b[43m                 \u001b[49m\u001b[38;5;241;43m=\u001b[39;49m\u001b[43m \u001b[49m\u001b[43mcv\u001b[49m\u001b[43m,\u001b[49m\n\u001b[0;32m     37\u001b[0m \u001b[43m                    \u001b[49m\u001b[43mparam_grid\u001b[49m\u001b[43m         \u001b[49m\u001b[38;5;241;43m=\u001b[39;49m\u001b[43m \u001b[49m\u001b[43mparam_grid\u001b[49m\u001b[43m,\u001b[49m\n\u001b[0;32m     38\u001b[0m \u001b[43m                    \u001b[49m\u001b[43mlags_grid\u001b[49m\u001b[43m          \u001b[49m\u001b[38;5;241;43m=\u001b[39;49m\u001b[43m \u001b[49m\u001b[43mlags_grid\u001b[49m\u001b[43m,\u001b[49m\n\u001b[0;32m     39\u001b[0m \u001b[43m                    \u001b[49m\u001b[43mmetric\u001b[49m\u001b[43m             \u001b[49m\u001b[38;5;241;43m=\u001b[39;49m\u001b[43m \u001b[49m\u001b[38;5;124;43m'\u001b[39;49m\u001b[38;5;124;43mmean_squared_error\u001b[39;49m\u001b[38;5;124;43m'\u001b[39;49m\u001b[43m,\u001b[49m\n\u001b[0;32m     40\u001b[0m \u001b[43m                    \u001b[49m\u001b[43mreturn_best\u001b[49m\u001b[43m        \u001b[49m\u001b[38;5;241;43m=\u001b[39;49m\u001b[43m \u001b[49m\u001b[38;5;28;43;01mTrue\u001b[39;49;00m\u001b[43m,\u001b[49m\n\u001b[0;32m     41\u001b[0m \u001b[43m                    \u001b[49m\u001b[43mn_jobs\u001b[49m\u001b[43m             \u001b[49m\u001b[38;5;241;43m=\u001b[39;49m\u001b[43m \u001b[49m\u001b[38;5;124;43m'\u001b[39;49m\u001b[38;5;124;43mauto\u001b[39;49m\u001b[38;5;124;43m'\u001b[39;49m\u001b[43m,\u001b[49m\n\u001b[0;32m     42\u001b[0m \u001b[43m                    \u001b[49m\u001b[43mverbose\u001b[49m\u001b[43m            \u001b[49m\u001b[38;5;241;43m=\u001b[39;49m\u001b[43m \u001b[49m\u001b[38;5;28;43;01mFalse\u001b[39;49;00m\n\u001b[0;32m     43\u001b[0m \u001b[43m                \u001b[49m\u001b[43m)\u001b[49m\n\u001b[0;32m     45\u001b[0m predictions \u001b[38;5;241m=\u001b[39m forecaster\u001b[38;5;241m.\u001b[39mpredict()\n\u001b[0;32m     47\u001b[0m error_rmse \u001b[38;5;241m=\u001b[39m root_mean_squared_error(\n\u001b[0;32m     48\u001b[0m             y_true \u001b[38;5;241m=\u001b[39m data_test[\u001b[38;5;124m'\u001b[39m\u001b[38;5;124mnum_sold\u001b[39m\u001b[38;5;124m'\u001b[39m],\n\u001b[0;32m     49\u001b[0m             y_pred \u001b[38;5;241m=\u001b[39m predictions\n\u001b[0;32m     50\u001b[0m         )\n",
      "File \u001b[1;32mc:\\Users\\josin\\anaconda3\\envs\\skforecast_env\\Lib\\site-packages\\skforecast\\model_selection\\_search.py:114\u001b[0m, in \u001b[0;36mgrid_search_forecaster\u001b[1;34m(forecaster, y, cv, param_grid, metric, exog, lags_grid, return_best, n_jobs, verbose, show_progress, output_file)\u001b[0m\n\u001b[0;32m     49\u001b[0m \u001b[38;5;250m\u001b[39m\u001b[38;5;124;03m\"\"\"\u001b[39;00m\n\u001b[0;32m     50\u001b[0m \u001b[38;5;124;03mExhaustive search over specified parameter values for a Forecaster object.\u001b[39;00m\n\u001b[0;32m     51\u001b[0m \u001b[38;5;124;03mValidation is done using time series backtesting.\u001b[39;00m\n\u001b[1;32m   (...)\u001b[0m\n\u001b[0;32m    109\u001b[0m \u001b[38;5;124;03m\u001b[39;00m\n\u001b[0;32m    110\u001b[0m \u001b[38;5;124;03m\"\"\"\u001b[39;00m\n\u001b[0;32m    112\u001b[0m param_grid \u001b[38;5;241m=\u001b[39m \u001b[38;5;28mlist\u001b[39m(ParameterGrid(param_grid))\n\u001b[1;32m--> 114\u001b[0m results \u001b[38;5;241m=\u001b[39m \u001b[43m_evaluate_grid_hyperparameters\u001b[49m\u001b[43m(\u001b[49m\n\u001b[0;32m    115\u001b[0m \u001b[43m              \u001b[49m\u001b[43mforecaster\u001b[49m\u001b[43m    \u001b[49m\u001b[38;5;241;43m=\u001b[39;49m\u001b[43m \u001b[49m\u001b[43mforecaster\u001b[49m\u001b[43m,\u001b[49m\n\u001b[0;32m    116\u001b[0m \u001b[43m              \u001b[49m\u001b[43my\u001b[49m\u001b[43m             \u001b[49m\u001b[38;5;241;43m=\u001b[39;49m\u001b[43m \u001b[49m\u001b[43my\u001b[49m\u001b[43m,\u001b[49m\n\u001b[0;32m    117\u001b[0m \u001b[43m              \u001b[49m\u001b[43mcv\u001b[49m\u001b[43m            \u001b[49m\u001b[38;5;241;43m=\u001b[39;49m\u001b[43m \u001b[49m\u001b[43mcv\u001b[49m\u001b[43m,\u001b[49m\n\u001b[0;32m    118\u001b[0m \u001b[43m              \u001b[49m\u001b[43mparam_grid\u001b[49m\u001b[43m    \u001b[49m\u001b[38;5;241;43m=\u001b[39;49m\u001b[43m \u001b[49m\u001b[43mparam_grid\u001b[49m\u001b[43m,\u001b[49m\n\u001b[0;32m    119\u001b[0m \u001b[43m              \u001b[49m\u001b[43mmetric\u001b[49m\u001b[43m        \u001b[49m\u001b[38;5;241;43m=\u001b[39;49m\u001b[43m \u001b[49m\u001b[43mmetric\u001b[49m\u001b[43m,\u001b[49m\n\u001b[0;32m    120\u001b[0m \u001b[43m              \u001b[49m\u001b[43mexog\u001b[49m\u001b[43m          \u001b[49m\u001b[38;5;241;43m=\u001b[39;49m\u001b[43m \u001b[49m\u001b[43mexog\u001b[49m\u001b[43m,\u001b[49m\n\u001b[0;32m    121\u001b[0m \u001b[43m              \u001b[49m\u001b[43mlags_grid\u001b[49m\u001b[43m     \u001b[49m\u001b[38;5;241;43m=\u001b[39;49m\u001b[43m \u001b[49m\u001b[43mlags_grid\u001b[49m\u001b[43m,\u001b[49m\n\u001b[0;32m    122\u001b[0m \u001b[43m              \u001b[49m\u001b[43mreturn_best\u001b[49m\u001b[43m   \u001b[49m\u001b[38;5;241;43m=\u001b[39;49m\u001b[43m \u001b[49m\u001b[43mreturn_best\u001b[49m\u001b[43m,\u001b[49m\n\u001b[0;32m    123\u001b[0m \u001b[43m              \u001b[49m\u001b[43mn_jobs\u001b[49m\u001b[43m        \u001b[49m\u001b[38;5;241;43m=\u001b[39;49m\u001b[43m \u001b[49m\u001b[43mn_jobs\u001b[49m\u001b[43m,\u001b[49m\n\u001b[0;32m    124\u001b[0m \u001b[43m              \u001b[49m\u001b[43mverbose\u001b[49m\u001b[43m       \u001b[49m\u001b[38;5;241;43m=\u001b[39;49m\u001b[43m \u001b[49m\u001b[43mverbose\u001b[49m\u001b[43m,\u001b[49m\n\u001b[0;32m    125\u001b[0m \u001b[43m              \u001b[49m\u001b[43mshow_progress\u001b[49m\u001b[43m \u001b[49m\u001b[38;5;241;43m=\u001b[39;49m\u001b[43m \u001b[49m\u001b[43mshow_progress\u001b[49m\u001b[43m,\u001b[49m\n\u001b[0;32m    126\u001b[0m \u001b[43m              \u001b[49m\u001b[43moutput_file\u001b[49m\u001b[43m   \u001b[49m\u001b[38;5;241;43m=\u001b[39;49m\u001b[43m \u001b[49m\u001b[43moutput_file\u001b[49m\n\u001b[0;32m    127\u001b[0m \u001b[43m          \u001b[49m\u001b[43m)\u001b[49m\n\u001b[0;32m    129\u001b[0m \u001b[38;5;28;01mreturn\u001b[39;00m results\n",
      "File \u001b[1;32mc:\\Users\\josin\\anaconda3\\envs\\skforecast_env\\Lib\\site-packages\\skforecast\\model_selection\\_search.py:406\u001b[0m, in \u001b[0;36m_evaluate_grid_hyperparameters\u001b[1;34m(forecaster, y, cv, param_grid, metric, exog, lags_grid, return_best, n_jobs, verbose, show_progress, output_file)\u001b[0m\n\u001b[0;32m    402\u001b[0m forecaster\u001b[38;5;241m.\u001b[39mset_params(params)\n\u001b[0;32m    404\u001b[0m \u001b[38;5;28;01mif\u001b[39;00m cv_name \u001b[38;5;241m==\u001b[39m \u001b[38;5;124m'\u001b[39m\u001b[38;5;124mTimeSeriesFold\u001b[39m\u001b[38;5;124m'\u001b[39m:\n\u001b[1;32m--> 406\u001b[0m     metric_values \u001b[38;5;241m=\u001b[39m \u001b[43mbacktesting_forecaster\u001b[49m\u001b[43m(\u001b[49m\n\u001b[0;32m    407\u001b[0m \u001b[43m                        \u001b[49m\u001b[43mforecaster\u001b[49m\u001b[43m    \u001b[49m\u001b[38;5;241;43m=\u001b[39;49m\u001b[43m \u001b[49m\u001b[43mforecaster\u001b[49m\u001b[43m,\u001b[49m\n\u001b[0;32m    408\u001b[0m \u001b[43m                        \u001b[49m\u001b[43my\u001b[49m\u001b[43m             \u001b[49m\u001b[38;5;241;43m=\u001b[39;49m\u001b[43m \u001b[49m\u001b[43my\u001b[49m\u001b[43m,\u001b[49m\n\u001b[0;32m    409\u001b[0m \u001b[43m                        \u001b[49m\u001b[43mcv\u001b[49m\u001b[43m            \u001b[49m\u001b[38;5;241;43m=\u001b[39;49m\u001b[43m \u001b[49m\u001b[43mcv\u001b[49m\u001b[43m,\u001b[49m\n\u001b[0;32m    410\u001b[0m \u001b[43m                        \u001b[49m\u001b[43mmetric\u001b[49m\u001b[43m        \u001b[49m\u001b[38;5;241;43m=\u001b[39;49m\u001b[43m \u001b[49m\u001b[43mmetric\u001b[49m\u001b[43m,\u001b[49m\n\u001b[0;32m    411\u001b[0m \u001b[43m                        \u001b[49m\u001b[43mexog\u001b[49m\u001b[43m          \u001b[49m\u001b[38;5;241;43m=\u001b[39;49m\u001b[43m \u001b[49m\u001b[43mexog\u001b[49m\u001b[43m,\u001b[49m\n\u001b[0;32m    412\u001b[0m \u001b[43m                        \u001b[49m\u001b[43minterval\u001b[49m\u001b[43m      \u001b[49m\u001b[38;5;241;43m=\u001b[39;49m\u001b[43m \u001b[49m\u001b[38;5;28;43;01mNone\u001b[39;49;00m\u001b[43m,\u001b[49m\n\u001b[0;32m    413\u001b[0m \u001b[43m                        \u001b[49m\u001b[43mn_jobs\u001b[49m\u001b[43m        \u001b[49m\u001b[38;5;241;43m=\u001b[39;49m\u001b[43m \u001b[49m\u001b[43mn_jobs\u001b[49m\u001b[43m,\u001b[49m\n\u001b[0;32m    414\u001b[0m \u001b[43m                        \u001b[49m\u001b[43mverbose\u001b[49m\u001b[43m       \u001b[49m\u001b[38;5;241;43m=\u001b[39;49m\u001b[43m \u001b[49m\u001b[43mverbose\u001b[49m\u001b[43m,\u001b[49m\n\u001b[0;32m    415\u001b[0m \u001b[43m                        \u001b[49m\u001b[43mshow_progress\u001b[49m\u001b[43m \u001b[49m\u001b[38;5;241;43m=\u001b[39;49m\u001b[43m \u001b[49m\u001b[38;5;28;43;01mFalse\u001b[39;49;00m\n\u001b[0;32m    416\u001b[0m \u001b[43m                    \u001b[49m\u001b[43m)\u001b[49m[\u001b[38;5;241m0\u001b[39m]\n\u001b[0;32m    417\u001b[0m     metric_values \u001b[38;5;241m=\u001b[39m metric_values\u001b[38;5;241m.\u001b[39miloc[\u001b[38;5;241m0\u001b[39m, :]\u001b[38;5;241m.\u001b[39mto_list()\n\u001b[0;32m    419\u001b[0m \u001b[38;5;28;01melse\u001b[39;00m:\n",
      "File \u001b[1;32mc:\\Users\\josin\\anaconda3\\envs\\skforecast_env\\Lib\\site-packages\\skforecast\\model_selection\\_validation.py:435\u001b[0m, in \u001b[0;36mbacktesting_forecaster\u001b[1;34m(forecaster, y, cv, metric, exog, interval, n_boot, random_state, use_in_sample_residuals, use_binned_residuals, n_jobs, verbose, show_progress)\u001b[0m\n\u001b[0;32m    427\u001b[0m \u001b[38;5;28;01mif\u001b[39;00m \u001b[38;5;28mtype\u001b[39m(forecaster)\u001b[38;5;241m.\u001b[39m\u001b[38;5;18m__name__\u001b[39m \u001b[38;5;241m==\u001b[39m \u001b[38;5;124m'\u001b[39m\u001b[38;5;124mForecasterDirect\u001b[39m\u001b[38;5;124m'\u001b[39m \u001b[38;5;129;01mand\u001b[39;00m \\\n\u001b[0;32m    428\u001b[0m    forecaster\u001b[38;5;241m.\u001b[39msteps \u001b[38;5;241m<\u001b[39m cv\u001b[38;5;241m.\u001b[39msteps \u001b[38;5;241m+\u001b[39m cv\u001b[38;5;241m.\u001b[39mgap:\n\u001b[0;32m    429\u001b[0m     \u001b[38;5;28;01mraise\u001b[39;00m \u001b[38;5;167;01mValueError\u001b[39;00m(\n\u001b[0;32m    430\u001b[0m         (\u001b[38;5;124mf\u001b[39m\u001b[38;5;124m\"\u001b[39m\u001b[38;5;124mWhen using a ForecasterDirect, the combination of steps \u001b[39m\u001b[38;5;124m\"\u001b[39m\n\u001b[0;32m    431\u001b[0m          \u001b[38;5;124mf\u001b[39m\u001b[38;5;124m\"\u001b[39m\u001b[38;5;124m+ gap (\u001b[39m\u001b[38;5;132;01m{\u001b[39;00mcv\u001b[38;5;241m.\u001b[39msteps\u001b[38;5;250m \u001b[39m\u001b[38;5;241m+\u001b[39m\u001b[38;5;250m \u001b[39mcv\u001b[38;5;241m.\u001b[39mgap\u001b[38;5;132;01m}\u001b[39;00m\u001b[38;5;124m) cannot be greater than the `steps` parameter \u001b[39m\u001b[38;5;124m\"\u001b[39m\n\u001b[0;32m    432\u001b[0m          \u001b[38;5;124mf\u001b[39m\u001b[38;5;124m\"\u001b[39m\u001b[38;5;124mdeclared when the forecaster is initialized (\u001b[39m\u001b[38;5;132;01m{\u001b[39;00mforecaster\u001b[38;5;241m.\u001b[39msteps\u001b[38;5;132;01m}\u001b[39;00m\u001b[38;5;124m).\u001b[39m\u001b[38;5;124m\"\u001b[39m)\n\u001b[0;32m    433\u001b[0m     )\n\u001b[1;32m--> 435\u001b[0m metric_values, backtest_predictions \u001b[38;5;241m=\u001b[39m \u001b[43m_backtesting_forecaster\u001b[49m\u001b[43m(\u001b[49m\n\u001b[0;32m    436\u001b[0m \u001b[43m    \u001b[49m\u001b[43mforecaster\u001b[49m\u001b[43m              \u001b[49m\u001b[38;5;241;43m=\u001b[39;49m\u001b[43m \u001b[49m\u001b[43mforecaster\u001b[49m\u001b[43m,\u001b[49m\n\u001b[0;32m    437\u001b[0m \u001b[43m    \u001b[49m\u001b[43my\u001b[49m\u001b[43m                       \u001b[49m\u001b[38;5;241;43m=\u001b[39;49m\u001b[43m \u001b[49m\u001b[43my\u001b[49m\u001b[43m,\u001b[49m\n\u001b[0;32m    438\u001b[0m \u001b[43m    \u001b[49m\u001b[43mcv\u001b[49m\u001b[43m                      \u001b[49m\u001b[38;5;241;43m=\u001b[39;49m\u001b[43m \u001b[49m\u001b[43mcv\u001b[49m\u001b[43m,\u001b[49m\n\u001b[0;32m    439\u001b[0m \u001b[43m    \u001b[49m\u001b[43mmetric\u001b[49m\u001b[43m                  \u001b[49m\u001b[38;5;241;43m=\u001b[39;49m\u001b[43m \u001b[49m\u001b[43mmetric\u001b[49m\u001b[43m,\u001b[49m\n\u001b[0;32m    440\u001b[0m \u001b[43m    \u001b[49m\u001b[43mexog\u001b[49m\u001b[43m                    \u001b[49m\u001b[38;5;241;43m=\u001b[39;49m\u001b[43m \u001b[49m\u001b[43mexog\u001b[49m\u001b[43m,\u001b[49m\n\u001b[0;32m    441\u001b[0m \u001b[43m    \u001b[49m\u001b[43minterval\u001b[49m\u001b[43m                \u001b[49m\u001b[38;5;241;43m=\u001b[39;49m\u001b[43m \u001b[49m\u001b[43minterval\u001b[49m\u001b[43m,\u001b[49m\n\u001b[0;32m    442\u001b[0m \u001b[43m    \u001b[49m\u001b[43mn_boot\u001b[49m\u001b[43m                  \u001b[49m\u001b[38;5;241;43m=\u001b[39;49m\u001b[43m \u001b[49m\u001b[43mn_boot\u001b[49m\u001b[43m,\u001b[49m\n\u001b[0;32m    443\u001b[0m \u001b[43m    \u001b[49m\u001b[43mrandom_state\u001b[49m\u001b[43m            \u001b[49m\u001b[38;5;241;43m=\u001b[39;49m\u001b[43m \u001b[49m\u001b[43mrandom_state\u001b[49m\u001b[43m,\u001b[49m\n\u001b[0;32m    444\u001b[0m \u001b[43m    \u001b[49m\u001b[43muse_in_sample_residuals\u001b[49m\u001b[43m \u001b[49m\u001b[38;5;241;43m=\u001b[39;49m\u001b[43m \u001b[49m\u001b[43muse_in_sample_residuals\u001b[49m\u001b[43m,\u001b[49m\n\u001b[0;32m    445\u001b[0m \u001b[43m    \u001b[49m\u001b[43muse_binned_residuals\u001b[49m\u001b[43m    \u001b[49m\u001b[38;5;241;43m=\u001b[39;49m\u001b[43m \u001b[49m\u001b[43muse_binned_residuals\u001b[49m\u001b[43m,\u001b[49m\n\u001b[0;32m    446\u001b[0m \u001b[43m    \u001b[49m\u001b[43mn_jobs\u001b[49m\u001b[43m                  \u001b[49m\u001b[38;5;241;43m=\u001b[39;49m\u001b[43m \u001b[49m\u001b[43mn_jobs\u001b[49m\u001b[43m,\u001b[49m\n\u001b[0;32m    447\u001b[0m \u001b[43m    \u001b[49m\u001b[43mverbose\u001b[49m\u001b[43m                 \u001b[49m\u001b[38;5;241;43m=\u001b[39;49m\u001b[43m \u001b[49m\u001b[43mverbose\u001b[49m\u001b[43m,\u001b[49m\n\u001b[0;32m    448\u001b[0m \u001b[43m    \u001b[49m\u001b[43mshow_progress\u001b[49m\u001b[43m           \u001b[49m\u001b[38;5;241;43m=\u001b[39;49m\u001b[43m \u001b[49m\u001b[43mshow_progress\u001b[49m\n\u001b[0;32m    449\u001b[0m \u001b[43m\u001b[49m\u001b[43m)\u001b[49m\n\u001b[0;32m    451\u001b[0m \u001b[38;5;28;01mreturn\u001b[39;00m metric_values, backtest_predictions\n",
      "File \u001b[1;32mc:\\Users\\josin\\anaconda3\\envs\\skforecast_env\\Lib\\site-packages\\skforecast\\model_selection\\_validation.py:173\u001b[0m, in \u001b[0;36m_backtesting_forecaster\u001b[1;34m(forecaster, y, metric, cv, exog, interval, n_boot, random_state, use_in_sample_residuals, use_binned_residuals, n_jobs, verbose, show_progress)\u001b[0m\n\u001b[0;32m    169\u001b[0m \u001b[38;5;28;01mif\u001b[39;00m initial_train_size \u001b[38;5;129;01mis\u001b[39;00m \u001b[38;5;129;01mnot\u001b[39;00m \u001b[38;5;28;01mNone\u001b[39;00m:\n\u001b[0;32m    170\u001b[0m     \u001b[38;5;66;03m# First model training, this is done to allow parallelization when `refit`\u001b[39;00m\n\u001b[0;32m    171\u001b[0m     \u001b[38;5;66;03m# is `False`. The initial Forecaster fit is outside the auxiliary function.\u001b[39;00m\n\u001b[0;32m    172\u001b[0m     exog_train \u001b[38;5;241m=\u001b[39m exog\u001b[38;5;241m.\u001b[39miloc[:initial_train_size, ] \u001b[38;5;28;01mif\u001b[39;00m exog \u001b[38;5;129;01mis\u001b[39;00m \u001b[38;5;129;01mnot\u001b[39;00m \u001b[38;5;28;01mNone\u001b[39;00m \u001b[38;5;28;01melse\u001b[39;00m \u001b[38;5;28;01mNone\u001b[39;00m\n\u001b[1;32m--> 173\u001b[0m     \u001b[43mforecaster\u001b[49m\u001b[38;5;241;43m.\u001b[39;49m\u001b[43mfit\u001b[49m\u001b[43m(\u001b[49m\n\u001b[0;32m    174\u001b[0m \u001b[43m        \u001b[49m\u001b[43my\u001b[49m\u001b[43m                         \u001b[49m\u001b[38;5;241;43m=\u001b[39;49m\u001b[43m \u001b[49m\u001b[43my\u001b[49m\u001b[38;5;241;43m.\u001b[39;49m\u001b[43miloc\u001b[49m\u001b[43m[\u001b[49m\u001b[43m:\u001b[49m\u001b[43minitial_train_size\u001b[49m\u001b[43m,\u001b[49m\u001b[43m \u001b[49m\u001b[43m]\u001b[49m\u001b[43m,\u001b[49m\n\u001b[0;32m    175\u001b[0m \u001b[43m        \u001b[49m\u001b[43mexog\u001b[49m\u001b[43m                      \u001b[49m\u001b[38;5;241;43m=\u001b[39;49m\u001b[43m \u001b[49m\u001b[43mexog_train\u001b[49m\u001b[43m,\u001b[49m\n\u001b[0;32m    176\u001b[0m \u001b[43m        \u001b[49m\u001b[43mstore_in_sample_residuals\u001b[49m\u001b[43m \u001b[49m\u001b[38;5;241;43m=\u001b[39;49m\u001b[43m \u001b[49m\u001b[43mstore_in_sample_residuals\u001b[49m\n\u001b[0;32m    177\u001b[0m \u001b[43m    \u001b[49m\u001b[43m)\u001b[49m\n\u001b[0;32m    178\u001b[0m     \u001b[38;5;66;03m# This is done to allow parallelization when `refit` is `False`. The initial \u001b[39;00m\n\u001b[0;32m    179\u001b[0m     \u001b[38;5;66;03m# Forecaster fit is outside the auxiliary function.\u001b[39;00m\n\u001b[0;32m    180\u001b[0m     folds[\u001b[38;5;241m0\u001b[39m][\u001b[38;5;241m4\u001b[39m] \u001b[38;5;241m=\u001b[39m \u001b[38;5;28;01mFalse\u001b[39;00m\n",
      "File \u001b[1;32mc:\\Users\\josin\\anaconda3\\envs\\skforecast_env\\Lib\\site-packages\\skforecast\\direct\\_forecaster_direct.py:1144\u001b[0m, in \u001b[0;36mForecasterDirect.fit\u001b[1;34m(self, y, exog, store_last_window, store_in_sample_residuals)\u001b[0m\n\u001b[0;32m   1139\u001b[0m         residuals \u001b[38;5;241m=\u001b[39m \u001b[38;5;28;01mNone\u001b[39;00m\n\u001b[0;32m   1141\u001b[0m     \u001b[38;5;28;01mreturn\u001b[39;00m step, regressor, residuals\n\u001b[0;32m   1143\u001b[0m results_fit \u001b[38;5;241m=\u001b[39m (\n\u001b[1;32m-> 1144\u001b[0m     \u001b[43mParallel\u001b[49m\u001b[43m(\u001b[49m\u001b[43mn_jobs\u001b[49m\u001b[38;5;241;43m=\u001b[39;49m\u001b[38;5;28;43mself\u001b[39;49m\u001b[38;5;241;43m.\u001b[39;49m\u001b[43mn_jobs\u001b[49m\u001b[43m)\u001b[49m\n\u001b[0;32m   1145\u001b[0m \u001b[43m    \u001b[49m\u001b[43m(\u001b[49m\u001b[43mdelayed\u001b[49m\u001b[43m(\u001b[49m\u001b[43mfit_forecaster\u001b[49m\u001b[43m)\u001b[49m\n\u001b[0;32m   1146\u001b[0m \u001b[43m    \u001b[49m\u001b[43m(\u001b[49m\n\u001b[0;32m   1147\u001b[0m \u001b[43m        \u001b[49m\u001b[43mregressor\u001b[49m\u001b[43m                 \u001b[49m\u001b[38;5;241;43m=\u001b[39;49m\u001b[43m \u001b[49m\u001b[43mcopy\u001b[49m\u001b[43m(\u001b[49m\u001b[38;5;28;43mself\u001b[39;49m\u001b[38;5;241;43m.\u001b[39;49m\u001b[43mregressor\u001b[49m\u001b[43m)\u001b[49m\u001b[43m,\u001b[49m\n\u001b[0;32m   1148\u001b[0m \u001b[43m        \u001b[49m\u001b[43mX_train\u001b[49m\u001b[43m                   \u001b[49m\u001b[38;5;241;43m=\u001b[39;49m\u001b[43m \u001b[49m\u001b[43mX_train\u001b[49m\u001b[43m,\u001b[49m\n\u001b[0;32m   1149\u001b[0m \u001b[43m        \u001b[49m\u001b[43my_train\u001b[49m\u001b[43m                   \u001b[49m\u001b[38;5;241;43m=\u001b[39;49m\u001b[43m \u001b[49m\u001b[43my_train\u001b[49m\u001b[43m,\u001b[49m\n\u001b[0;32m   1150\u001b[0m \u001b[43m        \u001b[49m\u001b[43mstep\u001b[49m\u001b[43m                      \u001b[49m\u001b[38;5;241;43m=\u001b[39;49m\u001b[43m \u001b[49m\u001b[43mstep\u001b[49m\u001b[43m,\u001b[49m\n\u001b[0;32m   1151\u001b[0m \u001b[43m        \u001b[49m\u001b[43mstore_in_sample_residuals\u001b[49m\u001b[43m \u001b[49m\u001b[38;5;241;43m=\u001b[39;49m\u001b[43m \u001b[49m\u001b[43mstore_in_sample_residuals\u001b[49m\n\u001b[0;32m   1152\u001b[0m \u001b[43m    \u001b[49m\u001b[43m)\u001b[49m\n\u001b[0;32m   1153\u001b[0m \u001b[43m    \u001b[49m\u001b[38;5;28;43;01mfor\u001b[39;49;00m\u001b[43m \u001b[49m\u001b[43mstep\u001b[49m\u001b[43m \u001b[49m\u001b[38;5;129;43;01min\u001b[39;49;00m\u001b[43m \u001b[49m\u001b[38;5;28;43mrange\u001b[39;49m\u001b[43m(\u001b[49m\u001b[38;5;241;43m1\u001b[39;49m\u001b[43m,\u001b[49m\u001b[43m \u001b[49m\u001b[38;5;28;43mself\u001b[39;49m\u001b[38;5;241;43m.\u001b[39;49m\u001b[43msteps\u001b[49m\u001b[43m \u001b[49m\u001b[38;5;241;43m+\u001b[39;49m\u001b[43m \u001b[49m\u001b[38;5;241;43m1\u001b[39;49m\u001b[43m)\u001b[49m\u001b[43m)\u001b[49m\n\u001b[0;32m   1154\u001b[0m )\n\u001b[0;32m   1156\u001b[0m \u001b[38;5;28mself\u001b[39m\u001b[38;5;241m.\u001b[39mregressors_ \u001b[38;5;241m=\u001b[39m {step: regressor \u001b[38;5;28;01mfor\u001b[39;00m step, regressor, _ \u001b[38;5;129;01min\u001b[39;00m results_fit}\n\u001b[0;32m   1158\u001b[0m \u001b[38;5;28;01mif\u001b[39;00m store_in_sample_residuals:\n",
      "File \u001b[1;32mc:\\Users\\josin\\anaconda3\\envs\\skforecast_env\\Lib\\site-packages\\joblib\\parallel.py:1918\u001b[0m, in \u001b[0;36mParallel.__call__\u001b[1;34m(self, iterable)\u001b[0m\n\u001b[0;32m   1916\u001b[0m     output \u001b[38;5;241m=\u001b[39m \u001b[38;5;28mself\u001b[39m\u001b[38;5;241m.\u001b[39m_get_sequential_output(iterable)\n\u001b[0;32m   1917\u001b[0m     \u001b[38;5;28mnext\u001b[39m(output)\n\u001b[1;32m-> 1918\u001b[0m     \u001b[38;5;28;01mreturn\u001b[39;00m output \u001b[38;5;28;01mif\u001b[39;00m \u001b[38;5;28mself\u001b[39m\u001b[38;5;241m.\u001b[39mreturn_generator \u001b[38;5;28;01melse\u001b[39;00m \u001b[38;5;28;43mlist\u001b[39;49m\u001b[43m(\u001b[49m\u001b[43moutput\u001b[49m\u001b[43m)\u001b[49m\n\u001b[0;32m   1920\u001b[0m \u001b[38;5;66;03m# Let's create an ID that uniquely identifies the current call. If the\u001b[39;00m\n\u001b[0;32m   1921\u001b[0m \u001b[38;5;66;03m# call is interrupted early and that the same instance is immediately\u001b[39;00m\n\u001b[0;32m   1922\u001b[0m \u001b[38;5;66;03m# re-used, this id will be used to prevent workers that were\u001b[39;00m\n\u001b[0;32m   1923\u001b[0m \u001b[38;5;66;03m# concurrently finalizing a task from the previous call to run the\u001b[39;00m\n\u001b[0;32m   1924\u001b[0m \u001b[38;5;66;03m# callback.\u001b[39;00m\n\u001b[0;32m   1925\u001b[0m \u001b[38;5;28;01mwith\u001b[39;00m \u001b[38;5;28mself\u001b[39m\u001b[38;5;241m.\u001b[39m_lock:\n",
      "File \u001b[1;32mc:\\Users\\josin\\anaconda3\\envs\\skforecast_env\\Lib\\site-packages\\joblib\\parallel.py:1847\u001b[0m, in \u001b[0;36mParallel._get_sequential_output\u001b[1;34m(self, iterable)\u001b[0m\n\u001b[0;32m   1845\u001b[0m \u001b[38;5;28mself\u001b[39m\u001b[38;5;241m.\u001b[39mn_dispatched_batches \u001b[38;5;241m+\u001b[39m\u001b[38;5;241m=\u001b[39m \u001b[38;5;241m1\u001b[39m\n\u001b[0;32m   1846\u001b[0m \u001b[38;5;28mself\u001b[39m\u001b[38;5;241m.\u001b[39mn_dispatched_tasks \u001b[38;5;241m+\u001b[39m\u001b[38;5;241m=\u001b[39m \u001b[38;5;241m1\u001b[39m\n\u001b[1;32m-> 1847\u001b[0m res \u001b[38;5;241m=\u001b[39m \u001b[43mfunc\u001b[49m\u001b[43m(\u001b[49m\u001b[38;5;241;43m*\u001b[39;49m\u001b[43margs\u001b[49m\u001b[43m,\u001b[49m\u001b[43m \u001b[49m\u001b[38;5;241;43m*\u001b[39;49m\u001b[38;5;241;43m*\u001b[39;49m\u001b[43mkwargs\u001b[49m\u001b[43m)\u001b[49m\n\u001b[0;32m   1848\u001b[0m \u001b[38;5;28mself\u001b[39m\u001b[38;5;241m.\u001b[39mn_completed_tasks \u001b[38;5;241m+\u001b[39m\u001b[38;5;241m=\u001b[39m \u001b[38;5;241m1\u001b[39m\n\u001b[0;32m   1849\u001b[0m \u001b[38;5;28mself\u001b[39m\u001b[38;5;241m.\u001b[39mprint_progress()\n",
      "File \u001b[1;32mc:\\Users\\josin\\anaconda3\\envs\\skforecast_env\\Lib\\site-packages\\skforecast\\direct\\_forecaster_direct.py:1119\u001b[0m, in \u001b[0;36mForecasterDirect.fit.<locals>.fit_forecaster\u001b[1;34m(regressor, X_train, y_train, step, store_in_sample_residuals)\u001b[0m\n\u001b[0;32m   1112\u001b[0m     regressor\u001b[38;5;241m.\u001b[39mfit(\n\u001b[0;32m   1113\u001b[0m         X             \u001b[38;5;241m=\u001b[39m X_train_step,\n\u001b[0;32m   1114\u001b[0m         y             \u001b[38;5;241m=\u001b[39m y_train_step,\n\u001b[0;32m   1115\u001b[0m         sample_weight \u001b[38;5;241m=\u001b[39m sample_weight,\n\u001b[0;32m   1116\u001b[0m         \u001b[38;5;241m*\u001b[39m\u001b[38;5;241m*\u001b[39m\u001b[38;5;28mself\u001b[39m\u001b[38;5;241m.\u001b[39mfit_kwargs\n\u001b[0;32m   1117\u001b[0m     )\n\u001b[0;32m   1118\u001b[0m \u001b[38;5;28;01melse\u001b[39;00m:\n\u001b[1;32m-> 1119\u001b[0m     \u001b[43mregressor\u001b[49m\u001b[38;5;241;43m.\u001b[39;49m\u001b[43mfit\u001b[49m\u001b[43m(\u001b[49m\n\u001b[0;32m   1120\u001b[0m \u001b[43m        \u001b[49m\u001b[43mX\u001b[49m\u001b[43m \u001b[49m\u001b[38;5;241;43m=\u001b[39;49m\u001b[43m \u001b[49m\u001b[43mX_train_step\u001b[49m\u001b[43m,\u001b[49m\n\u001b[0;32m   1121\u001b[0m \u001b[43m        \u001b[49m\u001b[43my\u001b[49m\u001b[43m \u001b[49m\u001b[38;5;241;43m=\u001b[39;49m\u001b[43m \u001b[49m\u001b[43my_train_step\u001b[49m\u001b[43m,\u001b[49m\n\u001b[0;32m   1122\u001b[0m \u001b[43m        \u001b[49m\u001b[38;5;241;43m*\u001b[39;49m\u001b[38;5;241;43m*\u001b[39;49m\u001b[38;5;28;43mself\u001b[39;49m\u001b[38;5;241;43m.\u001b[39;49m\u001b[43mfit_kwargs\u001b[49m\n\u001b[0;32m   1123\u001b[0m \u001b[43m    \u001b[49m\u001b[43m)\u001b[49m\n\u001b[0;32m   1125\u001b[0m \u001b[38;5;66;03m# This is done to save time during fit in functions such as backtesting()\u001b[39;00m\n\u001b[0;32m   1126\u001b[0m \u001b[38;5;28;01mif\u001b[39;00m store_in_sample_residuals:\n",
      "File \u001b[1;32mc:\\Users\\josin\\anaconda3\\envs\\skforecast_env\\Lib\\site-packages\\sklearn\\base.py:1473\u001b[0m, in \u001b[0;36m_fit_context.<locals>.decorator.<locals>.wrapper\u001b[1;34m(estimator, *args, **kwargs)\u001b[0m\n\u001b[0;32m   1466\u001b[0m     estimator\u001b[38;5;241m.\u001b[39m_validate_params()\n\u001b[0;32m   1468\u001b[0m \u001b[38;5;28;01mwith\u001b[39;00m config_context(\n\u001b[0;32m   1469\u001b[0m     skip_parameter_validation\u001b[38;5;241m=\u001b[39m(\n\u001b[0;32m   1470\u001b[0m         prefer_skip_nested_validation \u001b[38;5;129;01mor\u001b[39;00m global_skip_validation\n\u001b[0;32m   1471\u001b[0m     )\n\u001b[0;32m   1472\u001b[0m ):\n\u001b[1;32m-> 1473\u001b[0m     \u001b[38;5;28;01mreturn\u001b[39;00m \u001b[43mfit_method\u001b[49m\u001b[43m(\u001b[49m\u001b[43mestimator\u001b[49m\u001b[43m,\u001b[49m\u001b[43m \u001b[49m\u001b[38;5;241;43m*\u001b[39;49m\u001b[43margs\u001b[49m\u001b[43m,\u001b[49m\u001b[43m \u001b[49m\u001b[38;5;241;43m*\u001b[39;49m\u001b[38;5;241;43m*\u001b[39;49m\u001b[43mkwargs\u001b[49m\u001b[43m)\u001b[49m\n",
      "File \u001b[1;32mc:\\Users\\josin\\anaconda3\\envs\\skforecast_env\\Lib\\site-packages\\sklearn\\linear_model\\_ridge.py:1242\u001b[0m, in \u001b[0;36mRidge.fit\u001b[1;34m(self, X, y, sample_weight)\u001b[0m\n\u001b[0;32m   1240\u001b[0m _accept_sparse \u001b[38;5;241m=\u001b[39m _get_valid_accept_sparse(sparse\u001b[38;5;241m.\u001b[39missparse(X), \u001b[38;5;28mself\u001b[39m\u001b[38;5;241m.\u001b[39msolver)\n\u001b[0;32m   1241\u001b[0m xp, _ \u001b[38;5;241m=\u001b[39m get_namespace(X, y, sample_weight)\n\u001b[1;32m-> 1242\u001b[0m X, y \u001b[38;5;241m=\u001b[39m \u001b[38;5;28;43mself\u001b[39;49m\u001b[38;5;241;43m.\u001b[39;49m\u001b[43m_validate_data\u001b[49m\u001b[43m(\u001b[49m\n\u001b[0;32m   1243\u001b[0m \u001b[43m    \u001b[49m\u001b[43mX\u001b[49m\u001b[43m,\u001b[49m\n\u001b[0;32m   1244\u001b[0m \u001b[43m    \u001b[49m\u001b[43my\u001b[49m\u001b[43m,\u001b[49m\n\u001b[0;32m   1245\u001b[0m \u001b[43m    \u001b[49m\u001b[43maccept_sparse\u001b[49m\u001b[38;5;241;43m=\u001b[39;49m\u001b[43m_accept_sparse\u001b[49m\u001b[43m,\u001b[49m\n\u001b[0;32m   1246\u001b[0m \u001b[43m    \u001b[49m\u001b[43mdtype\u001b[49m\u001b[38;5;241;43m=\u001b[39;49m\u001b[43m[\u001b[49m\u001b[43mxp\u001b[49m\u001b[38;5;241;43m.\u001b[39;49m\u001b[43mfloat64\u001b[49m\u001b[43m,\u001b[49m\u001b[43m \u001b[49m\u001b[43mxp\u001b[49m\u001b[38;5;241;43m.\u001b[39;49m\u001b[43mfloat32\u001b[49m\u001b[43m]\u001b[49m\u001b[43m,\u001b[49m\n\u001b[0;32m   1247\u001b[0m \u001b[43m    \u001b[49m\u001b[43mforce_writeable\u001b[49m\u001b[38;5;241;43m=\u001b[39;49m\u001b[38;5;28;43;01mTrue\u001b[39;49;00m\u001b[43m,\u001b[49m\n\u001b[0;32m   1248\u001b[0m \u001b[43m    \u001b[49m\u001b[43mmulti_output\u001b[49m\u001b[38;5;241;43m=\u001b[39;49m\u001b[38;5;28;43;01mTrue\u001b[39;49;00m\u001b[43m,\u001b[49m\n\u001b[0;32m   1249\u001b[0m \u001b[43m    \u001b[49m\u001b[43my_numeric\u001b[49m\u001b[38;5;241;43m=\u001b[39;49m\u001b[38;5;28;43;01mTrue\u001b[39;49;00m\u001b[43m,\u001b[49m\n\u001b[0;32m   1250\u001b[0m \u001b[43m\u001b[49m\u001b[43m)\u001b[49m\n\u001b[0;32m   1251\u001b[0m \u001b[38;5;28;01mreturn\u001b[39;00m \u001b[38;5;28msuper\u001b[39m()\u001b[38;5;241m.\u001b[39mfit(X, y, sample_weight\u001b[38;5;241m=\u001b[39msample_weight)\n",
      "File \u001b[1;32mc:\\Users\\josin\\anaconda3\\envs\\skforecast_env\\Lib\\site-packages\\sklearn\\base.py:650\u001b[0m, in \u001b[0;36mBaseEstimator._validate_data\u001b[1;34m(self, X, y, reset, validate_separately, cast_to_ndarray, **check_params)\u001b[0m\n\u001b[0;32m    648\u001b[0m         y \u001b[38;5;241m=\u001b[39m check_array(y, input_name\u001b[38;5;241m=\u001b[39m\u001b[38;5;124m\"\u001b[39m\u001b[38;5;124my\u001b[39m\u001b[38;5;124m\"\u001b[39m, \u001b[38;5;241m*\u001b[39m\u001b[38;5;241m*\u001b[39mcheck_y_params)\n\u001b[0;32m    649\u001b[0m     \u001b[38;5;28;01melse\u001b[39;00m:\n\u001b[1;32m--> 650\u001b[0m         X, y \u001b[38;5;241m=\u001b[39m \u001b[43mcheck_X_y\u001b[49m\u001b[43m(\u001b[49m\u001b[43mX\u001b[49m\u001b[43m,\u001b[49m\u001b[43m \u001b[49m\u001b[43my\u001b[49m\u001b[43m,\u001b[49m\u001b[43m \u001b[49m\u001b[38;5;241;43m*\u001b[39;49m\u001b[38;5;241;43m*\u001b[39;49m\u001b[43mcheck_params\u001b[49m\u001b[43m)\u001b[49m\n\u001b[0;32m    651\u001b[0m     out \u001b[38;5;241m=\u001b[39m X, y\n\u001b[0;32m    653\u001b[0m \u001b[38;5;28;01mif\u001b[39;00m \u001b[38;5;129;01mnot\u001b[39;00m no_val_X \u001b[38;5;129;01mand\u001b[39;00m check_params\u001b[38;5;241m.\u001b[39mget(\u001b[38;5;124m\"\u001b[39m\u001b[38;5;124mensure_2d\u001b[39m\u001b[38;5;124m\"\u001b[39m, \u001b[38;5;28;01mTrue\u001b[39;00m):\n",
      "File \u001b[1;32mc:\\Users\\josin\\anaconda3\\envs\\skforecast_env\\Lib\\site-packages\\sklearn\\utils\\validation.py:1301\u001b[0m, in \u001b[0;36mcheck_X_y\u001b[1;34m(X, y, accept_sparse, accept_large_sparse, dtype, order, copy, force_writeable, force_all_finite, ensure_2d, allow_nd, multi_output, ensure_min_samples, ensure_min_features, y_numeric, estimator)\u001b[0m\n\u001b[0;32m   1296\u001b[0m         estimator_name \u001b[38;5;241m=\u001b[39m _check_estimator_name(estimator)\n\u001b[0;32m   1297\u001b[0m     \u001b[38;5;28;01mraise\u001b[39;00m \u001b[38;5;167;01mValueError\u001b[39;00m(\n\u001b[0;32m   1298\u001b[0m         \u001b[38;5;124mf\u001b[39m\u001b[38;5;124m\"\u001b[39m\u001b[38;5;132;01m{\u001b[39;00mestimator_name\u001b[38;5;132;01m}\u001b[39;00m\u001b[38;5;124m requires y to be passed, but the target y is None\u001b[39m\u001b[38;5;124m\"\u001b[39m\n\u001b[0;32m   1299\u001b[0m     )\n\u001b[1;32m-> 1301\u001b[0m X \u001b[38;5;241m=\u001b[39m \u001b[43mcheck_array\u001b[49m\u001b[43m(\u001b[49m\n\u001b[0;32m   1302\u001b[0m \u001b[43m    \u001b[49m\u001b[43mX\u001b[49m\u001b[43m,\u001b[49m\n\u001b[0;32m   1303\u001b[0m \u001b[43m    \u001b[49m\u001b[43maccept_sparse\u001b[49m\u001b[38;5;241;43m=\u001b[39;49m\u001b[43maccept_sparse\u001b[49m\u001b[43m,\u001b[49m\n\u001b[0;32m   1304\u001b[0m \u001b[43m    \u001b[49m\u001b[43maccept_large_sparse\u001b[49m\u001b[38;5;241;43m=\u001b[39;49m\u001b[43maccept_large_sparse\u001b[49m\u001b[43m,\u001b[49m\n\u001b[0;32m   1305\u001b[0m \u001b[43m    \u001b[49m\u001b[43mdtype\u001b[49m\u001b[38;5;241;43m=\u001b[39;49m\u001b[43mdtype\u001b[49m\u001b[43m,\u001b[49m\n\u001b[0;32m   1306\u001b[0m \u001b[43m    \u001b[49m\u001b[43morder\u001b[49m\u001b[38;5;241;43m=\u001b[39;49m\u001b[43morder\u001b[49m\u001b[43m,\u001b[49m\n\u001b[0;32m   1307\u001b[0m \u001b[43m    \u001b[49m\u001b[43mcopy\u001b[49m\u001b[38;5;241;43m=\u001b[39;49m\u001b[43mcopy\u001b[49m\u001b[43m,\u001b[49m\n\u001b[0;32m   1308\u001b[0m \u001b[43m    \u001b[49m\u001b[43mforce_writeable\u001b[49m\u001b[38;5;241;43m=\u001b[39;49m\u001b[43mforce_writeable\u001b[49m\u001b[43m,\u001b[49m\n\u001b[0;32m   1309\u001b[0m \u001b[43m    \u001b[49m\u001b[43mforce_all_finite\u001b[49m\u001b[38;5;241;43m=\u001b[39;49m\u001b[43mforce_all_finite\u001b[49m\u001b[43m,\u001b[49m\n\u001b[0;32m   1310\u001b[0m \u001b[43m    \u001b[49m\u001b[43mensure_2d\u001b[49m\u001b[38;5;241;43m=\u001b[39;49m\u001b[43mensure_2d\u001b[49m\u001b[43m,\u001b[49m\n\u001b[0;32m   1311\u001b[0m \u001b[43m    \u001b[49m\u001b[43mallow_nd\u001b[49m\u001b[38;5;241;43m=\u001b[39;49m\u001b[43mallow_nd\u001b[49m\u001b[43m,\u001b[49m\n\u001b[0;32m   1312\u001b[0m \u001b[43m    \u001b[49m\u001b[43mensure_min_samples\u001b[49m\u001b[38;5;241;43m=\u001b[39;49m\u001b[43mensure_min_samples\u001b[49m\u001b[43m,\u001b[49m\n\u001b[0;32m   1313\u001b[0m \u001b[43m    \u001b[49m\u001b[43mensure_min_features\u001b[49m\u001b[38;5;241;43m=\u001b[39;49m\u001b[43mensure_min_features\u001b[49m\u001b[43m,\u001b[49m\n\u001b[0;32m   1314\u001b[0m \u001b[43m    \u001b[49m\u001b[43mestimator\u001b[49m\u001b[38;5;241;43m=\u001b[39;49m\u001b[43mestimator\u001b[49m\u001b[43m,\u001b[49m\n\u001b[0;32m   1315\u001b[0m \u001b[43m    \u001b[49m\u001b[43minput_name\u001b[49m\u001b[38;5;241;43m=\u001b[39;49m\u001b[38;5;124;43m\"\u001b[39;49m\u001b[38;5;124;43mX\u001b[39;49m\u001b[38;5;124;43m\"\u001b[39;49m\u001b[43m,\u001b[49m\n\u001b[0;32m   1316\u001b[0m \u001b[43m\u001b[49m\u001b[43m)\u001b[49m\n\u001b[0;32m   1318\u001b[0m y \u001b[38;5;241m=\u001b[39m _check_y(y, multi_output\u001b[38;5;241m=\u001b[39mmulti_output, y_numeric\u001b[38;5;241m=\u001b[39my_numeric, estimator\u001b[38;5;241m=\u001b[39mestimator)\n\u001b[0;32m   1320\u001b[0m check_consistent_length(X, y)\n",
      "File \u001b[1;32mc:\\Users\\josin\\anaconda3\\envs\\skforecast_env\\Lib\\site-packages\\sklearn\\utils\\validation.py:1064\u001b[0m, in \u001b[0;36mcheck_array\u001b[1;34m(array, accept_sparse, accept_large_sparse, dtype, order, copy, force_writeable, force_all_finite, ensure_2d, allow_nd, ensure_min_samples, ensure_min_features, estimator, input_name)\u001b[0m\n\u001b[0;32m   1058\u001b[0m     \u001b[38;5;28;01mraise\u001b[39;00m \u001b[38;5;167;01mValueError\u001b[39;00m(\n\u001b[0;32m   1059\u001b[0m         \u001b[38;5;124m\"\u001b[39m\u001b[38;5;124mFound array with dim \u001b[39m\u001b[38;5;132;01m%d\u001b[39;00m\u001b[38;5;124m. \u001b[39m\u001b[38;5;132;01m%s\u001b[39;00m\u001b[38;5;124m expected <= 2.\u001b[39m\u001b[38;5;124m\"\u001b[39m\n\u001b[0;32m   1060\u001b[0m         \u001b[38;5;241m%\u001b[39m (array\u001b[38;5;241m.\u001b[39mndim, estimator_name)\n\u001b[0;32m   1061\u001b[0m     )\n\u001b[0;32m   1063\u001b[0m \u001b[38;5;28;01mif\u001b[39;00m force_all_finite:\n\u001b[1;32m-> 1064\u001b[0m     \u001b[43m_assert_all_finite\u001b[49m\u001b[43m(\u001b[49m\n\u001b[0;32m   1065\u001b[0m \u001b[43m        \u001b[49m\u001b[43marray\u001b[49m\u001b[43m,\u001b[49m\n\u001b[0;32m   1066\u001b[0m \u001b[43m        \u001b[49m\u001b[43minput_name\u001b[49m\u001b[38;5;241;43m=\u001b[39;49m\u001b[43minput_name\u001b[49m\u001b[43m,\u001b[49m\n\u001b[0;32m   1067\u001b[0m \u001b[43m        \u001b[49m\u001b[43mestimator_name\u001b[49m\u001b[38;5;241;43m=\u001b[39;49m\u001b[43mestimator_name\u001b[49m\u001b[43m,\u001b[49m\n\u001b[0;32m   1068\u001b[0m \u001b[43m        \u001b[49m\u001b[43mallow_nan\u001b[49m\u001b[38;5;241;43m=\u001b[39;49m\u001b[43mforce_all_finite\u001b[49m\u001b[43m \u001b[49m\u001b[38;5;241;43m==\u001b[39;49m\u001b[43m \u001b[49m\u001b[38;5;124;43m\"\u001b[39;49m\u001b[38;5;124;43mallow-nan\u001b[39;49m\u001b[38;5;124;43m\"\u001b[39;49m\u001b[43m,\u001b[49m\n\u001b[0;32m   1069\u001b[0m \u001b[43m    \u001b[49m\u001b[43m)\u001b[49m\n\u001b[0;32m   1071\u001b[0m \u001b[38;5;28;01mif\u001b[39;00m copy:\n\u001b[0;32m   1072\u001b[0m     \u001b[38;5;28;01mif\u001b[39;00m _is_numpy_namespace(xp):\n\u001b[0;32m   1073\u001b[0m         \u001b[38;5;66;03m# only make a copy if `array` and `array_orig` may share memory`\u001b[39;00m\n",
      "File \u001b[1;32mc:\\Users\\josin\\anaconda3\\envs\\skforecast_env\\Lib\\site-packages\\sklearn\\utils\\validation.py:119\u001b[0m, in \u001b[0;36m_assert_all_finite\u001b[1;34m(X, allow_nan, msg_dtype, estimator_name, input_name)\u001b[0m\n\u001b[0;32m    114\u001b[0m \u001b[38;5;66;03m# First try an O(n) time, O(1) space solution for the common case that\u001b[39;00m\n\u001b[0;32m    115\u001b[0m \u001b[38;5;66;03m# everything is finite; fall back to O(n) space `np.isinf/isnan` or custom\u001b[39;00m\n\u001b[0;32m    116\u001b[0m \u001b[38;5;66;03m# Cython implementation to prevent false positives and provide a detailed\u001b[39;00m\n\u001b[0;32m    117\u001b[0m \u001b[38;5;66;03m# error message.\u001b[39;00m\n\u001b[0;32m    118\u001b[0m \u001b[38;5;28;01mwith\u001b[39;00m np\u001b[38;5;241m.\u001b[39merrstate(over\u001b[38;5;241m=\u001b[39m\u001b[38;5;124m\"\u001b[39m\u001b[38;5;124mignore\u001b[39m\u001b[38;5;124m\"\u001b[39m):\n\u001b[1;32m--> 119\u001b[0m     first_pass_isfinite \u001b[38;5;241m=\u001b[39m xp\u001b[38;5;241m.\u001b[39misfinite(\u001b[43mxp\u001b[49m\u001b[38;5;241;43m.\u001b[39;49m\u001b[43msum\u001b[49m\u001b[43m(\u001b[49m\u001b[43mX\u001b[49m\u001b[43m)\u001b[49m)\n\u001b[0;32m    120\u001b[0m \u001b[38;5;28;01mif\u001b[39;00m first_pass_isfinite:\n\u001b[0;32m    121\u001b[0m     \u001b[38;5;28;01mreturn\u001b[39;00m\n",
      "File \u001b[1;32mc:\\Users\\josin\\anaconda3\\envs\\skforecast_env\\Lib\\site-packages\\numpy\\core\\fromnumeric.py:2313\u001b[0m, in \u001b[0;36msum\u001b[1;34m(a, axis, dtype, out, keepdims, initial, where)\u001b[0m\n\u001b[0;32m   2310\u001b[0m         \u001b[38;5;28;01mreturn\u001b[39;00m out\n\u001b[0;32m   2311\u001b[0m     \u001b[38;5;28;01mreturn\u001b[39;00m res\n\u001b[1;32m-> 2313\u001b[0m \u001b[38;5;28;01mreturn\u001b[39;00m \u001b[43m_wrapreduction\u001b[49m\u001b[43m(\u001b[49m\u001b[43ma\u001b[49m\u001b[43m,\u001b[49m\u001b[43m \u001b[49m\u001b[43mnp\u001b[49m\u001b[38;5;241;43m.\u001b[39;49m\u001b[43madd\u001b[49m\u001b[43m,\u001b[49m\u001b[43m \u001b[49m\u001b[38;5;124;43m'\u001b[39;49m\u001b[38;5;124;43msum\u001b[39;49m\u001b[38;5;124;43m'\u001b[39;49m\u001b[43m,\u001b[49m\u001b[43m \u001b[49m\u001b[43maxis\u001b[49m\u001b[43m,\u001b[49m\u001b[43m \u001b[49m\u001b[43mdtype\u001b[49m\u001b[43m,\u001b[49m\u001b[43m \u001b[49m\u001b[43mout\u001b[49m\u001b[43m,\u001b[49m\u001b[43m \u001b[49m\u001b[43mkeepdims\u001b[49m\u001b[38;5;241;43m=\u001b[39;49m\u001b[43mkeepdims\u001b[49m\u001b[43m,\u001b[49m\n\u001b[0;32m   2314\u001b[0m \u001b[43m                      \u001b[49m\u001b[43minitial\u001b[49m\u001b[38;5;241;43m=\u001b[39;49m\u001b[43minitial\u001b[49m\u001b[43m,\u001b[49m\u001b[43m \u001b[49m\u001b[43mwhere\u001b[49m\u001b[38;5;241;43m=\u001b[39;49m\u001b[43mwhere\u001b[49m\u001b[43m)\u001b[49m\n",
      "File \u001b[1;32mc:\\Users\\josin\\anaconda3\\envs\\skforecast_env\\Lib\\site-packages\\numpy\\core\\fromnumeric.py:88\u001b[0m, in \u001b[0;36m_wrapreduction\u001b[1;34m(obj, ufunc, method, axis, dtype, out, **kwargs)\u001b[0m\n\u001b[0;32m     85\u001b[0m         \u001b[38;5;28;01melse\u001b[39;00m:\n\u001b[0;32m     86\u001b[0m             \u001b[38;5;28;01mreturn\u001b[39;00m reduction(axis\u001b[38;5;241m=\u001b[39maxis, out\u001b[38;5;241m=\u001b[39mout, \u001b[38;5;241m*\u001b[39m\u001b[38;5;241m*\u001b[39mpasskwargs)\n\u001b[1;32m---> 88\u001b[0m \u001b[38;5;28;01mreturn\u001b[39;00m \u001b[43mufunc\u001b[49m\u001b[38;5;241;43m.\u001b[39;49m\u001b[43mreduce\u001b[49m\u001b[43m(\u001b[49m\u001b[43mobj\u001b[49m\u001b[43m,\u001b[49m\u001b[43m \u001b[49m\u001b[43maxis\u001b[49m\u001b[43m,\u001b[49m\u001b[43m \u001b[49m\u001b[43mdtype\u001b[49m\u001b[43m,\u001b[49m\u001b[43m \u001b[49m\u001b[43mout\u001b[49m\u001b[43m,\u001b[49m\u001b[43m \u001b[49m\u001b[38;5;241;43m*\u001b[39;49m\u001b[38;5;241;43m*\u001b[39;49m\u001b[43mpasskwargs\u001b[49m\u001b[43m)\u001b[49m\n",
      "\u001b[1;31mKeyboardInterrupt\u001b[0m: "
     ]
    }
   ],
   "source": [
    "steps = 562\n",
    "mape_list = []\n",
    "rmse_list = []\n",
    "for key in list(grouped_dataframes.keys()):\n",
    "    data_train = grouped_dataframes[key][:-steps]\n",
    "    data_test  = grouped_dataframes[key][-steps:]\n",
    "    \n",
    "    forecaster = ForecasterRecursive(\n",
    "                 regressor = LGBMRegressor(random_state=123),\n",
    "                 lags      = 6\n",
    "             )\n",
    "    forecaster.fit(y=data_train['num_sold'])\n",
    "\n",
    "    forecaster = ForecasterDirect(\n",
    "                 regressor     = Ridge(random_state=123),\n",
    "                 steps         = 562,\n",
    "                 lags          = 8,  # This value will be replaced in the grid search\n",
    "                 transformer_y = StandardScaler()\n",
    "             )\n",
    "\n",
    "    cv = TimeSeriesFold(\n",
    "         steps              = 36, \n",
    "         initial_train_size = int(len(data_train) * 0.5),\n",
    "         fixed_train_size   = False,\n",
    "         refit              = False,\n",
    "    )\n",
    "\n",
    "    param_grid = {'alpha': np.logspace(-5, 5, 10)}\n",
    "\n",
    "    lags_grid = [5, 12, 20]\n",
    "\n",
    "    results_grid = grid_search_forecaster(\n",
    "                        forecaster         = forecaster,\n",
    "                        y                  = data_train['num_sold'],\n",
    "                        cv                 = cv,\n",
    "                        param_grid         = param_grid,\n",
    "                        lags_grid          = lags_grid,\n",
    "                        metric             = 'mean_squared_error',\n",
    "                        return_best        = True,\n",
    "                        n_jobs             = 'auto',\n",
    "                        verbose            = False\n",
    "                    )\n",
    "    \n",
    "    predictions = forecaster.predict()\n",
    "    # grouped_dataframes[key]['prediction'] = predictions --> this should be done with the test data\n",
    "\n",
    "    error_rmse = root_mean_squared_error(\n",
    "                y_true = data_test['num_sold'],\n",
    "                y_pred = predictions\n",
    "            )\n",
    "    error_mape = mean_absolute_percentage_error(\n",
    "                y_true = data_test['num_sold'],\n",
    "                y_pred = predictions\n",
    "            )\n",
    "    \n",
    "    print(key)\n",
    "    rmse_list.append(error_rmse)\n",
    "    print(f\"Test error (RMSE): {round(error_rmse, 2)}\")\n",
    "    mape_list.append(error_mape)\n",
    "    print(f\"Test error (MAPE): {round(error_mape*100, 2)}%\")\n",
    "\n",
    "print('Mean RMSE: ', np.mean(rmse_list))\n",
    "print('Mean MAPE: ', np.mean(mape_list))\n",
    "\n"
   ]
  },
  {
   "cell_type": "code",
   "execution_count": 43,
   "metadata": {},
   "outputs": [
    {
     "data": {
      "text/plain": [
       "\" print('Mean RMSE: ', np.mean(rmse_list))\\nprint('Mean MAPE: ', np.mean(mape_list)) \""
      ]
     },
     "execution_count": 43,
     "metadata": {},
     "output_type": "execute_result"
    }
   ],
   "source": [
    "\"\"\" print('Mean RMSE: ', np.mean(rmse_list))\n",
    "print('Mean MAPE: ', np.mean(mape_list)) \"\"\""
   ]
  },
  {
   "cell_type": "markdown",
   "metadata": {},
   "source": [
    "SVR,BayesianRidge,\n",
    "SVR,BayesianRidge,\n"
   ]
  },
  {
   "cell_type": "code",
   "execution_count": 44,
   "metadata": {},
   "outputs": [],
   "source": [
    "random_state_regressors = [RandomForestRegressor, LGBMRegressor]"
   ]
  },
  {
   "cell_type": "code",
   "execution_count": 45,
   "metadata": {},
   "outputs": [
    {
     "name": "stdout",
     "output_type": "stream",
     "text": [
      "<class 'sklearn.ensemble._forest.RandomForestRegressor'>\n",
      "Test error (RMSE): 135.19\n",
      "Test error (MAPE): 23.36%\n",
      "[LightGBM] [Info] Auto-choosing col-wise multi-threading, the overhead of testing was 0.000464 seconds.\n",
      "You can set `force_col_wise=true` to remove the overhead.\n",
      "[LightGBM] [Info] Total Bins 1530\n",
      "[LightGBM] [Info] Number of data points in the train set: 1989, number of used features: 6\n",
      "[LightGBM] [Info] Start training from score 588.929613\n",
      "<class 'lightgbm.sklearn.LGBMRegressor'>\n",
      "Test error (RMSE): 127.15\n",
      "Test error (MAPE): 20.95%\n"
     ]
    },
    {
     "data": {
      "image/png": "[encoded data removed]",
      "text/plain": [
       "<Figure size 600x250 with 1 Axes>"
      ]
     },
     "metadata": {},
     "output_type": "display_data"
    },
    {
     "data": {
      "image/png": "[encoded data removed]",
      "text/plain": [
       "<Figure size 600x250 with 1 Axes>"
      ]
     },
     "metadata": {},
     "output_type": "display_data"
    }
   ],
   "source": [
    "for reg in random_state_regressors:\n",
    "    # Create and train forecaster\n",
    "    # ==============================================================================\n",
    "    forecaster = ForecasterRecursive(\n",
    "                    regressor = reg(random_state=123),\n",
    "                    lags      = 6\n",
    "                )\n",
    "    forecaster.fit(y=data_train['num_sold'])\n",
    "    forecaster\n",
    "\n",
    "    steps = 562\n",
    "    predictions = forecaster.predict(steps=steps)\n",
    "\n",
    "    # Plot predictions versus test data\n",
    "    # ==============================================================================\n",
    "    fig, ax = plt.subplots(figsize=(6, 2.5))\n",
    "    data_train['num_sold'].plot(ax=ax, label='train')\n",
    "    data_test['num_sold'].plot(ax=ax, label='test')\n",
    "    predictions.plot(ax=ax, label='predictions')\n",
    "    ax.legend()\n",
    "\n",
    "    # Test error\n",
    "    # ==============================================================================\n",
    "    error_rmse = root_mean_squared_error(\n",
    "                    y_true = data_test['num_sold'],\n",
    "                    y_pred = predictions\n",
    "                )\n",
    "    error_mape = mean_absolute_percentage_error(\n",
    "                    y_true = data_test['num_sold'],\n",
    "                    y_pred = predictions\n",
    "                )\n",
    "    print(reg)\n",
    "    print(f\"Test error (RMSE): {round(error_rmse, 2)}\")\n",
    "    print(f\"Test error (MAPE): {round(error_mape*100, 2)}%\")"
   ]
  },
  {
   "cell_type": "code",
   "execution_count": 46,
   "metadata": {},
   "outputs": [],
   "source": [
    "estimator_regressors = [SVR]"
   ]
  },
  {
   "cell_type": "code",
   "execution_count": 47,
   "metadata": {},
   "outputs": [
    {
     "name": "stdout",
     "output_type": "stream",
     "text": [
      "Test error (RMSE): 66.24\n",
      "Test error (MAPE): 8.6%\n"
     ]
    },
    {
     "data": {
      "image/png": "[encoded data removed]",
      "text/plain": [
       "<Figure size 600x250 with 1 Axes>"
      ]
     },
     "metadata": {},
     "output_type": "display_data"
    }
   ],
   "source": [
    "for reg in estimator_regressors:\n",
    "    # Create and train forecaster\n",
    "    # ==============================================================================\n",
    "    forecaster = ForecasterRecursive(\n",
    "                    regressor = reg(kernel='rbf', C=0.5, epsilon=0.1),\n",
    "                    lags      = 6\n",
    "                )\n",
    "    forecaster.fit(y=data_train['num_sold'])\n",
    "    forecaster\n",
    "\n",
    "    steps = 562\n",
    "    predictions = forecaster.predict(steps=steps)\n",
    "\n",
    "    # Plot predictions versus test data\n",
    "    # ==============================================================================\n",
    "    fig, ax = plt.subplots(figsize=(6, 2.5))\n",
    "    data_train['num_sold'].plot(ax=ax, label='train')\n",
    "    data_test['num_sold'].plot(ax=ax, label='test')\n",
    "    predictions.plot(ax=ax, label='predictions')\n",
    "    ax.legend()\n",
    "\n",
    "    # Test error\n",
    "    # ==============================================================================\n",
    "    error_rmse = root_mean_squared_error(\n",
    "                    y_true = data_test['num_sold'],\n",
    "                    y_pred = predictions\n",
    "                )\n",
    "    error_mape = mean_absolute_percentage_error(\n",
    "                    y_true = data_test['num_sold'],\n",
    "                    y_pred = predictions\n",
    "                )\n",
    "    print(f\"Test error (RMSE): {round(error_rmse, 2)}\")\n",
    "    print(f\"Test error (MAPE): {round(error_mape*100, 2)}%\")\n"
   ]
  },
  {
   "cell_type": "code",
   "execution_count": 48,
   "metadata": {},
   "outputs": [],
   "source": [
    "sarimax = [ForecasterSarimax]"
   ]
  },
  {
   "cell_type": "code",
   "execution_count": 49,
   "metadata": {},
   "outputs": [
    {
     "name": "stdout",
     "output_type": "stream",
     "text": [
      "Test error (RMSE): 66.24\n",
      "Test error (MAPE): 8.6%\n"
     ]
    },
    {
     "data": {
      "image/png": "[encoded data removed]",
      "text/plain": [
       "<Figure size 600x250 with 1 Axes>"
      ]
     },
     "metadata": {},
     "output_type": "display_data"
    }
   ],
   "source": [
    "for reg in estimator_regressors:\n",
    "    # Create and train forecaster\n",
    "    # ==============================================================================\n",
    "    forecaster = ForecasterRecursive(\n",
    "                    regressor = reg(kernel='rbf', C=0.5, epsilon=0.1),\n",
    "                    lags      = 6\n",
    "                )\n",
    "    forecaster.fit(y=data_train['num_sold'])\n",
    "    forecaster\n",
    "\n",
    "    steps = 562\n",
    "    predictions = forecaster.predict(steps=steps)\n",
    "\n",
    "    # Plot predictions versus test data\n",
    "    # ==============================================================================\n",
    "    fig, ax = plt.subplots(figsize=(6, 2.5))\n",
    "    data_train['num_sold'].plot(ax=ax, label='train')\n",
    "    data_test['num_sold'].plot(ax=ax, label='test')\n",
    "    predictions.plot(ax=ax, label='predictions')\n",
    "    ax.legend()\n",
    "\n",
    "    # Test error\n",
    "    # ==============================================================================\n",
    "    error_rmse = root_mean_squared_error(\n",
    "                    y_true = data_test['num_sold'],\n",
    "                    y_pred = predictions\n",
    "                )\n",
    "    error_mape = mean_absolute_percentage_error(\n",
    "                    y_true = data_test['num_sold'],\n",
    "                    y_pred = predictions\n",
    "                )\n",
    "    print(f\"Test error (RMSE): {round(error_rmse, 2)}\")\n",
    "    print(f\"Test error (MAPE): {round(error_mape*100, 2)}%\")"
   ]
  },
  {
   "cell_type": "code",
   "execution_count": 50,
   "metadata": {},
   "outputs": [],
   "source": [
    "# Libraries\n",
    "# ======================================================================================\n",
    "import numpy as np\n",
    "import pandas as pd\n",
    "from io import StringIO\n",
    "import contextlib\n",
    "import re\n",
    "import matplotlib.pyplot as plt\n",
    "plt.style.use('seaborn-v0_8-darkgrid')\n",
    "\n",
    "# pmdarima\n",
    "import pmdarima\n",
    "from pmdarima import ARIMA\n",
    "from pmdarima import auto_arima\n",
    "\n",
    "# statsmodels\n",
    "import statsmodels\n",
    "from statsmodels.tsa.statespace.sarimax import SARIMAX\n",
    "from statsmodels.tsa.stattools import adfuller\n",
    "from statsmodels.tsa.stattools import kpss\n",
    "from statsmodels.graphics.tsaplots import plot_acf, plot_pacf\n",
    "from statsmodels.tsa.seasonal import seasonal_decompose\n",
    "\n",
    "# skforecast\n",
    "import skforecast\n",
    "from skforecast.datasets import fetch_dataset\n",
    "from skforecast.plot import set_dark_theme\n",
    "from skforecast.sarimax import Sarimax\n",
    "from skforecast.recursive import ForecasterSarimax\n",
    "from skforecast.model_selection import TimeSeriesFold\n",
    "from skforecast.model_selection import backtesting_sarimax\n",
    "from skforecast.model_selection import grid_search_sarimax\n",
    "\n",
    "import warnings"
   ]
  },
  {
   "cell_type": "code",
   "execution_count": 51,
   "metadata": {},
   "outputs": [],
   "source": [
    "example_series = example_df['num_sold']"
   ]
  },
  {
   "cell_type": "code",
   "execution_count": 52,
   "metadata": {},
   "outputs": [
    {
     "data": {
      "image/png": "[encoded data removed]",
      "text/plain": [
       "<Figure size 900x600 with 8 Axes>"
      ]
     },
     "metadata": {},
     "output_type": "display_data"
    }
   ],
   "source": [
    "# Time series descoposition of original versus differenced series\n",
    "# ==============================================================================\n",
    "res_decompose = seasonal_decompose(example_series, model='additive', extrapolate_trend='freq')\n",
    "res_descompose_diff_2 = seasonal_decompose(example_series, model='additive', extrapolate_trend='freq')\n",
    "\n",
    "fig, axs = plt.subplots(nrows=4, ncols=2, figsize=(9, 6), sharex=True)\n",
    "\n",
    "res_decompose.observed.plot(ax=axs[0, 0])\n",
    "axs[0, 0].set_title('Original series', fontsize=12)\n",
    "res_decompose.trend.plot(ax=axs[1, 0])\n",
    "axs[1, 0].set_title('Trend', fontsize=12)\n",
    "res_decompose.seasonal.plot(ax=axs[2, 0])\n",
    "axs[2, 0].set_title('Seasonal', fontsize=12)\n",
    "res_decompose.resid.plot(ax=axs[3, 0])\n",
    "axs[3, 0].set_title('Residuals', fontsize=12)\n",
    "res_descompose_diff_2.observed.plot(ax=axs[0, 1])\n",
    "axs[0, 1].set_title('Differenced series (order=1)', fontsize=12)\n",
    "res_descompose_diff_2.trend.plot(ax=axs[1, 1])\n",
    "axs[1, 1].set_title('Trend', fontsize=12)\n",
    "res_descompose_diff_2.seasonal.plot(ax=axs[2, 1])\n",
    "axs[2, 1].set_title('Seasonal', fontsize=12)\n",
    "res_descompose_diff_2.resid.plot(ax=axs[3, 1])\n",
    "axs[3, 1].set_title('Residuals', fontsize=12)\n",
    "fig.suptitle('Time serie decomposition original series versus differenced series', fontsize=14)\n",
    "fig.tight_layout()"
   ]
  },
  {
   "cell_type": "code",
   "execution_count": 53,
   "metadata": {},
   "outputs": [],
   "source": [
    "# ARIMA model with ForecasterSarimax and skforecast Sarimax\n",
    "# ==============================================================================\n",
    "forecaster = ForecasterSarimax(\n",
    "                 regressor=Sarimax(order=(1, 1, 1), seasonal_order=(1, 1, 1, 12))\n",
    "             )\n",
    "forecaster.fit(y=data_train['num_sold'], suppress_warnings=True)\n",
    "\n",
    "# Prediction\n",
    "predictions = forecaster.predict(steps=len(data_test))"
   ]
  },
  {
   "cell_type": "code",
   "execution_count": 54,
   "metadata": {},
   "outputs": [
    {
     "data": {
      "text/plain": [
       "[skforecast.recursive._forecaster_sarimax.ForecasterSarimax]"
      ]
     },
     "execution_count": 54,
     "metadata": {},
     "output_type": "execute_result"
    }
   ],
   "source": [
    "sarimax"
   ]
  },
  {
   "cell_type": "code",
   "execution_count": 55,
   "metadata": {},
   "outputs": [
    {
     "name": "stdout",
     "output_type": "stream",
     "text": [
      "Test error (RMSE): 72.88\n",
      "Test error (MAPE): 8.65%\n"
     ]
    },
    {
     "data": {
      "image/png": "[encoded data removed]",
      "text/plain": [
       "<Figure size 600x250 with 1 Axes>"
      ]
     },
     "metadata": {},
     "output_type": "display_data"
    }
   ],
   "source": [
    "for reg in sarimax:\n",
    "    # Create and train forecaster\n",
    "    # ==============================================================================\n",
    "    forecaster = ForecasterSarimax(\n",
    "                    regressor = Sarimax(order=(1, 1, 1), seasonal_order=(1, 1, 1, 12)),\n",
    "                )\n",
    "    forecaster.fit(y=data_train['num_sold'])\n",
    "    forecaster\n",
    "\n",
    "    steps = 562\n",
    "    predictions = forecaster.predict(steps=steps)\n",
    "\n",
    "    # Plot predictions versus test data\n",
    "    # ==============================================================================\n",
    "    fig, ax = plt.subplots(figsize=(6, 2.5))\n",
    "    data_train['num_sold'].plot(ax=ax, label='train')\n",
    "    data_test['num_sold'].plot(ax=ax, label='test')\n",
    "    predictions.plot(ax=ax, label='predictions')\n",
    "    ax.legend()\n",
    "\n",
    "    # Test error\n",
    "    # ==============================================================================\n",
    "    error_rmse = root_mean_squared_error(\n",
    "                    y_true = data_test['num_sold'],\n",
    "                    y_pred = predictions\n",
    "                )\n",
    "    error_mape = mean_absolute_percentage_error(\n",
    "                    y_true = data_test['num_sold'],\n",
    "                    y_pred = predictions\n",
    "                )\n",
    "    print(f\"Test error (RMSE): {round(error_rmse, 2)}\")\n",
    "    print(f\"Test error (MAPE): {round(error_mape*100, 2)}%\")"
   ]
  },
  {
   "cell_type": "code",
   "execution_count": null,
   "metadata": {},
   "outputs": [],
   "source": []
  }
 ],
 "metadata": {
  "kernelspec": {
   "display_name": "skforecast_env",
   "language": "python",
   "name": "python3"
  },
  "language_info": {
   "codemirror_mode": {
    "name": "ipython",
    "version": 3
   },
   "file_extension": ".py",
   "mimetype": "text/x-python",
   "name": "python",
   "nbconvert_exporter": "python",
   "pygments_lexer": "ipython3",
   "version": "3.12.5"
  }
 },
 "nbformat": 4,
 "nbformat_minor": 2
}
